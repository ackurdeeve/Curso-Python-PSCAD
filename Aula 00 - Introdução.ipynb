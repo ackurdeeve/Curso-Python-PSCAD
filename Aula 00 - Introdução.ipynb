{
 "cells": [
  {
   "cell_type": "markdown",
   "metadata": {
    "toc": true
   },
   "source": [
    "<h1>Conteúdo<span class=\"tocSkip\"></span></h1>\n",
    "<div class=\"toc\"><ul class=\"toc-item\"><li><span><a href=\"#Introdução\" data-toc-modified-id=\"Introdução-1\"><span class=\"toc-item-num\">1&nbsp;&nbsp;</span>Introdução</a></span><ul class=\"toc-item\"><li><span><a href=\"#Objetivo\" data-toc-modified-id=\"Objetivo-1.1\"><span class=\"toc-item-num\">1.1&nbsp;&nbsp;</span>Objetivo</a></span></li><li><span><a href=\"#Motivação\" data-toc-modified-id=\"Motivação-1.2\"><span class=\"toc-item-num\">1.2&nbsp;&nbsp;</span>Motivação</a></span></li></ul></li><li><span><a href=\"#Sobre-a-linguagem-e-as-ferramentas\" data-toc-modified-id=\"Sobre-a-linguagem-e-as-ferramentas-2\"><span class=\"toc-item-num\">2&nbsp;&nbsp;</span>Sobre a linguagem e as ferramentas</a></span></li><li><span><a href=\"#nbextensions\" data-toc-modified-id=\"nbextensions-3\"><span class=\"toc-item-num\">3&nbsp;&nbsp;</span>nbextensions</a></span></li><li><span><a href=\"#Estrutura-do-curso\" data-toc-modified-id=\"Estrutura-do-curso-4\"><span class=\"toc-item-num\">4&nbsp;&nbsp;</span>Estrutura do curso</a></span></li><li><span><a href=\"#Recursos-para-aprendizado\" data-toc-modified-id=\"Recursos-para-aprendizado-5\"><span class=\"toc-item-num\">5&nbsp;&nbsp;</span>Recursos para aprendizado</a></span></li><li><span><a href=\"#Promessas\" data-toc-modified-id=\"Promessas-6\"><span class=\"toc-item-num\">6&nbsp;&nbsp;</span>Promessas</a></span></li></ul></div>"
   ]
  },
  {
   "cell_type": "markdown",
   "metadata": {},
   "source": [
    "# Introdução\n",
    "\n",
    "## Objetivo\n",
    "Ensinar os princípios básicos de programação em Python para poder resolver diferentes tarefas usando esta limguagem de programação. \n",
    "\n",
    "## Motivação\n",
    "\n",
    "No nosso meio académico a gente tem accesso a diferentes softwares de programação pagos. No entanto, na industria muitas vezes não tem disponíveis programas como o Matlab. Neste contexto fica necessário aprender a usar linguagens de programação livres. *R* e *Python* são as linguagens de programação livres mais usadas neste momemto. Por serem livres a comunidade de desenvolvimento é muto grande e constatemente estão liverando pacotes para resolver diversas tarefas. \n",
    "\n",
    "Recentemete, fazendo uma pesquisa de programação no *PSCAD* descubri que foi liberada uma livraría de automação ([Automation Library](https://hvdc.ca/pscad/automationlibrary)) que permite rodar várias simulações, mudar parámetros, entre outros, todo desde o *Python*. Como tivesse sido tão bom descubrir isso logo que eu comecei a usar *PSCAD* no mestrado, não queria que vocês tivessem que sofrer o mesmo tento que repetir casos uma e outra vez, esqueceno de mudar algum parámetro, mudar o nome, salvar resultados, entre outros kkk. Faz não muito tempo que eu comecei a aprender *Python*, mas pretendo ensinar para vocês tudo o que eu sei.\n",
    "\n",
    "Ao final deste curso vocês poderão:\n",
    "\n",
    "* Renomear centenas de arquivos\n",
    "* Plotar dados dos experimentos\n",
    "* Rodar o *PSCAD* desde python e automatizar as simulações.\n",
    "* Mudar definitivamente para o *Python* kkkkk\n",
    "\n",
    "![SAXS](imagens/PSCADAuto Lib1.jpg)\n",
    "\n",
    "# Sobre a linguagem e as ferramentas\n",
    "\n",
    "Python é uma linguagem interpretada bastante popular no meio científico devido à sua simplicidade e clareza de sintaxe, comunidade extensa, e, principalmente, pacotes prontos e de fácil uso para a maior parte das tarefas. Além disso, é totalmente gratuíta e compatível com Windows, Linux e Mac. Este curso utilizará alguns recursos exclusivos das versões mais recentes do Python, como f-strings, e é recomendado que seja instalada a distribuição [Anaconda](https://www.anaconda.com/download/). \n",
    "\n",
    "A vantagem do pacote Anaconda é que ela vem com muitos pacotes científicos pré-instalados. Este material supõe que o leitor esteja utilizando Windows, mas as diferenças entre Windows e Max/Linux, quanto a Python, são mínimas. Após a instalação, é possível iniciar uma seção de um Jupyter Notebook clicando no ícone do Jupyter ou escrevendo *jupyter notebook* no command prompt (cmd). Isso criará uma nova aba no seu navegador (Firefox, Chrome, etc), onde será possível navegar pelo sistema de arquivos, abrir e criar novos arquivos .ipynb.\n",
    "\n",
    "Para testar se a instalação ocorreu corretamente:\n",
    "\n",
    "* Apertar CTRL+R e digitar *cmd*\n",
    "* Digitar *cmd* na barra de endereço de uma janela do windows explorer.\n",
    "* Digite ```jupyter notebook```, que inicia o servidor dos notebooks (não feche a janela!) ou ```python```, que inicia o interpretador interativo, ou ```ipython```, que inicia o interpretador interativo melhorado.\n",
    "\n",
    "O ambiente de Jupyter Notebooks, onde este curso foi feito, possibilita utilizar vários *kernels* de várias linguagems. Inclusive, o nome Jupyter vem de *Julia, Python, R*, que são três linguagem com bastante aplicabilidade científica.\n",
    "\n",
    "Caso apareça alguma mensagem de erro, mencionando que o arquivo não pode ser encontrado, veja nestas guias como alterar a variável path, para o seu SO. [Windows](https://www.computerhope.com/issues/ch000549.htm), [Linux](https://linuxconfig.org/linux-path-environment-variable). Você pode sempre ir com o console até o diretório onde o Python foi instalado e rodar tudo por lá, ao invés de alterar a variável PATH.\n",
    "\n",
    "É possível utilizar editores de texto ou IDEs alternativas para a criação de scripts, como [Sublim Text](https://www.sublimetext.com/), [Notepad ++](https://notepad-plus-plus.org/download/v7.5.8.html), etc, mas o IDE do Jupyter Notebook possue a vantagem de juntar código e resultados, deixando os dados e a organização do pensamento organizados.\n",
    "\n",
    "No jupyter notebook é possível baixar o arquivo .py correspondente. Esse arquivo pode ser rodado  no terminal digitando ```python script.py```.\n",
    "\n",
    "# nbextensions\n",
    "\n",
    "Há algumas opções extras para Jupyter Notebooks que podem ser instaladas, chamadas de nbextensions. Durante as aulas, utilizarei algumas ferramentas extras dessas extensões. Por exemplo, a criação de um sumário automaticamente faz parte desse pacote. Para instalar o nbextensions, rode o seguinte código no console, caso a variável PATH tenha sido configurada corretamente.\n",
    "\n",
    "    conda install -c conda-forge jupyter_contrib_nbextensions\n",
    "    \n",
    "Depois configure-as pelo browser. \n",
    "\n",
    "Neste pacote de extensões é interessante habilitar *scratchpad* e *Variable Inspector* \n",
    "\n",
    "\n",
    "# Estrutura do curso\n",
    "\n",
    "1. 'Hello world', strings\n",
    "3. Operações matemáticas básicas, Variáveis\n",
    "2. Estruturas de dados. Listas, tuples, dicionários\n",
    "4. Loops e condicionais\n",
    "6. Instalação e uso de pacotes externos\n",
    "5. Funções. Definições e uso. Métodos internos\n",
    "8. Introdução a numpy\n",
    "9. Introdução a pandas\n",
    "10. Introdução a pyplot\n",
    "11. Ferramentas avançadas\n",
    "12. Python e PSCAD\n",
    "\n",
    "# Recursos para aprendizado\n",
    "\n",
    "Se vocês fiacam com perguntas que não foram abordadas neste curso os seguentes recursos podem ajudar a encontrar a resposta a suas duvidas:\n",
    "\n",
    "* [Stack Overflow](https://stackoverflow.com/), uma comunidade de perguntas e respostas. Grande parte de suas dúvidas já foram perguntadas anteriormente, provavelmente com boas respostas.\n",
    "* [Documentação oficial do Python](https://docs.python.org/3/)\n",
    "* [Automate the Boring Stuff with Python](https://automatetheboringstuff.com/)\n",
    "\n",
    "* Youtube:\n",
    "    * [Tutorial por Sendtex](https://www.youtube.com/watch?v=oVp1vrfL_w4&list=PLQVvvaa0QuDe8XSftW-RAxdo6OmaeL85M)\n",
    "    * [Tutorial por Socratica](https://www.youtube.com/watch?v=bY6m6_IIN94&list=PLi01XoE8jYohWFPpC17Z-wWhPOSuh8Er-)\n",
    "*  [PSCAD Automation reference](https://hvdc.ca/knowledge-base/topic:242/v:)\n",
    "\n",
    "# Promessas\n",
    "\n",
    "Talvez você consiga utilizar essa ferramenta adequadamente para resolver seus problemas, talvez não. Eu sou só um aluno de doutorado tentando transmitir o que eu sei e ajudar vocês. Não mostrarei como resolver os problemas de todos, mas sim algumas maneiras de resolver alguns problemas, depois você altera e aplica esses métodos para seus problemas pessoais.\n"
   ]
  }
 ],
 "metadata": {
  "hide_input": false,
  "kernelspec": {
   "display_name": "Python 3",
   "language": "python",
   "name": "python3"
  },
  "language_info": {
   "codemirror_mode": {
    "name": "ipython",
    "version": 3
   },
   "file_extension": ".py",
   "mimetype": "text/x-python",
   "name": "python",
   "nbconvert_exporter": "python",
   "pygments_lexer": "ipython3",
   "version": "3.6.2"
  },
  "latex_metadata": {
   "author": "Karl Jan Clinckspoor"
  },
  "toc": {
   "base_numbering": 1,
   "nav_menu": {},
   "number_sections": true,
   "sideBar": true,
   "skip_h1_title": false,
   "title_cell": "Conteúdo",
   "title_sidebar": "Conteúdo",
   "toc_cell": true,
   "toc_position": {},
   "toc_section_display": true,
   "toc_window_display": false
  },
  "varInspector": {
   "cols": {
    "lenName": 16,
    "lenType": 16,
    "lenVar": 40
   },
   "kernels_config": {
    "python": {
     "delete_cmd_postfix": "",
     "delete_cmd_prefix": "del ",
     "library": "var_list.py",
     "varRefreshCmd": "print(var_dic_list())"
    },
    "r": {
     "delete_cmd_postfix": ") ",
     "delete_cmd_prefix": "rm(",
     "library": "var_list.r",
     "varRefreshCmd": "cat(var_dic_list()) "
    }
   },
   "types_to_exclude": [
    "module",
    "function",
    "builtin_function_or_method",
    "instance",
    "_Feature"
   ],
   "window_display": false
  }
 },
 "nbformat": 4,
 "nbformat_minor": 2
}
