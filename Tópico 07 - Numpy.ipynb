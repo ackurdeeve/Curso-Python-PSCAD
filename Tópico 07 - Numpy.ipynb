{
 "cells": [
  {
   "cell_type": "markdown",
   "metadata": {
    "toc": true
   },
   "source": [
    "<h1>Conteúdo<span class=\"tocSkip\"></span></h1>\n",
    "<div class=\"toc\"><ul class=\"toc-item\"><li><span><a href=\"#Introdução\" data-toc-modified-id=\"Introdução-1\"><span class=\"toc-item-num\">1&nbsp;&nbsp;</span>Introdução</a></span></li><li><span><a href=\"#Uso\" data-toc-modified-id=\"Uso-2\"><span class=\"toc-item-num\">2&nbsp;&nbsp;</span>Uso</a></span><ul class=\"toc-item\"><li><span><a href=\"#Arrays-e-linspace\" data-toc-modified-id=\"Arrays-e-linspace-2.1\"><span class=\"toc-item-num\">2.1&nbsp;&nbsp;</span><em>Arrays</em> e <em>linspace</em></a></span></li><li><span><a href=\"#Mínimos-e-máximos\" data-toc-modified-id=\"Mínimos-e-máximos-2.2\"><span class=\"toc-item-num\">2.2&nbsp;&nbsp;</span>Mínimos e máximos</a></span></li><li><span><a href=\"#logspace-e-log10\" data-toc-modified-id=\"logspace-e-log10-2.3\"><span class=\"toc-item-num\">2.3&nbsp;&nbsp;</span><em>logspace</em> e <em>log10</em></a></span></li><li><span><a href=\"#Criação-de-arrays-a-partir-de-listas,-dimensões-maiores\" data-toc-modified-id=\"Criação-de-arrays-a-partir-de-listas,-dimensões-maiores-2.4\"><span class=\"toc-item-num\">2.4&nbsp;&nbsp;</span>Criação de arrays a partir de listas, dimensões maiores</a></span></li><li><span><a href=\"#Acessando-e-alterando-elementos\" data-toc-modified-id=\"Acessando-e-alterando-elementos-2.5\"><span class=\"toc-item-num\">2.5&nbsp;&nbsp;</span>Acessando e alterando elementos</a></span></li><li><span><a href=\"#random\" data-toc-modified-id=\"random-2.6\"><span class=\"toc-item-num\">2.6&nbsp;&nbsp;</span><em>random</em></a></span></li><li><span><a href=\"#Constantes\" data-toc-modified-id=\"Constantes-2.7\"><span class=\"toc-item-num\">2.7&nbsp;&nbsp;</span>Constantes</a></span></li><li><span><a href=\"#Multiplicação-de-arrays\" data-toc-modified-id=\"Multiplicação-de-arrays-2.8\"><span class=\"toc-item-num\">2.8&nbsp;&nbsp;</span>Multiplicação de arrays</a></span></li></ul></li></ul></div>"
   ]
  },
  {
   "cell_type": "markdown",
   "metadata": {},
   "source": [
    "# Introdução\n",
    "\n",
    "Numpy é um pacote para operações numéricas de alta eficiência. Uma enorme parte dos pacotes científicos no Python são construídos com base no numpy, então é bom conhecer um pouco sobre como funciona. Ao invés de se utilizar listas com números e loops for para operar sobre essas listas, é possível utilizar *numpy arrays* para realizar o mesmo mais facilmente, e mais rapidamente. Porém, tudo tem seu lado negativo. Numpy arrays não podem conter dados de tipos diferentes, então todos os itens numa array devem, necessariamente, ser, por exemplo, floats.\n",
    "\n",
    "# Uso\n",
    "\n",
    "É comum importar numpy e abreviá-lo como **np**."
   ]
  },
  {
   "cell_type": "code",
   "execution_count": 1,
   "metadata": {
    "collapsed": true
   },
   "outputs": [],
   "source": [
    "import numpy as np"
   ]
  },
  {
   "cell_type": "markdown",
   "metadata": {},
   "source": [
    "Caso você deseje procurar algo no numpy pelo nome, é possível utilizar o comando **lookfor**."
   ]
  },
  {
   "cell_type": "code",
   "execution_count": 2,
   "metadata": {},
   "outputs": [
    {
     "name": "stdout",
     "output_type": "stream",
     "text": [
      "Search results for 'singular value decomposition'\n",
      "-------------------------------------------------\n",
      "numpy.linalg.svd\n",
      "    Singular Value Decomposition.\n",
      "numpy.polyfit\n",
      "    Least squares polynomial fit.\n",
      "numpy.ma.polyfit\n",
      "    Least squares polynomial fit.\n",
      "numpy.linalg.pinv\n",
      "    Compute the (Moore-Penrose) pseudo-inverse of a matrix.\n",
      "numpy.polynomial.Hermite.fit\n",
      "    Least squares fit to data.\n",
      "numpy.polynomial.Hermite._fit\n",
      "    Least squares fit of Hermite series to data.\n",
      "numpy.polynomial.HermiteE.fit\n",
      "    Least squares fit to data.\n",
      "numpy.polynomial.Laguerre.fit\n",
      "    Least squares fit to data.\n",
      "numpy.polynomial.Legendre.fit\n",
      "    Least squares fit to data.\n",
      "numpy.polynomial.Chebyshev.fit\n",
      "    Least squares fit to data.\n",
      "numpy.polynomial.HermiteE._fit\n",
      "    Least squares fit of Hermite series to data.\n",
      "numpy.polynomial.Laguerre._fit\n",
      "    Least squares fit of Laguerre series to data.\n",
      "numpy.polynomial.Legendre._fit\n",
      "    Least squares fit of Legendre series to data.\n",
      "numpy.polynomial.Chebyshev._fit\n",
      "    Least squares fit of Chebyshev series to data.\n",
      "numpy.polynomial.Polynomial.fit\n",
      "    Least squares fit to data.\n",
      "numpy.polynomial.Polynomial._fit\n",
      "    Least-squares fit of a polynomial to data."
     ]
    }
   ],
   "source": [
    "np.lookfor('singular value decomposition')"
   ]
  },
  {
   "cell_type": "markdown",
   "metadata": {},
   "source": [
    "## *Arrays* e *linspace*\n",
    "\n",
    "Linspace cria um vetor numpy igualmente espaçado entre os pontos iniciais e finais (neste caso, ambos são inclusos). O número padrão de pontos nesse intervalo é 50."
   ]
  },
  {
   "cell_type": "code",
   "execution_count": 3,
   "metadata": {},
   "outputs": [
    {
     "name": "stdout",
     "output_type": "stream",
     "text": [
      "<class 'numpy.ndarray'>\n",
      "[ 0.          0.71428571  1.42857143  2.14285714  2.85714286  3.57142857\n",
      "  4.28571429  5.          5.71428571  6.42857143  7.14285714  7.85714286\n",
      "  8.57142857  9.28571429 10.        ]\n"
     ]
    }
   ],
   "source": [
    "x = np.linspace(0, 10, 15)\n",
    "print(type(x))\n",
    "print(x)"
   ]
  },
  {
   "cell_type": "markdown",
   "metadata": {},
   "source": [
    "Ao invés de ter que agir sobre todos os termos individualmente de uma array, podemos aplicar uma operação no array como se ela fosse um número qualquer, que a operação é automaticamente aplicada para todos os elementos."
   ]
  },
  {
   "cell_type": "code",
   "execution_count": 4,
   "metadata": {},
   "outputs": [
    {
     "name": "stdout",
     "output_type": "stream",
     "text": [
      "Curva senoidal:\n",
      " [ 0.          0.6550779   0.98990308  0.84078711  0.2806294  -0.41672165\n",
      " -0.91034694 -0.95892427 -0.53870529  0.14487449  0.75762842  0.999995\n",
      "  0.75348673  0.13861589 -0.54402111]\n",
      "\n",
      "Parábola de mínimo:\n",
      "[  5.          -1.63265306  -7.24489796 -11.83673469 -15.40816327\n",
      " -17.95918367 -19.48979592 -20.         -19.48979592 -17.95918367\n",
      " -15.40816327 -11.83673469  -7.24489796  -1.63265306   5.        ]\n"
     ]
    }
   ],
   "source": [
    "y1 = x * 2\n",
    "y2 = np.sin(x)\n",
    "y3 = x ** 2 - 10 * x + 5\n",
    "\n",
    "print(f'Curva senoidal:\\n {y2}\\n\\nParábola de mínimo:\\n{y3}')"
   ]
  },
  {
   "cell_type": "markdown",
   "metadata": {},
   "source": [
    "## Mínimos e máximos\n",
    "\n",
    "Conseguimos observar, pelos números, que de fato as operações foram aplicadas com sucesso. A curva senoidal varia de -1 a 1 e que há aparentemente um valor mínimo na parábola. Para encontrar o valor de mínimo, e seu índice podemos utilizar outras funções, **min** e **argmin**. Encontrar o índice do valor é útil quando quisermos correlacionar esse valor de mínimo com outros pontos de outras funções, se todas possuírem o mesmo *x*. O máximo e índice do máximo podem ser encontradas pelas funções análogas."
   ]
  },
  {
   "cell_type": "code",
   "execution_count": 5,
   "metadata": {},
   "outputs": [
    {
     "name": "stdout",
     "output_type": "stream",
     "text": [
      "-20.0 -20.0 -0.9589242746631385 5.0\n"
     ]
    }
   ],
   "source": [
    "y3_min = y3.min()\n",
    "y3_argmin = y3.argmin()\n",
    "\n",
    "print(y3_min, y3[y3_argmin], y2[y3_argmin], x[y3_argmin])"
   ]
  },
  {
   "cell_type": "markdown",
   "metadata": {},
   "source": [
    "Vemos por isso que os valores de mínimo encontrado por função e indexação são iguais, e que no ponto de mínimo da parábola, a função senoidal está perto de seu máximo (por coincidência).\n",
    "\n",
    "## *logspace* e *log10*\n",
    "\n",
    "Cria um array com os números espaçados igualmente na escala logarítmica (base 10). Útil para equações que são geralmente visualizadas na escala logarítmica. Os argumentos são valores das potências de 10 dos limites.\n",
    "\n",
    "A função *log10* é utilizada para aplicar o logaritmo de base 10 num array."
   ]
  },
  {
   "cell_type": "code",
   "execution_count": 6,
   "metadata": {},
   "outputs": [
    {
     "name": "stdout",
     "output_type": "stream",
     "text": [
      "[0. 0. 0. 0. 0. 0. 0. 0. 0. 0. 0. 0. 0. 0. 0. 0. 0. 0. 0. 0. 0. 0. 0. 0.\n",
      " 0. 0. 0. 0. 0. 0. 0. 0. 0. 0. 0. 0. 0. 0. 0. 0. 0. 0. 0. 0. 0. 0. 0. 0.\n",
      " 0. 0.]\n"
     ]
    }
   ],
   "source": [
    "x2 = np.logspace(-1, 1)\n",
    "\n",
    "# Equivalente a utilizar logspace\n",
    "x3 = np.linspace(-1, 1)\n",
    "x4 = 10 ** x3\n",
    "\n",
    "print(x2 - x4)  # Se forem iguais, tudo será zero."
   ]
  },
  {
   "cell_type": "markdown",
   "metadata": {},
   "source": [
    "## Criação de arrays a partir de listas, dimensões maiores\n",
    "\n",
    "É possível criar arrays fornecendo uma lista, ou outro iterável compatível, para a função *array*. Se for fornecida uma lista com listas, será criada uma array bidimensional."
   ]
  },
  {
   "cell_type": "code",
   "execution_count": 7,
   "metadata": {},
   "outputs": [
    {
     "name": "stdout",
     "output_type": "stream",
     "text": [
      "<class 'numpy.ndarray'>[1 2 3 4 5]\n",
      "\n",
      "[[1 2 3 4]\n",
      " [5 6 7 8]]\n"
     ]
    }
   ],
   "source": [
    "lista1 = [1, 2, 3, 4, 5]\n",
    "array1 = np.array(lista1)\n",
    "\n",
    "lista2d = [[1, 2, 3, 4], [5, 6, 7, 8]]\n",
    "array2d = np.array(lista2d)\n",
    "\n",
    "print(f'{type(array1)}{array1}\\n\\n{array2d}')"
   ]
  },
  {
   "cell_type": "markdown",
   "metadata": {},
   "source": [
    "## Acessando e alterando elementos\n",
    "\n",
    "Para acessar um elemento de uma matriz 2d, é possível utilizar a mesma notação que uma lista aninhada, mas também é possível utilizar uma notação mais próxima à matemática, com (**linha**, **coluna**), lembrando que a indexação começa do zero."
   ]
  },
  {
   "cell_type": "code",
   "execution_count": 8,
   "metadata": {},
   "outputs": [
    {
     "name": "stdout",
     "output_type": "stream",
     "text": [
      "São iguais: True\n"
     ]
    }
   ],
   "source": [
    "item1 = array2d[0][1]\n",
    "item2 = array2d[0, 1]\n",
    "print(f'São iguais: {item1 == item2}')"
   ]
  },
  {
   "cell_type": "markdown",
   "metadata": {},
   "source": [
    "*Slicing* funciona de uma maneira semelhante à vista anteriormente, onde os slices serão, então, separados por vírgulas. É normal achar que a notação é confusa, não se preocupe."
   ]
  },
  {
   "cell_type": "code",
   "execution_count": 9,
   "metadata": {},
   "outputs": [
    {
     "data": {
      "text/plain": [
       "array([[2, 3],\n",
       "       [6, 7]])"
      ]
     },
     "execution_count": 9,
     "metadata": {},
     "output_type": "execute_result"
    }
   ],
   "source": [
    "meio = array2d[0:2, 1:3]\n",
    "meio"
   ]
  },
  {
   "cell_type": "markdown",
   "metadata": {},
   "source": [
    "É importante notar que os slices em `arrays` retornam uma *visão* do array, não uma cópia, como acontece em listas. Logo, se você alterar um valor dessa visão, o array original é alterado."
   ]
  },
  {
   "cell_type": "code",
   "execution_count": 21,
   "metadata": {},
   "outputs": [
    {
     "name": "stdout",
     "output_type": "stream",
     "text": [
      "Original:\n",
      " [[1 2 3 4]\n",
      " [5 6 7 8]]\n",
      "Alterado:\n",
      " [[1 0 0 4]\n",
      " [5 0 0 8]]\n"
     ]
    }
   ],
   "source": [
    "array2d = np.array(lista2d)\n",
    "print('Original:\\n', array2d)\n",
    "meio = array2d[0:2, 1:3]\n",
    "meio[:, :] = [[0, 0], [0, 0]]\n",
    "print('Alterado:\\n', array2d)"
   ]
  },
  {
   "cell_type": "markdown",
   "metadata": {},
   "source": [
    "Para evitar isso, é necessário criar uma cópia utilizando o comando `.copy()`."
   ]
  },
  {
   "cell_type": "code",
   "execution_count": 23,
   "metadata": {},
   "outputs": [
    {
     "name": "stdout",
     "output_type": "stream",
     "text": [
      "Original:\n",
      " [[1 2 3 4]\n",
      " [5 6 7 8]]\n",
      "Não alterado:\n",
      " [[1 2 3 4]\n",
      " [5 6 7 8]]\n"
     ]
    }
   ],
   "source": [
    "array2d = np.array(lista2d)\n",
    "print('Original:\\n', array2d)\n",
    "meio = array2d[0:2, 1:3].copy()\n",
    "meio[:, :] = [[0, 0], [0, 0]]\n",
    "print('Não alterado:\\n', array2d)"
   ]
  },
  {
   "cell_type": "markdown",
   "metadata": {},
   "source": [
    "## *random*\n",
    "\n",
    "Random é um pacote dentro do numpy. O papel das funções random é providenciar uma maneira de se escolher um valor de uma lista aleatoriamente, ou de gerar valores aleatórios. Rode a seguinte cela várias vezes para ver os valores mudando."
   ]
  },
  {
   "cell_type": "code",
   "execution_count": 10,
   "metadata": {},
   "outputs": [
    {
     "name": "stdout",
     "output_type": "stream",
     "text": [
      "0.51; 4.00; 2.00\n"
     ]
    }
   ],
   "source": [
    "r1 = np.random.random()  # Cria um número aleatório entre 0 e 1\n",
    "r2 = np.random.choice(array1)  # Escolhe um valor aleatório da lista\n",
    "r3 = np.random.randint(5)  # Escolhe um número inteiro entre 0 e 5\n",
    "\n",
    "print(f'{r1:.2f}; {r2:.2f}; {r3:.2f}')"
   ]
  },
  {
   "cell_type": "markdown",
   "metadata": {},
   "source": [
    "## Constantes\n",
    "\n",
    "O numpy vem com as constantes mais famosas já inclusas, então não é necessário escrevê-las sempre."
   ]
  },
  {
   "cell_type": "code",
   "execution_count": 11,
   "metadata": {},
   "outputs": [
    {
     "name": "stdout",
     "output_type": "stream",
     "text": [
      "Pi:3.141592653589793, e:2.718281828459045\n"
     ]
    }
   ],
   "source": [
    "print(f'Pi:{np.pi}, e:{np.e}')"
   ]
  },
  {
   "cell_type": "markdown",
   "metadata": {},
   "source": [
    "## Multiplicação de arrays\n",
    "\n",
    "Numpy pode também ser utilizado para álgebra linear. Veja os seguintes exemplos de multiplicação de matrizes."
   ]
  },
  {
   "cell_type": "code",
   "execution_count": 12,
   "metadata": {},
   "outputs": [
    {
     "name": "stdout",
     "output_type": "stream",
     "text": [
      "c:\n",
      " [[1 2]\n",
      " [6 7]] \n",
      "\n",
      "d:\n",
      " [[3 1]\n",
      " [2 1]] \n",
      "\n",
      "Mult. termo a termo\n",
      " [[ 3  2]\n",
      " [12  7]] \n",
      "\n",
      "Mult. matriz c . d\n",
      " [[ 7  3]\n",
      " [32 13]] \n",
      "\n",
      "Mult. matriz c . d\n",
      " [[ 7  3]\n",
      " [32 13]] \n",
      "\n"
     ]
    }
   ],
   "source": [
    "c = np.array([[1, 2], [6, 7]])\n",
    "d = np.array([[3, 1], [2, 1]])\n",
    "\n",
    "print('c:\\n', c,'\\n\\nd:\\n', d, '\\n')\n",
    "\n",
    " # Multiplicação de termo a termo\n",
    "print('Mult. termo a termo\\n', c * d, '\\n')\n",
    "\n",
    "# Multiplicação de matriz caso as dimensões sejam maiores. Senão faz multiplicação escalar\n",
    "print('Mult. matriz c . d\\n', np.dot(c, d), '\\n') \n",
    "print('Mult. matriz c . d\\n', c @ d, '\\n')  # Exclusivo no Python 3.5+"
   ]
  },
  {
   "cell_type": "markdown",
   "metadata": {},
   "source": [
    "Para multiplicar dois arrays como se fossem vetores linha e coluna, é necessário alterar o formato dos vetores, senão a operação será uma operação de multiplicação elemento a elemento. Para isso, podemos:\n",
    "\n",
    "* Utilizar o método `.reshape(dim)` para alterar as dimensões\n",
    "* Utilizar a notação de `slices` e adicionar uma linha ou coluna, com a palavra chave `np.newaxis` ou `None`\n",
    "\n",
    "Nestes casos, `np.newaxis` ou `None` entram na posição do slice onde se deseja criar o vetor. Por exemplo, se é desejado criar um vetor linha, `np.newaxis` entra no primeiro termo do slice, que se refere a linhas."
   ]
  },
  {
   "cell_type": "code",
   "execution_count": 13,
   "metadata": {},
   "outputs": [
    {
     "name": "stdout",
     "output_type": "stream",
     "text": [
      "Mult. matricial de dois vetores\n",
      "Array a: [1 2 3 4]\n",
      "Array b: [2 2 2 2]\n",
      "\n",
      "Método 1: utilizando reshape\n",
      "[[2 2 2 2]\n",
      " [4 4 4 4]\n",
      " [6 6 6 6]\n",
      " [8 8 8 8]] \n",
      "\n",
      "Método 2: utilizando Slices e None\n",
      "[[2 2 2 2]\n",
      " [4 4 4 4]\n",
      " [6 6 6 6]\n",
      " [8 8 8 8]] \n",
      "\n",
      "Método 3: utilizando Slices e np.newaxis\n",
      "[[2 2 2 2]\n",
      " [4 4 4 4]\n",
      " [6 6 6 6]\n",
      " [8 8 8 8]]\n",
      "Vetores finais:\n",
      "a:\n",
      " [[1]\n",
      " [2]\n",
      " [3]\n",
      " [4]] \n",
      "b:\n",
      " [[2 2 2 2]]\n"
     ]
    }
   ],
   "source": [
    "print('Mult. matricial de dois vetores')\n",
    "a = np.array([1, 2, 3, 4])\n",
    "b = np.array([2, 2, 2, 2])\n",
    "print('Array a:', a)\n",
    "print('Array b:', b)\n",
    "\n",
    "print('\\nMétodo 1: utilizando reshape')\n",
    "a_col = a.reshape((4, 1))\n",
    "b_lin = b.reshape((1, 4))\n",
    "print(a_col @ b_lin, '\\n')\n",
    "\n",
    "print('Método 2: utilizando Slices e None')\n",
    "a_col = a[:,None]\n",
    "b_lin = b[None,:]\n",
    "print(a_col @ b_lin , '\\n')\n",
    "\n",
    "print('Método 3: utilizando Slices e np.newaxis')\n",
    "a_col = a[:, np.newaxis]\n",
    "b_lin = b[np.newaxis, :]\n",
    "print(a_col @ b_lin)\n",
    "\n",
    "print('Vetores finais:\\na:\\n', a_col, '\\nb:\\n', b_lin)"
   ]
  },
  {
   "cell_type": "markdown",
   "metadata": {},
   "source": [
    "O NumPy possui conjuntos de funções que foram otimizadas para trabalhar diretamente com arrays, não necessitando loops. Esse tipo de operação é chamada de *operação vetorizada* e as funções do NumPy que utilizam isso  são conhecidas como *universal functions*, ou `ufunc`s. Veja que se você procurar pela ajuda da função `np.sin`, você verá:\n",
    "\n",
    "    np.sin?\n",
    "    \n",
    "    Call signature:  np.sin(*args, **kwargs)\n",
    "    Type:            ufunc\n",
    "    String form:     <ufunc 'sin'>\n",
    "    File:            ~/dados/anaconda3/lib/python3.6/site-packages/numpy/__init__.py\n",
    "    Docstring:      \n",
    "    sin(x, /, out=None, *, where=True, casting='same_kind', order='K', dtype=None, subok=True[, signature, extobj])\n",
    "\n",
    "    Trigonometric sine, element-wise.\n",
    "    \n",
    "Realizar loops em Python (especificamente CPython) é uma tarefa lenta, então tente sempre realizar seus cálculos utilizando `ufuncs`. Além da função seno, já vimos várias outras `ufunc`s, como `+`, `-` e todas as outras operações. O NumPy entende que, ao ver `+`, ele deve utilizar a função `np.add`."
   ]
  },
  {
   "cell_type": "markdown",
   "metadata": {},
   "source": [
    "O NumPy também é capaz também de adaptar código de C/C++/Fortran para Python, para aumentar a eficiência de suas funções. Veja o site deles para mais informações, [aqui](http://www.numpy.org/). Veja também as diferenças entre Numpy e Matlab [aqui](https://docs.scipy.org/doc/numpy/user/numpy-for-matlab-users.html)."
   ]
  }
 ],
 "metadata": {
  "hide_input": false,
  "kernelspec": {
   "display_name": "Python 3",
   "language": "python",
   "name": "python3"
  },
  "language_info": {
   "codemirror_mode": {
    "name": "ipython",
    "version": 3
   },
   "file_extension": ".py",
   "mimetype": "text/x-python",
   "name": "python",
   "nbconvert_exporter": "python",
   "pygments_lexer": "ipython3",
   "version": "3.6.6"
  },
  "toc": {
   "base_numbering": 1,
   "nav_menu": {},
   "number_sections": true,
   "sideBar": true,
   "skip_h1_title": false,
   "title_cell": "Conteúdo",
   "title_sidebar": "Conteúdo",
   "toc_cell": true,
   "toc_position": {},
   "toc_section_display": true,
   "toc_window_display": false
  },
  "varInspector": {
   "cols": {
    "lenName": 16,
    "lenType": 16,
    "lenVar": 40
   },
   "kernels_config": {
    "python": {
     "delete_cmd_postfix": "",
     "delete_cmd_prefix": "del ",
     "library": "var_list.py",
     "varRefreshCmd": "print(var_dic_list())"
    },
    "r": {
     "delete_cmd_postfix": ") ",
     "delete_cmd_prefix": "rm(",
     "library": "var_list.r",
     "varRefreshCmd": "cat(var_dic_list()) "
    }
   },
   "types_to_exclude": [
    "module",
    "function",
    "builtin_function_or_method",
    "instance",
    "_Feature"
   ],
   "window_display": false
  }
 },
 "nbformat": 4,
 "nbformat_minor": 2
}
