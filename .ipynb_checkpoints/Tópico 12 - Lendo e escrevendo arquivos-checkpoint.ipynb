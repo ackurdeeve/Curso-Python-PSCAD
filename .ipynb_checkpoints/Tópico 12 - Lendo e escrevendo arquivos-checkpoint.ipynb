{
 "cells": [
  {
   "cell_type": "markdown",
   "metadata": {
    "toc": true
   },
   "source": [
    "<h1>Conteúdo<span class=\"tocSkip\"></span></h1>\n",
    "<div class=\"toc\"><ul class=\"toc-item\"><li><span><a href=\"#Modificando-arquivos-de-texto\" data-toc-modified-id=\"Modificando-arquivos-de-texto-1\"><span class=\"toc-item-num\">1&nbsp;&nbsp;</span>Modificando arquivos de texto</a></span><ul class=\"toc-item\"><li><span><a href=\"#Escevendo-arquivos\" data-toc-modified-id=\"Escevendo-arquivos-1.1\"><span class=\"toc-item-num\">1.1&nbsp;&nbsp;</span>Escevendo arquivos</a></span></li><li><span><a href=\"#Lendo-arquivos-de-texto\" data-toc-modified-id=\"Lendo-arquivos-de-texto-1.2\"><span class=\"toc-item-num\">1.2&nbsp;&nbsp;</span>Lendo arquivos de texto</a></span></li><li><span><a href=\"#Lendo-e-escrevendo-arquivos-de-texto\" data-toc-modified-id=\"Lendo-e-escrevendo-arquivos-de-texto-1.3\"><span class=\"toc-item-num\">1.3&nbsp;&nbsp;</span>Lendo e escrevendo arquivos de texto</a></span></li></ul></li></ul></div>"
   ]
  },
  {
   "cell_type": "markdown",
   "metadata": {},
   "source": [
    "# Modificando arquivos de texto\n",
    "Python permite escrever e ler arquivos usando o método *open(filename, opções)*\n",
    "Nas opções a gente tem:\n",
    "* r - Leitura \n",
    "* w - escritura\n",
    "* a - escritura no final do arquivo\n",
    "* + - escritura e leitura\n",
    "* b permite escritura em modo binario\n",
    "\n",
    "## Escevendo arquivos\n",
    "Vamos a criar nosso primeiro arquivo de texto. Para aquilo é necessário abrir o arquivo em modo escritura e usar o método *write(string)* para escever o texto desejado. Depois de escrever o arquivo é necessário fechar ele usando o método *close()*. Caso contrário podem ter problemas de memória com arquivos muito grandes."
   ]
  },
  {
   "cell_type": "code",
   "execution_count": null,
   "metadata": {},
   "outputs": [],
   "source": [
    "folder = \"Text files/\"\n",
    "file = open( folder + 'testfile.txt','w') \n",
    " \n",
    "file.write('Bom dia\\n') \n",
    "file.write('Foi criado nosso primeiro arquivo\\n') \n",
    "file.write('É simples mas da para aprender\\n') \n",
    "file.write('Segue o baile\\n') \n",
    " \n",
    "file.close() "
   ]
  },
  {
   "cell_type": "markdown",
   "metadata": {},
   "source": [
    "## Lendo arquivos de texto\n",
    "A leitura de arquivos de texto é similar à escritura. A diferençã é o uso da opçãp *r*.\n",
    "Notem que pode ser lida cada uma das linhas de forma separada. "
   ]
  },
  {
   "cell_type": "code",
   "execution_count": 2,
   "metadata": {},
   "outputs": [
    {
     "name": "stdout",
     "output_type": "stream",
     "text": [
      "Bom dia\n",
      "Foi criado nosso primeiro arquivo\n",
      "É simples mas da para aprender\n",
      "Segue o baile\n"
     ]
    }
   ],
   "source": [
    "file = open(folder + 'testfile.txt', 'r') \n",
    "for line in file: \n",
    "    print (line, end = '')\n",
    "file.close() "
   ]
  },
  {
   "cell_type": "markdown",
   "metadata": {},
   "source": [
    "## Lendo e escrevendo arquivos de texto\n",
    "Para reemplazar algo no texto é necessário primeiro ler o arquivo e depois fazer a escritura. Diferentes métodos podem ser usados para escrever o desejado. Por exemplo, pode ser reemplazada uma palavra específica por outra."
   ]
  },
  {
   "cell_type": "code",
   "execution_count": 3,
   "metadata": {},
   "outputs": [],
   "source": [
    "s = open(folder + 'testfile.txt').read()\n",
    "s = s.replace('Bom','Buen')\n",
    "\n",
    "f = open(folder + 'testfile.txt','w')\n",
    "f.write(s)\n",
    "f.close() "
   ]
  },
  {
   "cell_type": "markdown",
   "metadata": {},
   "source": [
    "Uma foma útil de modificar arquivos é fazendo uma copia do arquivo original e modificar o novo arquivo. Notem no siguente código que foi usada uma sintaxis diferente. Com esta sintaxis depois de fazer as operações necessárias o python usa o método *close()* automaticamente sobre o arquivo."
   ]
  },
  {
   "cell_type": "code",
   "execution_count": 4,
   "metadata": {},
   "outputs": [],
   "source": [
    "with open(folder + 'testfile.txt', 'r')  as rf:\n",
    "    with open(folder + 'testfile_copy.txt', 'w')  as wf:\n",
    "        for line in rf:\n",
    "            idLine = line.find('primeiro')\n",
    "            palavraNova = 'segundo'\n",
    "            if idLine > -1:\n",
    "                line = line[0:idLine] + palavraNova + line[idLine+len(palavraNova)+1:] \n",
    "            wf.write(line)"
   ]
  },
  {
   "cell_type": "markdown",
   "metadata": {},
   "source": [
    "**Exercicio:** \n",
    "No arquivo */ATP/estudio_v2.atp* reemplazar desde python a resistência da fonte de entrada da fase A por qualquer valor sem estragar o formato fortran do arquivo e deixando as outras resistencias com o valor original. "
   ]
  }
 ],
 "metadata": {
  "kernelspec": {
   "display_name": "Python 3",
   "language": "python",
   "name": "python3"
  },
  "language_info": {
   "codemirror_mode": {
    "name": "ipython",
    "version": 3
   },
   "file_extension": ".py",
   "mimetype": "text/x-python",
   "name": "python",
   "nbconvert_exporter": "python",
   "pygments_lexer": "ipython3",
   "version": "3.6.4"
  },
  "toc": {
   "base_numbering": 1,
   "nav_menu": {},
   "number_sections": true,
   "sideBar": true,
   "skip_h1_title": false,
   "title_cell": "Conteúdo",
   "title_sidebar": "Contents",
   "toc_cell": true,
   "toc_position": {},
   "toc_section_display": true,
   "toc_window_display": false
  },
  "varInspector": {
   "cols": {
    "lenName": 16,
    "lenType": 16,
    "lenVar": 40
   },
   "kernels_config": {
    "python": {
     "delete_cmd_postfix": "",
     "delete_cmd_prefix": "del ",
     "library": "var_list.py",
     "varRefreshCmd": "print(var_dic_list())"
    },
    "r": {
     "delete_cmd_postfix": ") ",
     "delete_cmd_prefix": "rm(",
     "library": "var_list.r",
     "varRefreshCmd": "cat(var_dic_list()) "
    }
   },
   "types_to_exclude": [
    "module",
    "function",
    "builtin_function_or_method",
    "instance",
    "_Feature"
   ],
   "window_display": false
  }
 },
 "nbformat": 4,
 "nbformat_minor": 2
}
