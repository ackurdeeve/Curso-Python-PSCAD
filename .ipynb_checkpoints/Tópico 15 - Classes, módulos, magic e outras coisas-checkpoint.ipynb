{
 "cells": [
  {
   "cell_type": "markdown",
   "metadata": {
    "toc": true
   },
   "source": [
    "<h1>Conteúdo<span class=\"tocSkip\"></span></h1>\n",
    "<div class=\"toc\"><ul class=\"toc-item\"><li><span><a href=\"#Classes\" data-toc-modified-id=\"Classes-1\"><span class=\"toc-item-num\">1&nbsp;&nbsp;</span>Classes</a></span><ul class=\"toc-item\"><li><span><a href=\"#Definição-da-classe\" data-toc-modified-id=\"Definição-da-classe-1.1\"><span class=\"toc-item-num\">1.1&nbsp;&nbsp;</span>Definição da classe</a></span></li><li><span><a href=\"#Métodos-dunder\" data-toc-modified-id=\"Métodos-dunder-1.2\"><span class=\"toc-item-num\">1.2&nbsp;&nbsp;</span>Métodos <em>dunder</em></a></span></li><li><span><a href=\"#Decoradores\" data-toc-modified-id=\"Decoradores-1.3\"><span class=\"toc-item-num\">1.3&nbsp;&nbsp;</span>Decoradores</a></span></li><li><span><a href=\"#Namedtuple\" data-toc-modified-id=\"Namedtuple-1.4\"><span class=\"toc-item-num\">1.4&nbsp;&nbsp;</span><em>Namedtuple</em></a></span></li></ul></li><li><span><a href=\"#Criando-um-módulo-e-carregando-o\" data-toc-modified-id=\"Criando-um-módulo-e-carregando-o-2\"><span class=\"toc-item-num\">2&nbsp;&nbsp;</span>Criando um módulo e carregando-o</a></span></li><li><span><a href=\"#IPython-magic\" data-toc-modified-id=\"IPython-magic-3\"><span class=\"toc-item-num\">3&nbsp;&nbsp;</span>IPython magic</a></span><ul class=\"toc-item\"><li><span><a href=\"#Magic-commands\" data-toc-modified-id=\"Magic-commands-3.1\"><span class=\"toc-item-num\">3.1&nbsp;&nbsp;</span>Magic commands</a></span></li></ul></li><li><span><a href=\"#Como-compilar-scripts-de-Python\" data-toc-modified-id=\"Como-compilar-scripts-de-Python-4\"><span class=\"toc-item-num\">4&nbsp;&nbsp;</span>Como compilar scripts de Python</a></span></li><li><span><a href=\"#Markdown-e-LaTeX\" data-toc-modified-id=\"Markdown-e-LaTeX-5\"><span class=\"toc-item-num\">5&nbsp;&nbsp;</span>Markdown e LaTeX</a></span></li><li><span><a href=\"#Criação-de-virtual-environments\" data-toc-modified-id=\"Criação-de-virtual-environments-6\"><span class=\"toc-item-num\">6&nbsp;&nbsp;</span>Criação de <em>virtual environments</em></a></span><ul class=\"toc-item\"><li><span><a href=\"#Instalação-de-Kernels\" data-toc-modified-id=\"Instalação-de-Kernels-6.1\"><span class=\"toc-item-num\">6.1&nbsp;&nbsp;</span>Instalação de Kernels</a></span></li></ul></li><li><span><a href=\"#Anotação-de-tipos\" data-toc-modified-id=\"Anotação-de-tipos-7\"><span class=\"toc-item-num\">7&nbsp;&nbsp;</span>Anotação de tipos</a></span></li><li><span><a href=\"#Outras-coisas-que-Python-consegue-fazer\" data-toc-modified-id=\"Outras-coisas-que-Python-consegue-fazer-8\"><span class=\"toc-item-num\">8&nbsp;&nbsp;</span>Outras coisas que Python consegue fazer</a></span><ul class=\"toc-item\"><li><span><a href=\"#Webscraping\" data-toc-modified-id=\"Webscraping-8.1\"><span class=\"toc-item-num\">8.1&nbsp;&nbsp;</span>Webscraping</a></span></li></ul></li></ul></div>"
   ]
  },
  {
   "cell_type": "markdown",
   "metadata": {},
   "source": [
    "Nesta aula, definiremos nossa própria classe e a importaremos posteriormente.\n",
    "\n",
    "# Classes\n",
    "\n",
    "Classes são maneiras de se agrupar funções e dados em um objeto só. A partir de um modelo criado de uma classe, podem ser criadas instâncias dessa classe, independentes, cada uma com as mesmas características da classe original, mas detalhes diferentes. É possível também criar uma classe herdando os métodos e funções de outra classe. Neste exemplo, criaremos uma classe \"dado de SAXS\" e implementaremos algumas funções para importar dados, plotar a curva de SAXS e subtrair uma outra curva de SAXS, como se fosse um background.\n",
    "\n",
    "## Definição da classe"
   ]
  },
  {
   "cell_type": "code",
   "execution_count": 1,
   "metadata": {
    "collapsed": true
   },
   "outputs": [],
   "source": [
    "# %%writefile ./snippets/classe.py\n",
    "# Vamos salvar essa classe para poder importá-la posteriormente\n",
    "# Para isso, utilizamos \"writefile\", que grava o conteúdo da cela\n",
    "# num arquivo. Remova o comentário quando quiser salvar.\n",
    "\n",
    "class dadoSAXS:\n",
    "    \"\"\"Conjunto de dados e métodos para avaliação de curvas de SAXS.\"\"\"\n",
    "    # A função __init__ é acionada quando um objeto é criado.\n",
    "    def __init__(self, file, load=True, I=[], q=[]):\n",
    "        if load:\n",
    "            self.q, self.I = self.load_data(file)\n",
    "        else:\n",
    "            self.q, self.I = q, I\n",
    "    \n",
    "    # Funções de forma geral podem ser envolvidas por um ou mais decoradores,\n",
    "    # que afetam o comportamento da função\n",
    "    @staticmethod\n",
    "    def load_data(data):\n",
    "        with open(data) as fhand:\n",
    "            x, y = [], []\n",
    "            for line in fhand:\n",
    "                tx, ty = line.lstrip().replace('  ', ' ').split(' ')\n",
    "                tx, ty = float(tx), float(ty)\n",
    "                x.append(tx)\n",
    "                y.append(ty)\n",
    "        return x, y\n",
    "    \n",
    "    # A palavra chave self é sempre necessária (a não ser que seja um staticmethod)\n",
    "    # E ela permite que você acesse as propriedades da instância específica do objeto\n",
    "    # O primeiro argumento é sempre o self, que tem esse nome por convenção,\n",
    "    # mas você pode mudá-lo.\n",
    "    # O termo **kwargs é utilizado para passar outros argumentos opcionais para a função\n",
    "    # plot, para poder especificar linestyle, color, etc.\n",
    "    def plot(self, xscale='linear', yscale='linear', figsize=(6,4), **kwargs):\n",
    "        import matplotlib.pyplot as plt\n",
    "        plt.figure(figsize=figsize)\n",
    "        plt.plot(self.q, self.I, **kwargs)\n",
    "        plt.xscale(xscale)\n",
    "        plt.yscale(yscale)\n",
    "        plt.show()\n",
    "    \n",
    "    # Você pode fazer algo chamado de \"method overloading\", onde você atribui uma\n",
    "    # função a algum método interno do Python. Aqui, substituirei o método \"-\",\n",
    "    # para subtrair duas curvas de SAXS e colocar em uma terceira.\n",
    "    def __sub__(self, other):\n",
    "        sub = [i - j for i, j in zip(self.I, other.I)]\n",
    "        new = dadoSAXS('', load=False, I=sub, q=self.q)\n",
    "        return new"
   ]
  },
  {
   "cell_type": "markdown",
   "metadata": {},
   "source": [
    "Agora que a classe foi definida, vamos carregar dois dados para exemplificar como a classe funciona."
   ]
  },
  {
   "cell_type": "code",
   "execution_count": 2,
   "metadata": {
    "collapsed": true
   },
   "outputs": [],
   "source": [
    "dado1 = dadoSAXS('./dados-1/37.dat')\n",
    "dado2 = dadoSAXS('./dados-1/38.dat')"
   ]
  },
  {
   "cell_type": "code",
   "execution_count": 3,
   "metadata": {},
   "outputs": [
    {
     "data": {
      "image/png": "[encoded data removed]",
      "text/plain": [
       "<Figure size 432x288 with 1 Axes>"
      ]
     },
     "metadata": {},
     "output_type": "display_data"
    },
    {
     "data": {
      "image/png": "[encoded data removed]",
      "text/plain": [
       "<Figure size 432x288 with 1 Axes>"
      ]
     },
     "metadata": {},
     "output_type": "display_data"
    },
    {
     "data": {
      "image/png": "[encoded data removed]",
      "text/plain": [
       "<Figure size 432x288 with 1 Axes>"
      ]
     },
     "metadata": {},
     "output_type": "display_data"
    },
    {
     "data": {
      "image/png": "[encoded data removed]",
      "text/plain": [
       "<Figure size 432x288 with 1 Axes>"
      ]
     },
     "metadata": {},
     "output_type": "display_data"
    }
   ],
   "source": [
    "%matplotlib inline\n",
    "dado1.plot(c='C0')\n",
    "dado2.plot(c='C1')\n",
    "(dado1 - dado2).plot(c='C2')  # Não é necessário colocar o objeto numa variável com essa notação\n",
    "dado3 = dado1 - dado2\n",
    "dado3.plot(c='C2')"
   ]
  },
  {
   "cell_type": "code",
   "execution_count": 4,
   "metadata": {},
   "outputs": [
    {
     "name": "stdout",
     "output_type": "stream",
     "text": [
      "Help on class dadoSAXS in module __main__:\n",
      "\n",
      "class dadoSAXS(builtins.object)\n",
      " |  Conjunto de dados e métodos para avaliação de curvas de SAXS.\n",
      " |  \n",
      " |  Methods defined here:\n",
      " |  \n",
      " |  __init__(self, file, load=True, I=[], q=[])\n",
      " |      Initialize self.  See help(type(self)) for accurate signature.\n",
      " |  \n",
      " |  __sub__(self, other)\n",
      " |      # Você pode fazer algo chamado de \"method overloading\", onde você atribui uma\n",
      " |      # função a algum método interno do Python. Aqui, substituirei o método \"-\",\n",
      " |      # para subtrair duas curvas de SAXS e colocar em uma terceira.\n",
      " |  \n",
      " |  plot(self, xscale='linear', yscale='linear', figsize=(6, 4), **kwargs)\n",
      " |      # A palavra chave self é sempre necessária (a não ser que seja um staticmethod)\n",
      " |      # E ela permite que você acesse as propriedades da instância específica do objeto\n",
      " |      # O primeiro argumento é sempre o self, que tem esse nome por convenção,\n",
      " |      # mas você pode mudá-lo.\n",
      " |      # O termo **kwargs é utilizado para passar outros argumentos opcionais para a função\n",
      " |      # plot, para poder especificar linestyle, color, etc.\n",
      " |  \n",
      " |  ----------------------------------------------------------------------\n",
      " |  Static methods defined here:\n",
      " |  \n",
      " |  load_data(data)\n",
      " |      # Funções de forma geral podem ser envolvidas por um ou mais decoradores,\n",
      " |      # que afetam o comportamento da função\n",
      " |  \n",
      " |  ----------------------------------------------------------------------\n",
      " |  Data descriptors defined here:\n",
      " |  \n",
      " |  __dict__\n",
      " |      dictionary for instance variables (if defined)\n",
      " |  \n",
      " |  __weakref__\n",
      " |      list of weak references to the object (if defined)\n",
      "\n"
     ]
    }
   ],
   "source": [
    "help(dadoSAXS)"
   ]
  },
  {
   "cell_type": "markdown",
   "metadata": {},
   "source": [
    "## Métodos *dunder*\n",
    "\n",
    "Os métodos com `__` antes e depois também são conhecidos como *dunder* ou *double underline methods*. Eles são \"privados\", e é possível alterá-los para atribuir outros comportamentos aos operadores e funções imbutidos no Python, como `+`, `-`, `>=`, `==`, `len`, etc. Veja como `int`s possuem o método `__sub__` que é equivalente a utilizar `-`."
   ]
  },
  {
   "cell_type": "code",
   "execution_count": 5,
   "metadata": {},
   "outputs": [
    {
     "name": "stdout",
     "output_type": "stream",
     "text": [
      "-1\n",
      "-1\n"
     ]
    }
   ],
   "source": [
    "a = 1\n",
    "print(a.__sub__(2))\n",
    "print(a - 2)"
   ]
  },
  {
   "cell_type": "markdown",
   "metadata": {},
   "source": [
    "## Decoradores\n",
    "\n",
    "Decoradores são coisas colocadas antes de funções ou outros objetos para envolvê-los em algo que altera seu comportamento. Esse é o caso do `@staticmethod` antes do `def load_data`. Ele está lá para não ser necessário utilizar a palavra chave `self`, e serve para informar que esse método nunca irá afetar o objeto em que ele está; ou seja, a função somente carrega dados e retorna um x e um y. Veja mais [aqui](https://www.python.org/dev/peps/pep-0318/) e [aqui](https://www.python.org/dev/peps/pep-3129/).\n",
    "\n",
    "Decoradores afetam tanto funções quanto classes, e pode haver mais de um decorador por definição de classe/função."
   ]
  },
  {
   "cell_type": "markdown",
   "metadata": {},
   "source": [
    "## *Namedtuple*\n",
    "\n",
    "Caso você queira utilizar uma sintaxe parecida com a de classes, mas não quer se dar o trabalho de criar uma, pode criar uma `namedtuple`. Veja os exemplos. [Documentação](https://docs.python.org/3.7/library/collections.html#collections.namedtuple)"
   ]
  },
  {
   "cell_type": "code",
   "execution_count": 6,
   "metadata": {},
   "outputs": [
    {
     "name": "stdout",
     "output_type": "stream",
     "text": [
      "./dados-1/37.dat\n",
      "[0.01 0.12 0.23 0.34 0.45 0.56 0.67 0.78 0.89 1.  ]\n",
      "[10000.  9000.  8000.  7000.  6000.  5000.  4000.  3000.  2000.  1000.]\n"
     ]
    }
   ],
   "source": [
    "import numpy as np\n",
    "from collections import namedtuple\n",
    "\n",
    "Dado = namedtuple('Dado', ['arquivo', 'x', 'y'])\n",
    "\n",
    "dado1 = Dado('./dados-1/37.dat', np.linspace(0.01, 1, 10), np.linspace(10000, 1000, 10))\n",
    "print(dado1.arquivo)\n",
    "print(dado1[1])\n",
    "I, q = dado1[1:]\n",
    "print(q)"
   ]
  },
  {
   "cell_type": "markdown",
   "metadata": {},
   "source": [
    "# Criando um módulo e carregando-o\n",
    "\n",
    "Remova o comentário da primeira linha da definição da classe e rode as seguintes linhas."
   ]
  },
  {
   "cell_type": "code",
   "execution_count": 7,
   "metadata": {
    "collapsed": true
   },
   "outputs": [],
   "source": [
    "from snippets.classe import dadoSAXS\n",
    "dado1 = dadoSAXS('./dados-1/37.dat')\n",
    "dado2 = dadoSAXS('./dados-1/38.dat')"
   ]
  },
  {
   "cell_type": "code",
   "execution_count": 8,
   "metadata": {},
   "outputs": [
    {
     "data": {
      "image/png": "[encoded data removed]",
      "text/plain": [
       "<Figure size 432x288 with 1 Axes>"
      ]
     },
     "metadata": {},
     "output_type": "display_data"
    }
   ],
   "source": [
    "%matplotlib inline\n",
    "dado1.plot()"
   ]
  },
  {
   "cell_type": "markdown",
   "metadata": {},
   "source": [
    "Há muito muito muito mais sobre classes, como herança de propriedades, a palavra chave `super`, alteração de propriedades, `dataclasses`, etc. Veja a documentação oficial para ver mais detalhes, [aqui](https://docs.python.org/3/tutorial/classes.html?highlight=classes."
   ]
  },
  {
   "cell_type": "markdown",
   "metadata": {},
   "source": [
    "# IPython magic\n",
    "\n",
    "Jupyter notebooks que utilizam Python se baseiam no `IPython`, não no interpretador do Python tradicional. Isso fornece algumas funcionalidades extras, como os magic commands, e as variáveis `In` e `Out`.\n",
    "\n",
    "## Magic commands\n",
    "\n",
    "Você já viu magic commands anteriormente, utilizados aqui e ali, sem muita explicação. Aqui, mostrarei alguns mais utilizados, como encontrar ajuda sobre outros métodos, e mostrarei um exemplo da diferença de tempo de execução de dois pedaços de código, um utilizando funções do `NumPy` e outro utilizando funções internas do Python utilizando `%%timeit`."
   ]
  },
  {
   "cell_type": "code",
   "execution_count": 9,
   "metadata": {
    "collapsed": true
   },
   "outputs": [],
   "source": [
    "import numpy as np"
   ]
  },
  {
   "cell_type": "code",
   "execution_count": 10,
   "metadata": {},
   "outputs": [
    {
     "name": "stdout",
     "output_type": "stream",
     "text": [
      "116 µs ± 951 ns per loop (mean ± std. dev. of 7 runs, 10000 loops each)\n"
     ]
    }
   ],
   "source": [
    "%%timeit\n",
    "lista = np.arange(0, 50000, 1)\n",
    "op = np.sum(lista)"
   ]
  },
  {
   "cell_type": "code",
   "execution_count": 11,
   "metadata": {},
   "outputs": [
    {
     "name": "stdout",
     "output_type": "stream",
     "text": [
      "1.89 ms ± 3.29 µs per loop (mean ± std. dev. of 7 runs, 1000 loops each)\n"
     ]
    }
   ],
   "source": [
    "%%timeit\n",
    "lista = list(range(0, 50000, 1))\n",
    "op = sum(lista)"
   ]
  },
  {
   "cell_type": "markdown",
   "metadata": {},
   "source": [
    "Veja como há uma diferença gritante no tempo de execução dos dois códigos.\n",
    "\n",
    "Outros magic commands:\n",
    "\n",
    "* `%comando?` mostra a ajuda do comando, como qualquer outra função.\n",
    "* `%lsmagic` mostra todos os comandos. `%magic` mostra alguns.\n",
    "* `%paste` cola código do clipboard tentando preservar a formatação. `%cpaste` cria um ambiente que permite colar vários pedaços de código.\n",
    "* `%run (script)` roda um script na seção atual.\n",
    "* `%time (código)`: executa a linha uma vez e informa quanto tempo demorou. `%%time` executa todas as linhas seguintes.\n",
    "* `%timeit (código)`: executa um código várias vezes para obter uma média e estatística do tempo de execução. Ele ajusta o número de loops de acordo com o tempo de execução. `%%timeit` executa todas as linhas seguintes.\n",
    "* `%history` mostra os comandos anteriores executados. Menos útil num Jupyter Notebook. Porém, se lembra de seções anteriores.\n",
    "* `%save` salva um conjunto específico de comandos do histórico para um arquivo.\n",
    "* `%pdb on` executa o debugger do Python assim que uma exceção ocorrer.\n",
    "* `%debug` inicia o `ipdb` para debugging.\n",
    "* `%load_ext (nome)` carrega extensões, como `line_profiler` e `memory_profiler`, que mostram o tempo de execução e uso de memória por linha do seu código.\n",
    "* `%matplotlib inline|nbagg|etc` muda o local onde o matplotlib irá mostrar os gráficos. `inline` coloca eles logo em seguida do bloco, assim como `nbagg`, mas `nbagg` coloca algumas funções a mais. Note que `inline` não precisa de `plt.show()`, mas `nbagg` necessita!\n",
    "\n",
    "O IPython também suporta rodar comandos diretamente no `shell` se você precedê-los por `!`."
   ]
  },
  {
   "cell_type": "markdown",
   "metadata": {},
   "source": [
    "# Como compilar scripts de Python\n",
    "\n",
    "Python é uma linguagem que é compilada (para bytecode) quando você pede para rodar o script, e depois interpretada. Dessa maneira, não é gerado um arquivo `.exe` para que outros possam rodar diretamente. Isso pode ser inconveniente para quem não possui Python instalado em seu computador, e tem preguiça de instalar e baixar as dependências necessárias. Por outro lado, os scripts são arquivos com um tamanho bem reduzido, e que qualquer um pode ler o conteúdo e ver se há algo nocivo.\n",
    "\n",
    "Compilar seus scripts geralmente envolve gerar um arquivo executável com o interpretador do Python, o script compilado e todas as dependências. Existem algumas ferramentas para gerar isso:\n",
    "\n",
    "* [`cxfreeze`](https://anthony-tuininga.github.io/cx_Freeze/) (multi plataforma)\n",
    "* [`py2exe`](http://py2exe.org/) (Windows)\n",
    "* [`pyinstaller`](https://www.pyinstaller.org/) (multi plataforma)\n",
    "\n",
    "Eu nunca tive boas experiências em compilar um script que utilizada ferramentas como o `NumPy`, `matplotlib` ou `pandas`. Você pode tentar por conta própria depois. Aqui, mostrarei como criar um executável com o pyinstaller. Não garanto que irá funcionar em seu computador! É algo muito específico.\n",
    "\n",
    "1. Execute o comando `pip install pyinstaller`\n",
    "2. Crie um script como este e salve em uma pasta contendo somente o script:\n",
    "\n",
    "        import time\n",
    "        import random\n",
    "\n",
    "        while True:\n",
    "            try:\n",
    "                print(random.random())\n",
    "                time.sleep(0.05)\n",
    "            except KeyboardInterrupt:\n",
    "                print('Quitting.')\n",
    "                break\n",
    "\n",
    "3. Execute o comand `pyinstaller script.py`.\n",
    "    1. Com sorte, a instalação irá ocorrer bem. Senão, é necessário seguir as mensagens de erro que aparecem. No meu caso, eu tive que baixar `python3-dev`. Cada um tem que fazer algo específico.\n",
    "4. Se tudo ocorrer certo, dentro da pasta `./dist/execut/` haverá um arquivo executável com o mesmo nome do script. Neste caso, `script` ou `script.exe`."
   ]
  },
  {
   "cell_type": "markdown",
   "metadata": {},
   "source": [
    "# Markdown e LaTeX\n",
    "\n",
    "Markdown é utilizado para escrever os comentários nestas seções de texto. Sua sintaxe é bastante simples. Veja aqui alguns exemplos:\n",
    "\n",
    "Criação de Títulos, seções, subseções, etc:\n",
    "\n",
    "\\# Capítulo\n",
    "\n",
    "\\## Seção\n",
    "\n",
    "\\### Subseção\n",
    "\n",
    "\\#### Subsubseção\n",
    "\n",
    "Criação de listas:\n",
    "\n",
    "Numérica: Colocar um número seguido de um ponto (não precisam estar na ordem) \n",
    "\n",
    "1. Primeiro\n",
    "1. Segundo\n",
    "1. Terceiro\n",
    "\n",
    "Com marcadores: Colocar um asterisco, `*`, `+` ou `-` no começo de cada linha.\n",
    "\n",
    "* Item\n",
    "* Item\n",
    "* Item\n",
    "\n",
    "Listas aninhadas são feitas dando um TAB.\n",
    "\n",
    "1. Primeiro item\n",
    "    1. Primeiro subitem\n",
    "    2. Segundo subitem\n",
    "        * Subsubitem\n",
    "            * Subsubsubitem\n",
    "            \n",
    "Ênfase é feita utilizando:\n",
    "\n",
    "1. \\*palavra\\*: *itálico*\n",
    "2. \\*\\*palavra\\*\\*: **negrito**\n",
    "3. \\*\\*\\_palavra\\_\\*\\*: **_negrito e itálico_**\n",
    "4. \\~\\~palavra\\~\\~: ~~riscado~~\n",
    "5. \\`código\\`: `envolve código`\n",
    "\n",
    "Código pode ser envolvido com três \\` para criar um bloco. Colocar o nome da linguagem após os \\` habilita marcação de sintaxe específica da linguagem\n",
    "\n",
    "```python\n",
    "a = [1, 2, 3, 4]\n",
    "for i in a:\n",
    "    print(a + 3)\n",
    "```\n",
    "\n",
    "Links podem ser colocados envolvendo o texto em \\[\\] e o URL logo em seguida com \\(\\), como \\[texto\\]\\(url\\)\n",
    "\n",
    "Códigos podem ser cancelados se forem escapados por uma barra para a esquerda. Esta cela contém alguns exemplos.\n",
    "\n",
    "[Mais detalhes sobre markdown](https://github.com/adam-p/markdown-here/wiki/Markdown-Cheatsheet)\n",
    "\n",
    "---\n",
    "\n",
    "Estas celas também aceitam códigos matemáticos de LaTeX, assim como algumas strings no `pyplot`. Para colocar uma equação dentro de uma linha, envolva a equação com um cifrão, $x^2+2x+2$. Para criar uma equação numa linha separada, use dois: \n",
    "\n",
    "$$z \\left( 1 \\ +\\ \\sqrt{\\omega_{i+1} + \\zeta -\\frac{x+1}{\\Theta +1} y + 1}\n",
    "\\ \\right)\n",
    "\\ \\ \\ =\\ \\ \\ 1$$\n",
    "\n",
    "Para aprender a notação de LaTeX, veja os seguintes tutoriais:\n",
    "\n",
    "1. [ShareLaTeX](https://www.sharelatex.com/learn/Mathematical_expressions)\n",
    "2. [WikiBooks](https://en.wikibooks.org/wiki/LaTeX/Mathematics)"
   ]
  },
  {
   "cell_type": "markdown",
   "metadata": {},
   "source": [
    "# Criação de *virtual environments*\n",
    "\n",
    "Caso você tenha vários projetos com incompatibilidades de Python ou de pacotes (por exemplo, seu código só roda com uma versão anterior de um pacote, mas você gostaria de ter também o pacote mais recente), é necessário/útil criar ambientes virtuais, que são basicamente cópias separadas do Python, e pip, conda, etc, onde você consegue instalar o que você deseja em cada um.\n",
    "\n",
    "Para criar um *virtualenv*, veja a [seguinte documentação](https://virtualenv.pypa.io/en/stable/userguide/)\n",
    "\n",
    "Para criar um *conda-env*, veja a [seguinte documentação](https://conda.io/docs/user-guide/tasks/manage-environments.html)\n",
    "\n",
    "Caso você deseje utilizar essas cópias do Python em Jupyter Notebooks, é necessário adicionar o *kernel* aos kernels reconhecidos.\n",
    "\n",
    "## Instalação de Kernels\n",
    "\n",
    "Além de Kernels de Python, é possível adicionar outros Kernels, para Julia, R, Matlab, dentre outros. Para instalar um kernel diferente num Jupyter Notebook, é necessário seguir alguns passos. [Veja o tutorial de como instalar um kernel de Python](https://ipython.readthedocs.io/en/latest/install/kernel_install.html) Note que o tutorial foi escrito com Linux em mente, então você terá que adaptar o código para Windows."
   ]
  },
  {
   "cell_type": "markdown",
   "metadata": {},
   "source": [
    "# Anotação de tipos\n",
    "\n",
    "Em Python, variáveis podem ter qualquer tipo, e podem trocar de tipo quando quiser. Isso é chamado de *dynamic typing* ou *duck typing*. Isso permite que haja uma flexibilidade e facilidade muito desejáveis em algumas situações. Por exemplo, é bastante rápido e fácil escrever programas \"esboço\" que fazem o que desejamos, se comparado com uma linguagem menos flexível, como C ou Java. Porém, isso tem suas desvantangens, principalmente quando o tamanho de um projeto começa a aumentar. Isso é porque mais de uma pessoa começa a trabalhar no código e fica mais difícil de entender que tipos de objeto uma função requer, e retorna. Além disso, alguns IDEs como [PyCharm da JetBrains](https://www.jetbrains.com/pycharm/) (meu favorito) conseguem fornecer informações muito mais completar sobre funções e objetos se houver descrição dos tipos. Há programas, como o [`mypy`](http://mypy-lang.org/index.html) que checam o seu código e mostram onde pode haver erros e também permitem o uso dos dois tipos de notação, permitindo que você migre seu código gradualmente para um código com tipos. Todavia, os tipos em Python são sugestões (*type hinting*) e não impedem seu código de rodar caso ocorram violações.\n",
    "\n",
    "Em Python, para declarar uma função com os tipos explícitos, use a seguinte notação:"
   ]
  },
  {
   "cell_type": "code",
   "execution_count": 12,
   "metadata": {
    "collapsed": true
   },
   "outputs": [],
   "source": [
    "def sum_two_numbers(num1: float, num2: float) -> float: \n",
    "    return num1 + num2"
   ]
  },
  {
   "cell_type": "code",
   "execution_count": 13,
   "metadata": {},
   "outputs": [
    {
     "name": "stdout",
     "output_type": "stream",
     "text": [
      "3.0\n",
      "3\n",
      "ab\n"
     ]
    }
   ],
   "source": [
    "print(sum_two_numbers(1.0, 2.0))  # Esperado\n",
    "print(sum_two_numbers(1, 2))      # Diferente do esperado, mas resultado passável\n",
    "print(sum_two_numbers('a', 'b'))  # Muito diferente do esperado, mas roda."
   ]
  },
  {
   "cell_type": "markdown",
   "metadata": {},
   "source": [
    "Para ver mais detalhes sobre anotações, como criar novos tipos, veja a [documentação](https://docs.python.org/3/library/typing.html)"
   ]
  },
  {
   "cell_type": "markdown",
   "metadata": {},
   "source": [
    "Caso você deseje ler um livro que tem um conteúdo semelhante às minhas aulas, mas muito mais aprofundado, mais completo e melhor escrito, veja o livro [Python Data Science Handbook](https://github.com/jakevdp/PythonDataScienceHandbook) do Jake van der Plas."
   ]
  },
  {
   "cell_type": "markdown",
   "metadata": {},
   "source": [
    "# Outras coisas que Python consegue fazer\n",
    "\n",
    "## Webscraping\n",
    "\n",
    "Código compilado da video-aula disponível [aqui](https://www.youtube.com/watch?v=XQgXKtPSzUI)"
   ]
  },
  {
   "cell_type": "code",
   "execution_count": null,
   "metadata": {
    "collapsed": true
   },
   "outputs": [],
   "source": [
    "from bs4 import BeautifulSoup as soup\n",
    "from urllib.request import urlopen as uReq\n",
    "\n",
    "my_url = r'https://www.newegg.com/Desktop-Graphics-Cards/SubCategory/ID-48?Tid=7709'\n",
    "\n",
    "uClient = uReq(my_url) # Grabs the page and downloads it.\n",
    "page_html = uClient.read() # Dumps the content of the page to the variable.\n",
    "uClient.close()\n",
    "\n",
    "page_soup = soup(page_html, 'html.parser')\n",
    "\n",
    "containers = page_soup.findAll(r'div', {'class':'item-container'}) # Returns a beautifulsoup4 ResultSet\n",
    "\n",
    "filename = 'products.csv'\n",
    "f = open(filename, 'w')\n",
    "\n",
    "header = 'brand, product_name, shipping\\n'\n",
    "f.write(header)\n",
    "\n",
    "for i, container in enumerate(containers):\n",
    "    brand = container.div.div.a.img['title']\n",
    "\n",
    "    title_container = container.findAll(\"a\", {'class':'item-title'})\n",
    "    product_name = title_container[0].text\n",
    "\n",
    "    shipping_container = container.findAll('li', {'class':'price-ship'})\n",
    "    shipping = shipping_container[0].text.strip()\n",
    "\n",
    "    print(f'####{i+1}####\\nbrand:  ' + brand)\n",
    "    print('\\tproduct_name:  ' + product_name)\n",
    "    print('\\tshipping:  ' + shipping)\n",
    "\n",
    "    f.write(f'{brand},{product_name.replace(\",\",\"|\")},{shipping}\\n')\n",
    "#    f.write(brand + ',' + product_name.replace(',','|') + ',' + shipping + '\\n')\n",
    "\n",
    "f.close()"
   ]
  }
 ],
 "metadata": {
  "hide_input": false,
  "kernelspec": {
   "display_name": "Python 3",
   "language": "python",
   "name": "python3"
  },
  "language_info": {
   "codemirror_mode": {
    "name": "ipython",
    "version": 3
   },
   "file_extension": ".py",
   "mimetype": "text/x-python",
   "name": "python",
   "nbconvert_exporter": "python",
   "pygments_lexer": "ipython3",
   "version": "3.6.4"
  },
  "toc": {
   "base_numbering": 1,
   "nav_menu": {},
   "number_sections": true,
   "sideBar": true,
   "skip_h1_title": false,
   "title_cell": "Conteúdo",
   "title_sidebar": "Conteúdo",
   "toc_cell": true,
   "toc_position": {},
   "toc_section_display": true,
   "toc_window_display": false
  },
  "varInspector": {
   "cols": {
    "lenName": 16,
    "lenType": 16,
    "lenVar": 40
   },
   "kernels_config": {
    "python": {
     "delete_cmd_postfix": "",
     "delete_cmd_prefix": "del ",
     "library": "var_list.py",
     "varRefreshCmd": "print(var_dic_list())"
    },
    "r": {
     "delete_cmd_postfix": ") ",
     "delete_cmd_prefix": "rm(",
     "library": "var_list.r",
     "varRefreshCmd": "cat(var_dic_list()) "
    }
   },
   "types_to_exclude": [
    "module",
    "function",
    "builtin_function_or_method",
    "instance",
    "_Feature"
   ],
   "window_display": false
  }
 },
 "nbformat": 4,
 "nbformat_minor": 2
}
