{
 "cells": [
  {
   "cell_type": "markdown",
   "metadata": {
    "toc": true
   },
   "source": [
    "<h1>Conteúdo<span class=\"tocSkip\"></span></h1>\n",
    "<div class=\"toc\"><ul class=\"toc-item\"><li><span><a href=\"#Introdução\" data-toc-modified-id=\"Introdução-1\"><span class=\"toc-item-num\">1&nbsp;&nbsp;</span>Introdução</a></span><ul class=\"toc-item\"><li><span><a href=\"#pip\" data-toc-modified-id=\"pip-1.1\"><span class=\"toc-item-num\">1.1&nbsp;&nbsp;</span><em>pip</em></a></span></li><li><span><a href=\"#conda\" data-toc-modified-id=\"conda-1.2\"><span class=\"toc-item-num\">1.2&nbsp;&nbsp;</span><em>conda</em></a></span></li></ul></li><li><span><a href=\"#Instalação-de-pacotes-pelo-console\" data-toc-modified-id=\"Instalação-de-pacotes-pelo-console-2\"><span class=\"toc-item-num\">2&nbsp;&nbsp;</span>Instalação de pacotes pelo console</a></span></li><li><span><a href=\"#Utilização-de-pacotes---import\" data-toc-modified-id=\"Utilização-de-pacotes---import-3\"><span class=\"toc-item-num\">3&nbsp;&nbsp;</span>Utilização de pacotes - <em>import</em></a></span></li><li><span><a href=\"#Uncertainties\" data-toc-modified-id=\"Uncertainties-4\"><span class=\"toc-item-num\">4&nbsp;&nbsp;</span>Uncertainties</a></span></li><li><span><a href=\"#Sympy\" data-toc-modified-id=\"Sympy-5\"><span class=\"toc-item-num\">5&nbsp;&nbsp;</span>Sympy</a></span></li><li><span><a href=\"#glob,-os\" data-toc-modified-id=\"glob,-os-6\"><span class=\"toc-item-num\">6&nbsp;&nbsp;</span><em>glob</em>, <em>os</em></a></span></li><li><span><a href=\"#Outros-exemplos-de-pacotes-existes-no-PyPI\" data-toc-modified-id=\"Outros-exemplos-de-pacotes-existes-no-PyPI-7\"><span class=\"toc-item-num\">7&nbsp;&nbsp;</span>Outros exemplos de pacotes existes no PyPI</a></span></li><li><span><a href=\"#Exemplos-de-jupyter-notebooks-na-internet\" data-toc-modified-id=\"Exemplos-de-jupyter-notebooks-na-internet-8\"><span class=\"toc-item-num\">8&nbsp;&nbsp;</span>Exemplos de jupyter notebooks na internet</a></span></li></ul></div>"
   ]
  },
  {
   "cell_type": "markdown",
   "metadata": {},
   "source": [
    "# Introdução\n",
    "\n",
    "Um dos grandes pontos positivos do Python é sua biblioteca interna bastante completa e extenso ecosistema de pacotes. É difícil pensar num pacote que não foi feito, e se não foi, qualquer um pode publicar um pacote, desde que ele se atenha a alguns detalhes. Além disso, é muito fácil instalar pacotes. Isso é feito de uma maneira principal (pip), e de outra complementar (conda).\n",
    "\n",
    "## *pip*\n",
    "\n",
    "O método principal de instalação de pacotes é pelo *pip*, que significa *pip installs packages*. A sintaxe de instalação é:\n",
    "\n",
    "    pip install <nome do pacote>\n",
    "\n",
    "Porém, isso deve ser feito não no Jupyter Notebook, mas no console. Aperte a tecla do windows + R e digite 'cmd' ou 'powershell', sem as aspas, e digite pip. Se o seguinte aparecer, tudo está OK para continuar.\n",
    "\n",
    "    Usage:   \n",
    "      pip <command> [options]\n",
    "\n",
    "    Commands:\n",
    "      install                     Install packages.\n",
    "      download                    Download packages.\n",
    "      uninstall                   Uninstall packages.\n",
    "      freeze                      Output installed packages in requirements format.\n",
    "      list                        List installed packages.\n",
    "      show                        Show information about installed packages.\n",
    "    [...]\n",
    "\n",
    "Se ele retornar um erro do tipo *pip não foi encontrado*, significa que *pip* não está na variável PATH de ambiente. Para fazer isso, vá até o painel de controle, clique em sistema, configurações avançadas, aba avançadas, variáveis de ambiente. Na parte debaixo, em variáveis de sistema, clique em PATH, editar, e adicione o caminho de onde tanto *pip* quanto *python* estão. Para encontrar isso, encontre esses arquivos pela busca do sistema, e pegue o caminho da barra de endereço.\n",
    "\n",
    "Caso você tenha instalado o anaconda ou o miniconda, é possível instalar pacotes de outra maneira.\n",
    "\n",
    "## *conda*\n",
    "\n",
    "Conda instala qualquer pacote em ambientes conda, e pip instala pacotes do Python em qualquer ambiente. Isso pode não fazer muito sentido, mas basicamente, se você quiser instalar um novo pacote e você tem Anaconda instalado, utilize conda, possivelmente com a opção conda-forge. Senão, use pip. Aqui, os pacotes que serão instalados são bastante simples, e o pip é o suficiente.\n",
    "\n",
    "# Instalação de pacotes pelo console\n",
    "\n",
    "Abra uma janela do console, ou utilize a janela já aberta com o pip. Digite:\n",
    "\n",
    "    pip install uncertainties sympy\n",
    "    \n",
    "Isso irá instalar o pacote para propagação de incertezas e um pacote para matemática simbólica. Caso você não consiga rodar o pip, tente rodar o seguinte (copie e cole numa cela -- medida de proteção contra execução indesejada do código).\n",
    "\n",
    "    import sys\n",
    "    !{sys.executable} -m pip install uncertainties sympy\n",
    "\n",
    "Para encontrar pacotes, basta utilizar o google ou procurar no [Python Package Index, PyPI](https://pypi.org/)\n",
    "\n",
    "[Link muito útil discutindo as diferenças entre pip e conda](https://jakevdp.github.io/blog/2017/12/05/installing-python-packages-from-jupyter/)\n",
    "\n",
    "# Utilização de pacotes - *import*\n",
    "\n",
    "Para começar a utilizar um pacote, é necessário o comando **import**. Há várias maneiras que isso pode ser feito.\n",
    "\n",
    "1. import {pacote}\n",
    "2. import {pacote} as {apelido}\n",
    "3. from {pacote} import {parte}\n",
    "\n",
    "O primeiro método importa o pacote normalmente. Porém, para utilizar o conteúdo do pacote, é necessário utilizar a notação de ponto. Caso o nome do pacote seja muito comprido, isso fica bastante inconveniente. Logo, é frequente utilizar apelidos para os pacotes (*alias*). Caso você deseje utilizar as funções de um pacote sem ter que preceder as funções com o nome do pacote, pode utilizar a terceira notação. Caso deseje importar tudo, pode utilizar **from {pacote} import * **, mas isso não é muito recomendado. Veja os seguintes exemplos."
   ]
  },
  {
   "cell_type": "code",
   "execution_count": 8,
   "metadata": {},
   "outputs": [],
   "source": [
    "from uncertainties import ufloat\n",
    "import sympy as sp"
   ]
  },
  {
   "cell_type": "markdown",
   "metadata": {},
   "source": [
    "Caso você tenha instalado ambos os pacotes corretamente, essa etapa irá ocorrer sem maiores problemas.\n",
    "\n",
    "# Uncertainties\n",
    "\n",
    "Esse pacote facilita muito a propagação de erro, mesmo de equações complexas. É necessário somente criar as variáveis com os valores e erros associados, e depois realizar as contas como normal. No final, o valor terá seu erro propagado. O pacote não é perfeito, e não funciona muito bem para coisas muito complexas (veja a documentação do pacote para mais detalhes, [aqui](https://pythonhosted.org/uncertainties/)).\n",
    "\n",
    "Veja o exemplo, utilizando *r* como o raio de uma esfera e um valor aproximado para pi."
   ]
  },
  {
   "cell_type": "code",
   "execution_count": 9,
   "metadata": {},
   "outputs": [
    {
     "name": "stdout",
     "output_type": "stream",
     "text": [
      "O raio da esfera é 13.0+/-1.0, seu volume é (9.2+/-2.1)e+03, sua área é (2.12+/-0.33)e+03 e o perímetro de um círculo com esse raio é 82+/-6\n"
     ]
    }
   ],
   "source": [
    "r = ufloat(13, 1)\n",
    "pi = ufloat(3.14, 0.01)\n",
    "\n",
    "V = 4/3 * pi * r ** 3\n",
    "A = 4 * pi * r ** 2\n",
    "p = 2 * pi * r\n",
    "\n",
    "print(f'O raio da esfera é {r}, seu volume é {V}, sua área é {A} e o perímetro de um círculo com esse raio é {p}')"
   ]
  },
  {
   "cell_type": "markdown",
   "metadata": {},
   "source": [
    "Calcular coisas mais complexas fica a critério de sua criatividade.\n",
    "\n",
    "# Sympy\n",
    "\n",
    "O pacote sympy ([homepage](http://www.sympy.org/en/index.html)) é utilizado para fazer cálculos simbólicos. Por exemplo, é possível fornecer uma equação e obter sua derivada parcial em relação a um termo. Além disso, ele consegue mostrar as equações de uma maneira bastante bonita. Vamos começar definindo uma função simples, e depois realizando algumas operações simples"
   ]
  },
  {
   "cell_type": "code",
   "execution_count": 10,
   "metadata": {},
   "outputs": [
    {
     "data": {
      "image/png": "[encoded data removed]",
      "text/latex": [
       "$$a x^{2} + b x + c$$"
      ],
      "text/plain": [
       "   2          \n",
       "a⋅x  + b⋅x + c"
      ]
     },
     "execution_count": 10,
     "metadata": {},
     "output_type": "execute_result"
    }
   ],
   "source": [
    "sp.init_printing(use_latex=True) # Caso isso não funcione, utilize use use_unicode=True\n",
    "\n",
    "x, y, a, b, c = sp.symbols('x y a b c')\n",
    "f = a * x ** 2 + b * x + c\n",
    "f"
   ]
  },
  {
   "cell_type": "code",
   "execution_count": 11,
   "metadata": {},
   "outputs": [
    {
     "data": {
      "image/png": "[encoded data removed]",
      "text/latex": [
       "$$\\frac{\\partial}{\\partial x}\\left(a x^{2} + b x + c\\right)$$"
      ],
      "text/plain": [
       "∂ ⎛   2          ⎞\n",
       "──⎝a⋅x  + b⋅x + c⎠\n",
       "∂x                "
      ]
     },
     "execution_count": 11,
     "metadata": {},
     "output_type": "execute_result"
    }
   ],
   "source": [
    "sp.Derivative(f, x)  # Mostra a operação de derivação"
   ]
  },
  {
   "cell_type": "code",
   "execution_count": 12,
   "metadata": {},
   "outputs": [
    {
     "data": {
      "image/png": "[encoded data removed]",
      "text/latex": [
       "$$2 a x + b$$"
      ],
      "text/plain": [
       "2⋅a⋅x + b"
      ]
     },
     "execution_count": 12,
     "metadata": {},
     "output_type": "execute_result"
    }
   ],
   "source": [
    "sp.derive_by_array(f, x)  # Executa a derivação"
   ]
  },
  {
   "cell_type": "code",
   "execution_count": 13,
   "metadata": {},
   "outputs": [
    {
     "data": {
      "image/png": "[encoded data removed]",
      "text/latex": [
       "$$\\int \\left(a x^{2} + b x + c\\right)\\, dx$$"
      ],
      "text/plain": [
       "⌠                    \n",
       "⎮ ⎛   2          ⎞   \n",
       "⎮ ⎝a⋅x  + b⋅x + c⎠ dx\n",
       "⌡                    "
      ]
     },
     "execution_count": 13,
     "metadata": {},
     "output_type": "execute_result"
    }
   ],
   "source": [
    "sp.Integral(f, x)  # Mostra a operação de integração"
   ]
  },
  {
   "cell_type": "code",
   "execution_count": 14,
   "metadata": {},
   "outputs": [
    {
     "data": {
      "image/png": "[encoded data removed]",
      "text/latex": [
       "$$\\frac{a x^{3}}{3} + \\frac{b x^{2}}{2} + c x$$"
      ],
      "text/plain": [
       "   3      2      \n",
       "a⋅x    b⋅x       \n",
       "──── + ──── + c⋅x\n",
       " 3      2        "
      ]
     },
     "execution_count": 14,
     "metadata": {},
     "output_type": "execute_result"
    }
   ],
   "source": [
    "sp.integrate(f, x)  # Integra (não se esqueça do C!)"
   ]
  },
  {
   "cell_type": "code",
   "execution_count": 15,
   "metadata": {},
   "outputs": [
    {
     "data": {
      "image/png": "[encoded data removed]",
      "text/latex": [
       "$$y = a x^{2} + b x + c$$"
      ],
      "text/plain": [
       "       2          \n",
       "y = a⋅x  + b⋅x + c"
      ]
     },
     "execution_count": 15,
     "metadata": {},
     "output_type": "execute_result"
    }
   ],
   "source": [
    "f2 = sp.Equality(y, f) # Cria uma igualdade\n",
    "f2"
   ]
  },
  {
   "cell_type": "code",
   "execution_count": 16,
   "metadata": {},
   "outputs": [
    {
     "data": {
      "image/png": "[encoded data removed]",
      "text/latex": [
       "$$\\frac{\\partial}{\\partial x} y = a x^{2} + b x + c$$"
      ],
      "text/plain": [
       "∂ ⎛       2          ⎞\n",
       "──⎝y = a⋅x  + b⋅x + c⎠\n",
       "∂x                    "
      ]
     },
     "execution_count": 16,
     "metadata": {},
     "output_type": "execute_result"
    }
   ],
   "source": [
    "sp.derive_by_array(f2, x)  # Deriva a igualdade, mostrando a derivação parcial"
   ]
  },
  {
   "cell_type": "code",
   "execution_count": 17,
   "metadata": {},
   "outputs": [],
   "source": [
    "G0, tr, w = sp.symbols('G_0, tau_r, omega')  # Define os símbolos do modelo de Maxwell"
   ]
  },
  {
   "cell_type": "code",
   "execution_count": 18,
   "metadata": {},
   "outputs": [],
   "source": [
    "G1 = G0 * (tr * w) ** 2 / ((tr * w) ** 2 + 1)  # G'\n",
    "G2 = G0 * (tr * w) / ((tr * w) ** 2 + 1)       # G''\n"
   ]
  },
  {
   "cell_type": "code",
   "execution_count": 19,
   "metadata": {},
   "outputs": [
    {
     "data": {
      "image/png": "[encoded data removed]",
      "text/latex": [
       "$$\\frac{G_{0} \\omega^{2} \\tau_{r}^{2}}{\\omega^{2} \\tau_{r}^{2} + 1}$$"
      ],
      "text/plain": [
       "    2   2 \n",
       "G₀⋅ω ⋅τᵣ  \n",
       "──────────\n",
       " 2   2    \n",
       "ω ⋅τᵣ  + 1"
      ]
     },
     "execution_count": 19,
     "metadata": {},
     "output_type": "execute_result"
    }
   ],
   "source": [
    "G1"
   ]
  },
  {
   "cell_type": "code",
   "execution_count": 20,
   "metadata": {},
   "outputs": [
    {
     "data": {
      "image/png": "[encoded data removed]",
      "text/latex": [
       "$$\\frac{G_{0} \\omega \\tau_{r}}{\\omega^{2} \\tau_{r}^{2} + 1}$$"
      ],
      "text/plain": [
       " G₀⋅ω⋅τᵣ  \n",
       "──────────\n",
       " 2   2    \n",
       "ω ⋅τᵣ  + 1"
      ]
     },
     "execution_count": 20,
     "metadata": {},
     "output_type": "execute_result"
    }
   ],
   "source": [
    "G2"
   ]
  },
  {
   "cell_type": "code",
   "execution_count": 21,
   "metadata": {},
   "outputs": [
    {
     "data": {
      "image/png": "[encoded data removed]",
      "text/latex": [
       "$$- \\frac{2 G_{0} \\omega^{3} \\tau_{r}^{4}}{\\left(\\omega^{2} \\tau_{r}^{2} + 1\\right)^{2}} + \\frac{2 G_{0} \\omega \\tau_{r}^{2}}{\\omega^{2} \\tau_{r}^{2} + 1}$$"
      ],
      "text/plain": [
       "         3   4             2\n",
       "   2⋅G₀⋅ω ⋅τᵣ     2⋅G₀⋅ω⋅τᵣ \n",
       "- ───────────── + ──────────\n",
       "              2    2   2    \n",
       "  ⎛ 2   2    ⎞    ω ⋅τᵣ  + 1\n",
       "  ⎝ω ⋅τᵣ  + 1⎠              "
      ]
     },
     "execution_count": 21,
     "metadata": {},
     "output_type": "execute_result"
    }
   ],
   "source": [
    "der1 = sp.derive_by_array(G1, w)\n",
    "der2 = sp.derive_by_array(G2, w)  # Derivadas\n",
    "der1"
   ]
  },
  {
   "cell_type": "code",
   "execution_count": 22,
   "metadata": {},
   "outputs": [
    {
     "data": {
      "image/png": "[encoded data removed]",
      "text/latex": [
       "$$- \\frac{2 G_{0} \\omega^{2} \\tau_{r}^{3}}{\\left(\\omega^{2} \\tau_{r}^{2} + 1\\right)^{2}} + \\frac{G_{0} \\tau_{r}}{\\omega^{2} \\tau_{r}^{2} + 1}$$"
      ],
      "text/plain": [
       "         2   3              \n",
       "   2⋅G₀⋅ω ⋅τᵣ       G₀⋅τᵣ   \n",
       "- ───────────── + ──────────\n",
       "              2    2   2    \n",
       "  ⎛ 2   2    ⎞    ω ⋅τᵣ  + 1\n",
       "  ⎝ω ⋅τᵣ  + 1⎠              "
      ]
     },
     "execution_count": 22,
     "metadata": {},
     "output_type": "execute_result"
    }
   ],
   "source": [
    "der2"
   ]
  },
  {
   "cell_type": "code",
   "execution_count": 23,
   "metadata": {},
   "outputs": [
    {
     "data": {
      "image/png": "[encoded data removed]",
      "text/latex": [
       "$$\\left\\{- \\frac{1}{\\tau_{r}}, \\frac{1}{\\tau_{r}}\\right\\} \\setminus \\left\\{- \\frac{i}{\\tau_{r}}, \\frac{i}{\\tau_{r}}\\right\\}$$"
      ],
      "text/plain": [
       "⎧-1   1 ⎫   ⎧-ⅈ   ⅈ ⎫\n",
       "⎨───, ──⎬ \\ ⎨───, ──⎬\n",
       "⎩ τᵣ  τᵣ⎭   ⎩ τᵣ  τᵣ⎭"
      ]
     },
     "execution_count": 23,
     "metadata": {},
     "output_type": "execute_result"
    }
   ],
   "source": [
    "sp.solveset(der2, w)"
   ]
  },
  {
   "cell_type": "code",
   "execution_count": 24,
   "metadata": {},
   "outputs": [
    {
     "data": {
      "image/png": "[encoded data removed]",
      "text/latex": [
       "$$\\left\\{0, \\frac{1}{\\tau_{r}}\\right\\} \\setminus \\left\\{- \\frac{i}{\\tau_{r}}, \\frac{i}{\\tau_{r}}\\right\\}$$"
      ],
      "text/plain": [
       "⎧   1 ⎫   ⎧-ⅈ   ⅈ ⎫\n",
       "⎨0, ──⎬ \\ ⎨───, ──⎬\n",
       "⎩   τᵣ⎭   ⎩ τᵣ  τᵣ⎭"
      ]
     },
     "execution_count": 24,
     "metadata": {},
     "output_type": "execute_result"
    }
   ],
   "source": [
    "sp.solveset(G1 - G2, w)  # Resolução de quando G' = G'' (regime linear)"
   ]
  },
  {
   "cell_type": "markdown",
   "metadata": {},
   "source": [
    "Como pode ser visto, o sympy é uma ferramenta bastante poderosa. Brinque como desejar com ela.\n",
    "\n",
    "# *glob*, *os*\n",
    "\n",
    "Esses dois pacotes vem inclusos com o Python.\n",
    "\n",
    "A função do glob é produzir listas que contém nomes de arquivos seguindo uma determinada regra. Ele é muito utilizado para, por exemplo, criar uma lista com todos os nomes dos experimentos que serão tratados.\n",
    "\n",
    "A função de os é providenciar funções gerais para operações com o sistema operacional, seja ele Windows, Linux ou Mac. Esse pacote pode ser utilizado para renomear arquivos e também para alterar o diretório ativo (onde o Python procura primeiro por arquivos).\n",
    "\n",
    "Neste exemplo, iremos alterar o diretório atual para o diretório que contém os arquivos, e depois criar uma lista com seus nomes. Aí, os arquivos serão renomeados."
   ]
  },
  {
   "cell_type": "code",
   "execution_count": 25,
   "metadata": {},
   "outputs": [],
   "source": [
    "import os\n",
    "import glob"
   ]
  },
  {
   "cell_type": "code",
   "execution_count": 40,
   "metadata": {},
   "outputs": [
    {
     "name": "stdout",
     "output_type": "stream",
     "text": [
      "C:\\Users\\Jhair Acosta\\Dropbox\\Python\\Curso-Python-PSCAD\n",
      "C:\\Users\\Jhair Acosta\\Dropbox\\Python\\Curso-Python-PSCAD\\dados-1\n"
     ]
    }
   ],
   "source": [
    "print(os.getcwd())\n",
    "old_directory = os.getcwd()\n",
    "os.chdir(r'./dados-1')  # '.' significa o diretório atual, então isso significa a pasta dados-1 no diretório atual\n",
    "print(os.getcwd())"
   ]
  },
  {
   "cell_type": "markdown",
   "metadata": {},
   "source": [
    "Agora que mudamos de diretório, conseguimos acessar facilmente os arquivos. Para isso, vamos utilizar o glob."
   ]
  },
  {
   "cell_type": "code",
   "execution_count": 28,
   "metadata": {},
   "outputs": [
    {
     "data": {
      "text/plain": [
       "['37.dat',\n",
       " '38.dat',\n",
       " '39.dat',\n",
       " '40.dat',\n",
       " '41.dat',\n",
       " '42.dat',\n",
       " '43.dat',\n",
       " '44.dat',\n",
       " '45.dat']"
      ]
     },
     "execution_count": 28,
     "metadata": {},
     "output_type": "execute_result"
    }
   ],
   "source": [
    "arquivos = glob.glob('*.dat')\n",
    "arquivos"
   ]
  },
  {
   "cell_type": "markdown",
   "metadata": {},
   "source": [
    "Como podemos ver, há 9 arquivos com alguns nomes pouco descritivos. Vamos agora melhorar a descrição deles. Isso é útil porque, ao tratar um dos arquivos, podemos nos referir ao nome dele para, por exemplo, colocar na legenda de uma figura, sem ter que configurar isso separadamente.\n",
    "\n",
    "Primeiro começamos definindo os novos nomes e checamos se tudo está certo."
   ]
  },
  {
   "cell_type": "code",
   "execution_count": 29,
   "metadata": {},
   "outputs": [
    {
     "data": {
      "text/plain": [
       "['Sim37.dat',\n",
       " 'Sim38.dat',\n",
       " 'Sim39.dat',\n",
       " 'Sim40.dat',\n",
       " 'Sim41.dat',\n",
       " 'Sim42.dat',\n",
       " 'Sim43.dat',\n",
       " 'Sim44.dat',\n",
       " 'Sim45.dat']"
      ]
     },
     "execution_count": 29,
     "metadata": {},
     "output_type": "execute_result"
    }
   ],
   "source": [
    "novos_nomes = ['Sim' + i for i in arquivos]\n",
    "novos_nomes"
   ]
  },
  {
   "cell_type": "markdown",
   "metadata": {},
   "source": [
    "Agora alteramos os nomes dos arquivos para esses novos nomes."
   ]
  },
  {
   "cell_type": "code",
   "execution_count": 30,
   "metadata": {},
   "outputs": [],
   "source": [
    "for velho, novo in zip(arquivos, novos_nomes):\n",
    "    os.rename(velho, novo)"
   ]
  },
  {
   "cell_type": "code",
   "execution_count": 31,
   "metadata": {},
   "outputs": [
    {
     "data": {
      "text/plain": [
       "['Sim37.dat',\n",
       " 'Sim38.dat',\n",
       " 'Sim39.dat',\n",
       " 'Sim40.dat',\n",
       " 'Sim41.dat',\n",
       " 'Sim42.dat',\n",
       " 'Sim43.dat',\n",
       " 'Sim44.dat',\n",
       " 'Sim45.dat']"
      ]
     },
     "execution_count": 31,
     "metadata": {},
     "output_type": "execute_result"
    }
   ],
   "source": [
    "glob.glob('*.dat')"
   ]
  },
  {
   "cell_type": "markdown",
   "metadata": {},
   "source": [
    "Para resetar os nomes ao formato original, rode o seguinte comando que é uma inversão do comando anterior."
   ]
  },
  {
   "cell_type": "code",
   "execution_count": 32,
   "metadata": {},
   "outputs": [],
   "source": [
    "for velho, novo in zip(novos_nomes, arquivos):\n",
    "    os.rename(velho, novo)"
   ]
  },
  {
   "cell_type": "markdown",
   "metadata": {},
   "source": [
    "Podem voltar ao diretório original usando:"
   ]
  },
  {
   "cell_type": "code",
   "execution_count": 41,
   "metadata": {},
   "outputs": [
    {
     "data": {
      "text/plain": [
       "'C:\\\\Users\\\\Jhair Acosta\\\\Dropbox\\\\Python\\\\Curso-Python-PSCAD'"
      ]
     },
     "execution_count": 41,
     "metadata": {},
     "output_type": "execute_result"
    }
   ],
   "source": [
    "os.chdir(old_directory)\n",
    "os.getcwd()"
   ]
  },
  {
   "cell_type": "markdown",
   "metadata": {},
   "source": [
    "Espero que consiga ver o quão útil isso pode ser. Imagine que você receba uma grande quantidade de arquivos com nomes irregulares, alguns maiúsculos, outros minúsculos, com erros de digitação nos compostos, etc. Seria muito chato alterar os nomes manualmente. Com essas ferramentas, isso se torna muito mais fácil.\n",
    "\n",
    "Não é necessário rodar isso por um Jupyter Notebook. Você pode abrir uma seção de Python interativo pelo console e copiar e colar os códigos das celas anteriores, alterando de acordo com sua necessidade. Você pode também colar o código em um arquivo `.py` e executar o python no arquivo pelo console."
   ]
  },
  {
   "cell_type": "markdown",
   "metadata": {},
   "source": [
    "# Outros exemplos de pacotes existes no PyPI\n",
    "\n",
    "Eu não necessariamente utilizei qualquer um desses pacotes.\n",
    "\n",
    "* [pyteomics](https://pypi.org/project/pyteomics/), sobre proteômica\n",
    "* [PyQuante](https://pypi.org/project/PyQuante/), sobre cálculos de química quântica\n",
    "* [ChemPy](https://pypi.org/project/chempy/), pacote com funções para resolver problemas de química mais clássica.\n",
    "* [PyMol](https://pymol.org/2/), pacote de visualização molecular (pago)\n",
    "* [QuantumWorldX](https://pypi.org/project/quantumworldX/), pacote sobre um curso de Harvard de Quântica\n",
    "* [regex](https://pypi.org/project/regex/), pacote alternativo de expressões regulares compatível com `re`, mas que possui mais recursos\n",
    "* [altair](https://pypi.org/project/altair/), um conjunto de ferramentas para criar gráficos utilizando uma gramática diferente da tradicional\n",
    "* [BeautifulSoup](https://code.launchpad.net/beautifulsoup), para fazer *web scraping*.\n",
    "* [SQLAlchemy](http://www.sqlalchemy.org/), para fazer interfaces com bancos de dados.\n",
    "* [ReportLab](https://pypi.org/project/reportlab/), para criar relatórios em PDF\n",
    "* [Python-docx](https://python-docx.readthedocs.io/en/latest/), para manipular arquivos docx\n",
    "* [openpyxl](https://openpyxl.readthedocs.io/en/stable/), para manipular arquivos xlsx\n",
    "* [TensorFlow](https://www.tensorflow.org/), para machinelearning"
   ]
  },
  {
   "cell_type": "markdown",
   "metadata": {},
   "source": [
    "# Exemplos de jupyter notebooks na internet\n",
    "\n",
    "No wiki do Jupyter, há uma lista de notebooks, ou conjuntos de notebooks, sobre vários temas interessantes. Por exemplo, [nesta seção](https://github.com/jupyter/jupyter/wiki/A-gallery-of-interesting-Jupyter-Notebooks#physics-chemistry-and-biology), há vários exemplos de notebooks sobre química, física e biologia. Veja, em especial, um notebook que explica como desenhar estruturas utilizando Python e `rdkit`. Há também um tutorial de `Sympy` que dá de 10 a 0 na minha introdução, [aqui](https://nbviewer.jupyter.org/url/www.inp.nsk.su/%7Egrozin/python/sympy.ipynb)."
   ]
  }
 ],
 "metadata": {
  "hide_input": false,
  "kernelspec": {
   "display_name": "Python 3",
   "language": "python",
   "name": "python3"
  },
  "language_info": {
   "codemirror_mode": {
    "name": "ipython",
    "version": 3
   },
   "file_extension": ".py",
   "mimetype": "text/x-python",
   "name": "python",
   "nbconvert_exporter": "python",
   "pygments_lexer": "ipython3",
   "version": "3.6.4"
  },
  "toc": {
   "base_numbering": 1,
   "nav_menu": {},
   "number_sections": true,
   "sideBar": true,
   "skip_h1_title": false,
   "title_cell": "Conteúdo",
   "title_sidebar": "Conteúdo",
   "toc_cell": true,
   "toc_position": {},
   "toc_section_display": true,
   "toc_window_display": true
  },
  "varInspector": {
   "cols": {
    "lenName": 16,
    "lenType": 16,
    "lenVar": 40
   },
   "kernels_config": {
    "python": {
     "delete_cmd_postfix": "",
     "delete_cmd_prefix": "del ",
     "library": "var_list.py",
     "varRefreshCmd": "print(var_dic_list())"
    },
    "r": {
     "delete_cmd_postfix": ") ",
     "delete_cmd_prefix": "rm(",
     "library": "var_list.r",
     "varRefreshCmd": "cat(var_dic_list()) "
    }
   },
   "types_to_exclude": [
    "module",
    "function",
    "builtin_function_or_method",
    "instance",
    "_Feature"
   ],
   "window_display": false
  }
 },
 "nbformat": 4,
 "nbformat_minor": 2
}
