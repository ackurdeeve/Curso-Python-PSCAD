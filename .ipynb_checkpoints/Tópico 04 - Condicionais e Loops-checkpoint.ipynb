{
 "cells": [
  {
   "cell_type": "markdown",
   "metadata": {
    "toc": true
   },
   "source": [
    "<h1>Conteúdo<span class=\"tocSkip\"></span></h1>\n",
    "<div class=\"toc\"><ul class=\"toc-item\"><li><span><a href=\"#Revisão-do-conteúdo-anterior\" data-toc-modified-id=\"Revisão-do-conteúdo-anterior-1\"><span class=\"toc-item-num\">1&nbsp;&nbsp;</span>Revisão do conteúdo anterior</a></span></li><li><span><a href=\"#Introdução\" data-toc-modified-id=\"Introdução-2\"><span class=\"toc-item-num\">2&nbsp;&nbsp;</span>Introdução</a></span></li><li><span><a href=\"#Condicionais\" data-toc-modified-id=\"Condicionais-3\"><span class=\"toc-item-num\">3&nbsp;&nbsp;</span>Condicionais</a></span><ul class=\"toc-item\"><li><span><a href=\"#if\" data-toc-modified-id=\"if-3.1\"><span class=\"toc-item-num\">3.1&nbsp;&nbsp;</span>if</a></span></li><li><span><a href=\"#Juntando-condições---and,-or,-not,-all,-any\" data-toc-modified-id=\"Juntando-condições---and,-or,-not,-all,-any-3.2\"><span class=\"toc-item-num\">3.2&nbsp;&nbsp;</span>Juntando condições - <em>and</em>, <em>or</em>, <em>not</em>, <em>all</em>, <em>any</em></a></span></li><li><span><a href=\"#elif,-else\" data-toc-modified-id=\"elif,-else-3.3\"><span class=\"toc-item-num\">3.3&nbsp;&nbsp;</span>elif, else</a></span></li><li><span><a href=\"#Aninhamento\" data-toc-modified-id=\"Aninhamento-3.4\"><span class=\"toc-item-num\">3.4&nbsp;&nbsp;</span>Aninhamento</a></span></li><li><span><a href=\"#Exercício\" data-toc-modified-id=\"Exercício-3.5\"><span class=\"toc-item-num\">3.5&nbsp;&nbsp;</span>Exercício</a></span></li><li><span><a href=\"#Outras-coisas-interpretadas-como-sendo-verdadeiras-e-falsas\" data-toc-modified-id=\"Outras-coisas-interpretadas-como-sendo-verdadeiras-e-falsas-3.6\"><span class=\"toc-item-num\">3.6&nbsp;&nbsp;</span>Outras coisas interpretadas como sendo verdadeiras e falsas</a></span></li><li><span><a href=\"#in\" data-toc-modified-id=\"in-3.7\"><span class=\"toc-item-num\">3.7&nbsp;&nbsp;</span><em>in</em></a></span></li></ul></li><li><span><a href=\"#Loops\" data-toc-modified-id=\"Loops-4\"><span class=\"toc-item-num\">4&nbsp;&nbsp;</span>Loops</a></span><ul class=\"toc-item\"><li><span><a href=\"#while\" data-toc-modified-id=\"while-4.1\"><span class=\"toc-item-num\">4.1&nbsp;&nbsp;</span><em>while</em></a></span></li><li><span><a href=\"#Loops-infinitos\" data-toc-modified-id=\"Loops-infinitos-4.2\"><span class=\"toc-item-num\">4.2&nbsp;&nbsp;</span>Loops infinitos</a></span></li><li><span><a href=\"#for\" data-toc-modified-id=\"for-4.3\"><span class=\"toc-item-num\">4.3&nbsp;&nbsp;</span><em>for</em></a></span></li><li><span><a href=\"#Duas-(ou-mais)-variáveis\" data-toc-modified-id=\"Duas-(ou-mais)-variáveis-4.4\"><span class=\"toc-item-num\">4.4&nbsp;&nbsp;</span>Duas (ou mais) variáveis</a></span></li><li><span><a href=\"#enumerate\" data-toc-modified-id=\"enumerate-4.5\"><span class=\"toc-item-num\">4.5&nbsp;&nbsp;</span><em>enumerate</em></a></span></li><li><span><a href=\"#range\" data-toc-modified-id=\"range-4.6\"><span class=\"toc-item-num\">4.6&nbsp;&nbsp;</span><em>range</em></a></span></li><li><span><a href=\"#break-e-continue\" data-toc-modified-id=\"break-e-continue-4.7\"><span class=\"toc-item-num\">4.7&nbsp;&nbsp;</span><em>break</em> e <em>continue</em></a></span></li><li><span><a href=\"#Loops-aninhados-(nested-loops)\" data-toc-modified-id=\"Loops-aninhados-(nested-loops)-4.8\"><span class=\"toc-item-num\">4.8&nbsp;&nbsp;</span>Loops aninhados (<em>nested loops</em>)</a></span></li><li><span><a href=\"#List-comprehension\" data-toc-modified-id=\"List-comprehension-4.9\"><span class=\"toc-item-num\">4.9&nbsp;&nbsp;</span>List comprehension</a></span></li></ul></li><li><span><a href=\"#Consolidação-dos-conceitos\" data-toc-modified-id=\"Consolidação-dos-conceitos-5\"><span class=\"toc-item-num\">5&nbsp;&nbsp;</span>Consolidação dos conceitos</a></span><ul class=\"toc-item\"><li><span><a href=\"#Etapa-1:-Pensando-no-problema.\" data-toc-modified-id=\"Etapa-1:-Pensando-no-problema.-5.1\"><span class=\"toc-item-num\">5.1&nbsp;&nbsp;</span>Etapa 1: Pensando no problema.</a></span></li><li><span><a href=\"#Etapa-2:-Abrindo-o-arquivo\" data-toc-modified-id=\"Etapa-2:-Abrindo-o-arquivo-5.2\"><span class=\"toc-item-num\">5.2&nbsp;&nbsp;</span>Etapa 2: Abrindo o arquivo</a></span></li><li><span><a href=\"#Etapa-3:-Teste-com-uma-linha\" data-toc-modified-id=\"Etapa-3:-Teste-com-uma-linha-5.3\"><span class=\"toc-item-num\">5.3&nbsp;&nbsp;</span>Etapa 3: Teste com uma linha</a></span></li><li><span><a href=\"#Criação-do-loop\" data-toc-modified-id=\"Criação-do-loop-5.4\"><span class=\"toc-item-num\">5.4&nbsp;&nbsp;</span>Criação do loop</a></span></li></ul></li></ul></div>"
   ]
  },
  {
   "cell_type": "markdown",
   "metadata": {},
   "source": [
    "# Revisão do conteúdo anterior\n",
    "\n",
    "1. Funções.\n",
    "    1. Há funções internas ao Python (print, int, str, list)\n",
    "    2. Há métodos de objetos, que podem ser chamados com a notação do ponto (`'string'.upper()`)\n",
    "    3. Podem requerer argumentos, separados por vírgula, e podem também receber argumenos opcionais de palavra chave (*keyword argument*), que tem valores padrão.\n",
    "    4. Retornam zero (`None`), um ou mais valores\n",
    "    5. Aninhamento de funções (chamar uma função dentro de outra) é possível.\n",
    "2. Operações matemáticas básicas.\n",
    "    1. Soma, subtração, multiplicação, divisão (`+`, `-`, `*`, `/`)\n",
    "    2. Resto, divisão sem decimal, potênciação (`%`, `//`, `**`)\n",
    "    3. Algumas podem ser utilizadas em outros objetos não numéricos, desde que definidas (concatenação de strings, listas)\n",
    "3. Variáveis\n",
    "    1. Tipos (strings, integers, floats, listas)\n",
    "    2. Atribuição de valores e *unpacking* (a, b = 1, 2)\n",
    "    3. Utilização de variáveis para deixar o código mais abstrato.\n",
    "    4. Conversão de tipo (int->str, str->float, etc)\n",
    "    5. Comparação de valores: retorna um booleano (True, False)\n",
    "        1. `==`\n",
    "        2. `!=`\n",
    "        1. `\\>`\n",
    "        2. `<`\n",
    "        1. `<=`\n",
    "        1. `\\>=`\n",
    "        1. `a < b < c` também é válido e testa se b está entre a e c\n",
    "4. Estruturas de dados\n",
    "    1. Tipos: Listas, dicionários, tuplas\n",
    "        1. Listas: sequências ordenadas de objetos arbitrários (strings, números, outras listas). Mutáveis.\n",
    "        2. Dicionários: relações entre *chames* e *valores*. As chaves devem ser valores *hasháveis*, como strings, números, mas não listas, por exemplo. Idealmente, as chaves são imutáveis. Os dicionários, por sua vez, são mutáveis.\n",
    "        3. Tuplas: sequências ordenadas de objetos arbitrários. Imutáveis.\n",
    "    2. Declaração:\n",
    "        1. Listas: itens entre colchetes, separados por vírgula. `[1, 2, 3, 4]`\n",
    "        2. Dicionários: chave:valor, separados por vírgula, entre chaves. `{1:'a', 2:'b', 3:'c'}`\n",
    "        3. Tuplas: items entre parênteses, separados por vírgula.\n",
    "    3. Indexação:\n",
    "        1. Listas e tuplas: índice entre colchetes após o nome da lista. `lista1[0]`.\n",
    "            1. Índexação começa do zero. Então o primeiro elemento da lista1 é `lista1[0]`. O segundo, `lista1[1]`.\n",
    "            1. Índices podem ser negativos, o que significa que a contagem começa da direita para a esquerda. Ou seja, o índice -1 indica o último item de uma lista.\n",
    "        2. Dicionários: chave entre colchetes após o nome. `dict1['chave']`.\n",
    "    4. *Slicing*:\n",
    "        1. Obtenção de regiões de listas/tuplas utilizando uma notação 'início:fim(não incluso):passo'\n",
    "        2. Os índices e os passos podem ser números positivos ou negativos.\n",
    "        3. Por convenção, o passo é 1, o início é 0 e o final é a lista inteira. Então é possível abreviar os *slices*.\n",
    "        4. Exemplos:\n",
    "            1. `lista1[1:3]` pega os elementos do segundo ao terceiro, mas não o quarto (índice 3), de 1 a 1.\n",
    "            2. `lista1[:3]` pega os elementos do primeiro ao terceiro, de 1 a 1.\n",
    "            1. `lista1[::2]` pega todos os elementos, de 2 a 2.\n",
    "            2. `lista1[-1::-2]` pega todos os elementos do último ao primeiro, indo de 2 a 2, no sentido contrário.\n",
    "    3. Métodos internos:\n",
    "        1. Listas: \n",
    "            1. `append`: adiciona o valor do argumento no final da lista, retorna `None`.\n",
    "            2. `pop`: retorna o último elemento e remove-o.\n",
    "            3. `reverse`: inverte a ordem de uma lista, retorna `None`.\n",
    "            4. `sort`: organiza uma lista por um critério. Por padrão, é por número/alfabético. Retorna `None`.\n",
    "        2. Dicionários:\n",
    "            1. `keys`: retorna uma iterável (tipo uma lista) com as chaves do dicionário.\n",
    "            2. `values`: retorna um iterável com os valores do dicionário\n",
    "            3. `items`: retorna um iterável com uma tupla (chave, valor) de um dicionário.\n",
    "    4. Funções que podem ser aplicadas a estruturas de dados:\n",
    "        1. `len`: informa o comprimento de uma lista (número de itens) ou o número de chaves num dicionário.\n",
    "        2. `max`: informa o maior número numa lista ou chave do dicionário\n",
    "        3. `min`: informa o menor número numa lista ou chave do dicionário\n",
    "5. Strings\n",
    "    1. Sequências imutáveis de caracteres. Podem ser transformados em listas.\n",
    "    2. Podem ser concatenadas pelo operador `+`.\n",
    "    3. *Escape sequences* são caracteres precedidos por um \\, que indicam um uso especial do caracter.\n",
    "        1. `\\n`: nova linha.\n",
    "        2. `\\t`: tab\n",
    "        3. `\\r`: retorna ao começo da linha\n",
    "    4. *raw* strings: r'string'\n",
    "        1. Ignora qualquer *escape sequence*.\n",
    "    4. Métodos de formatação (junção de strings com outros valores)\n",
    "        1. Padrão da linguagem C: %\n",
    "        2. Método interno .format(itens)\n",
    "            1. Substitui cada {} com seu valor correspondente nos argumentos.\n",
    "        3. `f-strings`: f'string {nome da variável}'\n",
    "            1. Coloca pedaços de código dentro de chaves que são executados ao criar a string. Geralmente são colocados nomes de variáveis. Não é necessário conversão explícita de tipos.\n",
    "6. Obtenção de ajuda:\n",
    "    1. Função help.\n",
    "    2. ?(nome da função): ?print\n",
    "    3. Dentro dos parênteses na hora de chamar uma função, apertar Shift+Tab. 1x, 2x, 4x.\n"
   ]
  },
  {
   "cell_type": "markdown",
   "metadata": {},
   "source": [
    "# Introdução\n",
    "\n",
    "Condicionais e loops são os fundamentos de qualquer programa. São eles que permitem que decisões sejam tomadas durante a execução de problema, e permitem a mesma tarefa ser realizada várias vezes seguidas. Por isso, enriquecem vastamente a complexidade e utilidade de scripts. No final desta aula será apresentado um exercício que utiliza todos os conceitos utilizados até o presente momento.\n",
    "\n",
    "# Condicionais\n",
    "\n",
    "## if\n",
    "\n",
    "*if* testa uma expressão *booleana*, ou seja, alguma coisa que pode ser avaliada em *True* ou *False*. Já vimos nas aulas anteriores expressões ou funções que retornavam esses valores. A sintaxe de *if* é um pouco mais complexa do que o já visto anteriormente.\n",
    "\n",
    "    if condição (== True):\n",
    "        ... (bloco de código indentado)"
   ]
  },
  {
   "cell_type": "code",
   "execution_count": 2,
   "metadata": {},
   "outputs": [
    {
     "name": "stdout",
     "output_type": "stream",
     "text": [
      "Cond é True\n"
     ]
    }
   ],
   "source": [
    "cond = True\n",
    "if cond:\n",
    "    print('Cond é True')"
   ]
  },
  {
   "cell_type": "markdown",
   "metadata": {},
   "source": [
    "Note que depois da condição, foi colocado `:`, e o próximo comando foi *indentado*. Isso indica que o comando *print* está dentro do bloco de código do condicional. O bloco de código é composto por todas as linhas de nível igual de indentação após o `:`. Removendo ou adicionando identação quebra o bloco.  Por exemplo, altere os valores de `entende` no código a seguir:"
   ]
  },
  {
   "cell_type": "code",
   "execution_count": 13,
   "metadata": {},
   "outputs": [
    {
     "name": "stdout",
     "output_type": "stream",
     "text": [
      "D: Darmok and Jalad at Tanagra\n",
      "P: I don't understand! Who is Darmok?\n",
      "D: Shaka, when the walls fell\n",
      "\n",
      "P: Now I understand.\n",
      "D: Sokath, his eyes uncovered\n",
      "P: Temba, his arms wide\n"
     ]
    }
   ],
   "source": [
    "print('D: Darmok and Jalad at Tanagra')\n",
    "\n",
    "entende = False\n",
    "if not entende:\n",
    "    print(\"P: I don't understand! Who is Darmok?\")\n",
    "    print('D: Shaka, when the walls fell')\n",
    "\n",
    "print()\n",
    "print('P: Now I understand.')\n",
    "entende = True\n",
    "if entende:\n",
    "    print('D: Sokath, his eyes uncovered')\n",
    "    print('P: Temba, his arms wide')"
   ]
  },
  {
   "cell_type": "markdown",
   "metadata": {},
   "source": [
    "Note também a palavra **not**, que inverte um condicional. \n",
    "    \n",
    "É possível colocar condicionais de complexidade arbitrária. Porém, é bom você não se perder nas tramas dos condicionais.\n",
    "\n",
    "## Juntando condições - *and*, *or*, *not*, *all*, *any*\n",
    "\n",
    "Como já visto, a palavra chave **not** afeta um condicional. Esses operadores são:\n",
    "\n",
    "* **and**, retorna `True` somente se ambos os termos forem `True`\n",
    "* **or**, retorna `True` se um dos dois termos for `True`\n",
    "* **not**, inverte um condicional\n",
    "\n",
    "Eles podem ser utilizados para testar mais de uma condição de uma vez.\n",
    "\n",
    "Há também as funções `all` e `any`.\n",
    "\n",
    "* **all** retorna `True` se todos os valores forem `True`\n",
    "* **any** retorna `True` se algum dos valores for `True`"
   ]
  },
  {
   "cell_type": "code",
   "execution_count": 16,
   "metadata": {},
   "outputs": [
    {
     "name": "stdout",
     "output_type": "stream",
     "text": [
      "b é menor que c e maior que a\n",
      "Tudo é verdadeiro\n",
      "Pelo menos um é verdadeiro\n"
     ]
    }
   ],
   "source": [
    "a = 5\n",
    "b = 7\n",
    "c = 12\n",
    "\n",
    "if (b < c) and (b > a):\n",
    "    print('b é menor que c e maior que a')\n",
    "if all([True, True, True]):\n",
    "    print('Tudo é verdadeiro')\n",
    "if any([True, True, False]):\n",
    "    print('Pelo menos um é verdadeiro')"
   ]
  },
  {
   "cell_type": "markdown",
   "metadata": {},
   "source": [
    "É de boa prática agrupar as expressões entre parênteses para eliminar ambiguidade e problemas de interpretação tanto do autor quanto do interpretador.\n",
    "\n",
    "## elif, else\n",
    "\n",
    "Além de testes singulares com if, podem ser feitos testes sequenciais. Somente é possível existir um *elif* ou *else* se houver um *if* precedente, e eles estão \"ligados\"."
   ]
  },
  {
   "cell_type": "code",
   "execution_count": 4,
   "metadata": {},
   "outputs": [
    {
     "name": "stdout",
     "output_type": "stream",
     "text": [
      "Possibilidade 2\n"
     ]
    }
   ],
   "source": [
    "b = 7\n",
    "\n",
    "if b < 5:\n",
    "    print('Possibilidade 1')\n",
    "elif b > 5:\n",
    "    print('Possibilidade 2')\n",
    "else:\n",
    "    print('Ocorre somente se b == 5')"
   ]
  },
  {
   "cell_type": "markdown",
   "metadata": {},
   "source": [
    "Esses testes são necessariamente testados um a um. Assim que o primeiro teste for verdadeiro, o interpretador \"sai\" do bloco de código e continua. Veja a diferença entre utilizar dois if e um if, seguido de um elif."
   ]
  },
  {
   "cell_type": "code",
   "execution_count": 6,
   "metadata": {},
   "outputs": [
    {
     "name": "stdout",
     "output_type": "stream",
     "text": [
      "Possibilidade 1\n"
     ]
    }
   ],
   "source": [
    "b = 7\n",
    "\n",
    "if b == 7:\n",
    "    print('Possibilidade 1')\n",
    "elif b > 4:\n",
    "    print('Possibilidade 2')"
   ]
  },
  {
   "cell_type": "code",
   "execution_count": 7,
   "metadata": {},
   "outputs": [
    {
     "name": "stdout",
     "output_type": "stream",
     "text": [
      "Possibilidade 1\n",
      "Possibilidade 2\n"
     ]
    }
   ],
   "source": [
    "if b == 7:\n",
    "    print('Possibilidade 1')\n",
    "if b > 4:\n",
    "    print('Possibilidade 2')"
   ]
  },
  {
   "cell_type": "markdown",
   "metadata": {},
   "source": [
    "No segundo caso, as duas condições foram testadas. Se há muitas condições que devem ser testadas sobre um termo só, que só pode obedecer uma dessas condições, é mais econômico utilizar vários `elif` do que vários `if`, pois no segundo caso todas as condições serão testadas, e no primeiro, somente até alguma delas for verdadeira.\n",
    "\n",
    "## Aninhamento\n",
    "\n",
    "É possível também realizar um teste dentro de outro, aninhados. Os níveis de indentação se somam."
   ]
  },
  {
   "cell_type": "code",
   "execution_count": 10,
   "metadata": {},
   "outputs": [
    {
     "name": "stdout",
     "output_type": "stream",
     "text": [
      "Sucesso\n"
     ]
    }
   ],
   "source": [
    "a = 3\n",
    "b = 5\n",
    "\n",
    "if b > a:\n",
    "    if a > 2:\n",
    "        print('Sucesso')\n",
    "    else:\n",
    "        print('Falha...')\n",
    "else:\n",
    "    print('Falha')"
   ]
  },
  {
   "cell_type": "markdown",
   "metadata": {},
   "source": [
    "Note que este caso é quase equivalente a:\n",
    "\n",
    "    if (b > a) and (a > 2)\n",
    "    \n",
    "O detalhe é que há duas condições *else*, o que não seria possível no caso não aninhado. Porém, o caso não aninhado é muito mais fácil de se compreender, então leve isso sempre em conta.\n",
    "\n",
    "## Exercício\n",
    "\n",
    "Construa um código que atribui um conceito a uma nota numérica, seguindo a seguinte regra draconiana:\n",
    "\n",
    "    nota > 90: 'A'\n",
    "    80 < nota <= 90: 'B'\n",
    "    70 < nota <= 80: 'C'\n",
    "    60 < nota <= 70: 'D'\n",
    "    50 < nota <= 60: 'E'\n",
    "     0 < nota <= 50: 'F'\n",
    " \n",
    " Caso deseje ver a resposta, execute a célula abaixo."
   ]
  },
  {
   "cell_type": "code",
   "execution_count": 21,
   "metadata": {},
   "outputs": [],
   "source": [
    "# Digite seu código aqui\n",
    "nota = 90\n",
    "conceito = ''"
   ]
  },
  {
   "cell_type": "code",
   "execution_count": null,
   "metadata": {},
   "outputs": [],
   "source": [
    "%load ./respostas/Conceitos.py"
   ]
  },
  {
   "cell_type": "markdown",
   "metadata": {},
   "source": [
    "## Outras coisas interpretadas como sendo verdadeiras e falsas\n",
    "\n",
    "Por simplicidade, o Python interpreta o seguinte como sendo False:\n",
    "\n",
    "* List/dict/tuple vazios\n",
    "* Strings vazias\n",
    "* 0\n",
    "* 0.0"
   ]
  },
  {
   "cell_type": "code",
   "execution_count": 17,
   "metadata": {},
   "outputs": [],
   "source": [
    "# Todos estes exemplos são falsos\n",
    "\n",
    "if '':\n",
    "    print('Nada')\n",
    "if []:\n",
    "    print('Nada')\n",
    "if 0:\n",
    "    print('Nada')\n",
    "if 0.0:\n",
    "    print('Nada')\n",
    "if tuple():\n",
    "    print('Nada')\n",
    "if {}:\n",
    "    print('Nada')"
   ]
  },
  {
   "cell_type": "markdown",
   "metadata": {},
   "source": [
    "## *in*\n",
    "É possível testar também se algum membro está presente numa lista, utilizando a palavra chave **in**."
   ]
  },
  {
   "cell_type": "code",
   "execution_count": 30,
   "metadata": {},
   "outputs": [
    {
     "name": "stdout",
     "output_type": "stream",
     "text": [
      "Está sim\n"
     ]
    }
   ],
   "source": [
    "a = [1, 2, 3, 4]\n",
    "if 3 in a:\n",
    "    print('Está sim')"
   ]
  },
  {
   "cell_type": "markdown",
   "metadata": {},
   "source": [
    "# Loops\n",
    "\n",
    "Loops executam um bloco de código (lembre-se, um bloco é qualquer coisa indentada) repetidas vezes, sempre checando por uma condição de saída. Por vezes, a condição está implícita, por exemplo, se o final de uma lista foi atingido, não é necessário, ou possível, continuar, e por vezes é explícita.\n",
    "\n",
    "Suponha o seguinte caso. Há uma lista de nomes de arquivos de experimentos, e você possui um código que consegue carregar e tratar os dados daquele experimento. Ao invés de ter que informar qual o experimento você quer tratar, você pode criar uma lista com os nomes dos experimentos, colocar um loop que fornece o nome, um a um, para a sua função, e depois ela trata os dados.\n",
    "\n",
    "## *while*\n",
    "\n",
    "O tipo mais simples de loop é o **while** loop. A sintaxe é:\n",
    "\n",
    "    while {condição}:\n",
    "        {código}\n",
    "\n",
    "Veja este exemplo bastante simples."
   ]
  },
  {
   "cell_type": "code",
   "execution_count": 5,
   "metadata": {},
   "outputs": [
    {
     "name": "stdout",
     "output_type": "stream",
     "text": [
      "['l', 'l', 'l', 'l', 'l', 'l']\n"
     ]
    }
   ],
   "source": [
    "lst = []\n",
    "\n",
    "while len(lst) < 6:\n",
    "    lst.append('l')\n",
    "print(lst)"
   ]
  },
  {
   "cell_type": "markdown",
   "metadata": {},
   "source": [
    "Em cada iteração do loop, a condição *len(lst) < 6* é testada. Isso somente se torna falso quando o comprimento é igual a 6, pois começa em zero. Então, na quinta iteração, testa-se que 5 < 6 (True), mais um 'l' é adicionado à lista, e depois a condição é checada.\n",
    "\n",
    "## Loops infinitos\n",
    "\n",
    "Uma nota de cuidado. Loops *while* necessariamente precisam de alguma maneira para sair. Caso isso não ocorra, acontece algo chamado de loop infinito. Para sair de um loop infinito, é necessário parar o interpretador, com um *Keyboard Interrupt*. Isso é feito apertando o botão de parar na barra de um Jupyter Notebook, ou apertando CTRL+C no console. Por exemplo, o seguinte loop é infinito.\n",
    "\n",
    "    while True:\n",
    "        print('Para o infinito e além')\n",
    "\n",
    "## *for*\n",
    "\n",
    "De maneira oposta, os loops do tipo **for** são mais resistentes a ocorrerem infinitamente, pois necessitam de uma condição de parada explícita. Ainda assim, eles também podem correr infinitamente, então é bom sempre tomar cuidado, e saber como sair de um loop infinito. A sintaxe é a seguinte.\n",
    "\n",
    "    for {item} in {objeto}:\n",
    "        {código}\n",
    "\n",
    "O nome da variável é arbitrário. Pode ser *item*, *i*, *índice*, *arquivo*, *João*, é de sua escolha. Porém, é conveniente nomeá-la algo relacionado com o objeto a ser iterado. A condição que o esse loop testa é se ainda há itens restantes no objeto.\n",
    "\n",
    "Veja um exemplo."
   ]
  },
  {
   "cell_type": "code",
   "execution_count": 19,
   "metadata": {},
   "outputs": [
    {
     "name": "stdout",
     "output_type": "stream",
     "text": [
      "[1, 2, 3, 4, 5] [1, 4, 9, 16, 25]\n"
     ]
    }
   ],
   "source": [
    "numeros = [1, 2, 3, 4, 5]\n",
    "quadrados = []\n",
    "\n",
    "for numero in numeros:\n",
    "    quadrados.append(numero ** 2)\n",
    "    \n",
    "print(numeros, quadrados)"
   ]
  },
  {
   "cell_type": "markdown",
   "metadata": {},
   "source": [
    "Esse loop vai de elemento em elemento de uma lista, eleva o elemento ao quadrado (mantendo a lista original intacta), e compara ambos. Não é necessário que a iteração ocorra somente numa lista. A única condição é que o objeto onde o *for* loop for ocorrer seja um iterável (iterable). Todas as estruturas de dados vistas na aula passada são iteráveis. Inclusive, strings são iteráveis. Veja o seguinte exemplo com um dicionário. "
   ]
  },
  {
   "cell_type": "code",
   "execution_count": 19,
   "metadata": {},
   "outputs": [
    {
     "name": "stdout",
     "output_type": "stream",
     "text": [
      "1\n",
      "2\n"
     ]
    }
   ],
   "source": [
    "frutas = {1: 'banana', 2:'maçã'}\n",
    "\n",
    "for key in frutas:\n",
    "    print(key)"
   ]
  },
  {
   "cell_type": "markdown",
   "metadata": {},
   "source": [
    "Lembrando que um dicionário associa um objeto a outro objeto, neste caso, um número a uma fruta (string), quando rodamos um loop pelo dicionário, estamos, na verdade, pegando somente as chaves (keys), não os itens associados. Para pegar os itens, é necessário usar o método de dicionário **.values()**."
   ]
  },
  {
   "cell_type": "code",
   "execution_count": 20,
   "metadata": {},
   "outputs": [
    {
     "name": "stdout",
     "output_type": "stream",
     "text": [
      "banana\n",
      "maçã\n"
     ]
    }
   ],
   "source": [
    "for value in frutas.values():\n",
    "    print(value)"
   ]
  },
  {
   "cell_type": "markdown",
   "metadata": {},
   "source": [
    "Se você quiser tanto a chave quanto o valor, pode ser utilizado o método **.items()**."
   ]
  },
  {
   "cell_type": "code",
   "execution_count": 21,
   "metadata": {},
   "outputs": [
    {
     "name": "stdout",
     "output_type": "stream",
     "text": [
      "(1, 'banana')\n",
      "(2, 'maçã')\n"
     ]
    }
   ],
   "source": [
    "for item in frutas.items():\n",
    "    print(item)"
   ]
  },
  {
   "cell_type": "markdown",
   "metadata": {},
   "source": [
    "## Duas (ou mais) variáveis\n",
    "\n",
    "Se você se lembra, é possível declarar duas variáveis de uma só vez separando-as por vírgulas. Veja que cada item do loop anterior, uma tuple, possui dois componentes. Então, é possível utilizar duas variáveis para o loop for."
   ]
  },
  {
   "cell_type": "code",
   "execution_count": 22,
   "metadata": {},
   "outputs": [
    {
     "name": "stdout",
     "output_type": "stream",
     "text": [
      "1 banana\n",
      "2 maçã\n"
     ]
    }
   ],
   "source": [
    "for key, value in frutas.items():\n",
    "    print(key, value)"
   ]
  },
  {
   "cell_type": "markdown",
   "metadata": {},
   "source": [
    "Caso você tenha duas listas separadas e deseja realizar um loop simultamenamente por ambas, é possível utilizar o **zip**. Caso uma das listas seja mais comprida que a outra, o loop termina assim que a lista mais curta for \"esgotada\"."
   ]
  },
  {
   "cell_type": "code",
   "execution_count": 22,
   "metadata": {},
   "outputs": [
    {
     "name": "stdout",
     "output_type": "stream",
     "text": [
      "arroz e feijão\n",
      "bife e cebola\n",
      "alface e tomate\n"
     ]
    }
   ],
   "source": [
    "bandeja1 = ['arroz', 'bife', 'alface']\n",
    "bandeja2 = ['feijão', 'cebola', 'tomate']\n",
    "\n",
    "for a, b in zip(bandeja1, bandeja2):\n",
    "    print(f'{a} e {b}')"
   ]
  },
  {
   "cell_type": "markdown",
   "metadata": {},
   "source": [
    "## *enumerate*\n",
    "Caso você deseje saber qual é o índice da iteração, isso é, quantas vezes o loop se repetiu, é possível utilizar **enumerate**, que retorna a posição e o item da iteraçao."
   ]
  },
  {
   "cell_type": "code",
   "execution_count": 28,
   "metadata": {},
   "outputs": [
    {
     "name": "stdout",
     "output_type": "stream",
     "text": [
      "1) José\n",
      "2) João\n",
      "3) Carlos\n"
     ]
    }
   ],
   "source": [
    "alunos = ['José', 'João', 'Carlos']\n",
    "\n",
    "for i, aluno in enumerate(alunos):\n",
    "    print(f'{i + 1}) {aluno}')"
   ]
  },
  {
   "cell_type": "markdown",
   "metadata": {},
   "source": [
    "É possível combinar, por exemplo, funções que retornam vários itens, desde que os valores sejam separados corretamente. É um tanto confuso entender esse tipo de execução. Compare a junção de `items`, que retorna tuplas (`chave`,`valor`), e enumerate, que retorna uma tupla (`índice`,`valor`):"
   ]
  },
  {
   "cell_type": "code",
   "execution_count": 27,
   "metadata": {},
   "outputs": [
    {
     "name": "stdout",
     "output_type": "stream",
     "text": [
      "0 1 banana\n",
      "1 2 maçã\n"
     ]
    }
   ],
   "source": [
    "for i, (key, value) in enumerate(frutas.items()):\n",
    "    print(i, key, value)"
   ]
  },
  {
   "cell_type": "code",
   "execution_count": 28,
   "metadata": {},
   "outputs": [
    {
     "name": "stdout",
     "output_type": "stream",
     "text": [
      "0 1 banana\n",
      "1 2 maçã\n"
     ]
    }
   ],
   "source": [
    "# Deixando a existência de duas tuplas mais evidente:\n",
    "for (i, (key, value)) in enumerate(frutas.items()):\n",
    "    print(i, key, value)"
   ]
  },
  {
   "cell_type": "code",
   "execution_count": 29,
   "metadata": {},
   "outputs": [
    {
     "ename": "ValueError",
     "evalue": "not enough values to unpack (expected 3, got 2)",
     "output_type": "error",
     "traceback": [
      "\u001b[0;31m---------------------------------------------------------------------------\u001b[0m",
      "\u001b[0;31mValueError\u001b[0m                                Traceback (most recent call last)",
      "\u001b[0;32m<ipython-input-29-810d5880832d>\u001b[0m in \u001b[0;36m<module>\u001b[0;34m()\u001b[0m\n\u001b[1;32m      1\u001b[0m \u001b[0;31m# Mostrando o que acontece quando os valores não são arranjados corretamente\u001b[0m\u001b[0;34m\u001b[0m\u001b[0;34m\u001b[0m\u001b[0m\n\u001b[0;32m----> 2\u001b[0;31m \u001b[0;32mfor\u001b[0m \u001b[0mi\u001b[0m\u001b[0;34m,\u001b[0m \u001b[0mkey\u001b[0m\u001b[0;34m,\u001b[0m \u001b[0mvalue\u001b[0m \u001b[0;32min\u001b[0m \u001b[0menumerate\u001b[0m\u001b[0;34m(\u001b[0m\u001b[0mfrutas\u001b[0m\u001b[0;34m.\u001b[0m\u001b[0mitems\u001b[0m\u001b[0;34m(\u001b[0m\u001b[0;34m)\u001b[0m\u001b[0;34m)\u001b[0m\u001b[0;34m:\u001b[0m\u001b[0;34m\u001b[0m\u001b[0m\n\u001b[0m\u001b[1;32m      3\u001b[0m     \u001b[0mprint\u001b[0m\u001b[0;34m(\u001b[0m\u001b[0mi\u001b[0m\u001b[0;34m,\u001b[0m \u001b[0mkey\u001b[0m\u001b[0;34m,\u001b[0m \u001b[0mvalue\u001b[0m\u001b[0;34m)\u001b[0m\u001b[0;34m\u001b[0m\u001b[0m\n",
      "\u001b[0;31mValueError\u001b[0m: not enough values to unpack (expected 3, got 2)"
     ]
    }
   ],
   "source": [
    "# Mostrando o que acontece quando os valores não são arranjados corretamente\n",
    "for i, key, value in enumerate(frutas.items()):\n",
    "    print(i, key, value)"
   ]
  },
  {
   "cell_type": "markdown",
   "metadata": {},
   "source": [
    "Veja que 3 valores eram esperados `i`, `key`, `value`, mas a função `enumerate(frutas.items())` retornou somente dois, isto é, o índice `i` e uma tupla (`key`, `value`) "
   ]
  },
  {
   "cell_type": "markdown",
   "metadata": {},
   "source": [
    "## *range*\n",
    "\n",
    "O **range** é utilizado para controlar os loops utilizando uma faixa de números. Esses números não são gerados automaticamente, e sim a cada iteração. A sintaxe é até que semelhante com as sintaxe de seccionamento (lst\\[1:4:1\\], *slicing*). Veja o exemplo."
   ]
  },
  {
   "cell_type": "code",
   "execution_count": 32,
   "metadata": {},
   "outputs": [
    {
     "name": "stdout",
     "output_type": "stream",
     "text": [
      "1 é ímpar!\n",
      "3 é ímpar!\n",
      "5 é ímpar!\n",
      "7 é ímpar!\n",
      "9 é ímpar!\n"
     ]
    }
   ],
   "source": [
    "for numero in range(11):\n",
    "    if numero % 2:\n",
    "        print(f'{numero} é ímpar!')"
   ]
  },
  {
   "cell_type": "markdown",
   "metadata": {},
   "source": [
    "Da mesma maneira que um *slice*, o range **não** inclui o valor de parada. Há 3 maneiras básicas de se utilizar um range:\n",
    "\n",
    "    range(fim)\n",
    "    range(começo, fim)\n",
    "    range(começo, fim, passo)\n",
    "\n",
    "Um range, com um len, podem ser utilizados para acessar os elementos de uma lista."
   ]
  },
  {
   "cell_type": "code",
   "execution_count": 36,
   "metadata": {},
   "outputs": [
    {
     "name": "stdout",
     "output_type": "stream",
     "text": [
      "Bário\n",
      "Fosfato\n",
      "Bicarbonato\n",
      "Cloreto\n",
      "Ferro\n"
     ]
    }
   ],
   "source": [
    "componentes = ['Bário', 'Fosfato', 'Bicarbonato', 'Cloreto', 'Ferro']\n",
    "\n",
    "for i in range(len(componentes)):\n",
    "    print(componentes[i])"
   ]
  },
  {
   "cell_type": "markdown",
   "metadata": {},
   "source": [
    "Como pode ser visto, esse método é claramente inferior ao método de um loop for sobre os elementos da lista, sem ter que fazer uma indexação. Há casos onde isso é estritamente necessário, mas são raros."
   ]
  },
  {
   "cell_type": "markdown",
   "metadata": {},
   "source": [
    "## *break* e *continue*\n",
    "\n",
    "Em alguns casos, é necessário impor condições que fazem um loop terminar precocemente, ou que um loop ignore parte, ou todo, o código e prossiga para o próximo item. Para isso, são utilizadas as palavras chave **break** e **continue**."
   ]
  },
  {
   "cell_type": "code",
   "execution_count": 44,
   "metadata": {},
   "outputs": [
    {
     "name": "stdout",
     "output_type": "stream",
     "text": [
      "[1, 4, 9, 16, 25]\n"
     ]
    }
   ],
   "source": [
    "numero = 1\n",
    "quadrados = []\n",
    "\n",
    "while True:\n",
    "    quadrados.append(numero ** 2)\n",
    "    if numero == 5:\n",
    "        break  # Caso isso não exista, você irá consumir toda sua memória criando números cada vez maiores.\n",
    "    numero += 1  # Equivalente a escrever numero = numero + 1\n",
    "\n",
    "print(quadrados)"
   ]
  },
  {
   "cell_type": "markdown",
   "metadata": {},
   "source": [
    "Veja como isso é equivalente ao seguinte loop:"
   ]
  },
  {
   "cell_type": "code",
   "execution_count": 43,
   "metadata": {},
   "outputs": [
    {
     "name": "stdout",
     "output_type": "stream",
     "text": [
      "[1, 4, 9, 16, 25]\n"
     ]
    }
   ],
   "source": [
    "quadrados = []\n",
    "for num in range(1, 6):\n",
    "    quadrados.append(num ** 2)\n",
    "print(quadrados)"
   ]
  },
  {
   "cell_type": "markdown",
   "metadata": {},
   "source": [
    "Um continue é utilizado para pular uma etapa do loop. Por exemplo, se há algo indesejado naquele item de iteração e não se deseja fazer nada com ele. Suponha que tenhamos o início do trecho de um livro, e desejamos remover todas as palavras que contém a letra 'e':"
   ]
  },
  {
   "cell_type": "code",
   "execution_count": 31,
   "metadata": {},
   "outputs": [
    {
     "name": "stdout",
     "output_type": "stream",
     "text": [
      "['Um', 'dia', 'João']\n"
     ]
    }
   ],
   "source": [
    "texto = ['Um', 'belo', 'dia', 'de', 'verão', 'João', 'comeu', 'feijão']  # Pontuação foi removida\n",
    "texto_sem_e = []\n",
    "\n",
    "for palavra in texto:\n",
    "    if 'e' in palavra:\n",
    "        continue\n",
    "    texto_sem_e.append(palavra)\n",
    "\n",
    "print(texto_sem_e)"
   ]
  },
  {
   "cell_type": "markdown",
   "metadata": {},
   "source": [
    "Veja que sem o continue, todas as palavras seriam adicionadas.\n",
    "\n",
    "## Loops aninhados (*nested loops*)\n",
    "\n",
    "Assim como é possível criar condicionais aninhados, é possível criar loops aninhados. Isso é relativamente comum, mas um tanto difícil de se entender no começo. Porém, sempre tenha em mente que o loop interno será terminado antes do próximo loop externo continuar. Suponha então o seguinte:\n",
    "\n",
    "    for i in range(5):\n",
    "        for j in range(5):\n",
    "            expressão\n",
    "\n",
    "Quantas vezes a expressão será executada? Vamos testar."
   ]
  },
  {
   "cell_type": "code",
   "execution_count": 63,
   "metadata": {},
   "outputs": [
    {
     "name": "stdout",
     "output_type": "stream",
     "text": [
      "Interno: 25\n",
      "Externo: 5\n"
     ]
    }
   ],
   "source": [
    "counter_ext = 0\n",
    "counter_int = 0\n",
    "\n",
    "for i in range(5):\n",
    "    counter_ext += 1\n",
    "    for j in range(5):\n",
    "        counter_int += 1\n",
    "        \n",
    "print(f'Interno: {counter_int}\\nExterno: {counter_ext}')"
   ]
  },
  {
   "cell_type": "markdown",
   "metadata": {},
   "source": [
    "Veja que os loops internos e externos possuem o mesmo número de passos, pois sua sintaxe é igual. Porém, veja que o loop interno ocorreu 25 vezes, ao contrário do externo, que ocorreu 5 vezes. Isso é porque, a cada ciclo do loop externo, 5 ciclos do interno ocorreram. Então 5 * 5 = 25.\n",
    "\n",
    "A nomenclatura de (i, j) utilizada aqui não foi coincidência. Lembre-se de matrizes. Uma maneira de se operar por uma matriz inteira é ir de linha em linha, e em cada linha operar em todas as colunas."
   ]
  },
  {
   "cell_type": "markdown",
   "metadata": {},
   "source": [
    "## List comprehension\n",
    "\n",
    "*List comprehension* é uma característica bastante marcante do Python. Ao invés de ter que gerar um loop for para gerar uma lista, é possível realizar tudo em uma única linha. A sintaxe é um pouco complicada de se entender de início, mas entender como uma *list comprehension* funciona é algo muito desejado. Veja como gerar uma lista de números e seus quadrados, como strings, em uma única linha. Depois, como realizar o exercício anterior mais sucintamente.\n",
    "\n",
    "A sintaxe é:\n",
    "\n",
    "      \\[{operação com iterador(es)} for {iterador(es)} in {iteráveis} [if {condição1}] [for {outro iterável}] [if {condição2}]\\ ...\\]\n",
    "    \n",
    "A sintaxe pode parer complexa, mas isso é porque há várias partes opcionais. Quanto mais partes opcionais foram colocadas, mais complicado vai ser entender a operação, e melhor seria a criação de um loop. Veja os exemplos a seguir, indo do mais simples para o mais complexo."
   ]
  },
  {
   "cell_type": "code",
   "execution_count": 54,
   "metadata": {},
   "outputs": [
    {
     "name": "stdout",
     "output_type": "stream",
     "text": [
      "Números: [1, 2, 3, 4, 5]\n",
      "Quadrados: [1, 4, 9, 16, 25]\n",
      "Juntos: ['1:1', '2:4', '3:9', '4:16', '5:25']\n"
     ]
    }
   ],
   "source": [
    "numeros = [i for i in range(1,6)]\n",
    "quadrados_0 = [i**2 for i in range(1, 6)]\n",
    "quadrados_1 = [f'{i}:{i**2}' for i in range(1, 6)]  # Os iteradores podem ser utilizados de maneira complexa\n",
    "print('Números:', numeros)\n",
    "print('Quadrados:', quadrados_0)\n",
    "print('Juntos:', quadrados_1)"
   ]
  },
  {
   "cell_type": "code",
   "execution_count": 55,
   "metadata": {},
   "outputs": [
    {
     "data": {
      "text/plain": [
       "['Um', 'dia', 'João']"
      ]
     },
     "execution_count": 55,
     "metadata": {},
     "output_type": "execute_result"
    }
   ],
   "source": [
    "texto = ['Um', 'belo', 'dia', 'de', 'verão', 'João', 'comeu', 'feijão'] \n",
    "sm_sgunda_vogal = [i for i in texto if 'e' not in i]\n",
    "sm_sgunda_vogal"
   ]
  },
  {
   "cell_type": "code",
   "execution_count": 64,
   "metadata": {},
   "outputs": [
    {
     "name": "stdout",
     "output_type": "stream",
     "text": [
      "[5, 6, 7, 8, 9, 10, 12, 14, 16, 18, 15, 18, 21, 24, 27, 20, 24, 28, 32, 36]\n",
      "[5, 12, 21, 32, 45]\n"
     ]
    }
   ],
   "source": [
    "complexo1 = [i * j for i in range(1, 5) for j in range(5, 10)]  # Nested comprehension\n",
    "complexo2 = [i * j for i, j in zip(range(1,6), range(5,10))]    # Zip - não nested!\n",
    "print(complexo1)\n",
    "print(complexo2)"
   ]
  },
  {
   "cell_type": "markdown",
   "metadata": {},
   "source": [
    "# Consolidação dos conceitos\n",
    "\n",
    "Agora que um corpo suficientemente grande de conceitos foram aprendidos, podemos fazer um primeiro exercício realmente útil, que utiliza muito do que já foi visto. Abriremos um arquivo de dados, extrairemos o conteúdo desse arquivo, que possui duas colunas, em duas listas. Depois, calcularemos a média dos valores das duas colunas.\n",
    "\n",
    "Essas tarefas são vastamente simplificadas pelos pacotes que serão aprendidos no futuro.\n",
    "\n",
    "## Etapa 1: Pensando no problema.\n",
    "\n",
    "É sempre bom analisar concretamente o que será feito para depois abstrair os conceitos. Então, abra o arquivo 'Consolidação1.txt' no bloco de notas/notepad++/algum editor de texto. Veja que o arquivo consiste de duas colunas, nomeadas 'x' e 'y'. As colunas são separadas por um espaço.\n",
    "\n",
    "Para transformar essa sequência de texto em duas listas de dados, seria necessário:\n",
    "\n",
    "1. Ir de linha em linha\n",
    "2. separar as duas colunas no espaço\n",
    "3. Transformar cada valor em números (floats nesse caso)\n",
    "4. Adicionar cada valor para sua lista correspondente.\n",
    "\n",
    "## Etapa 2: Abrindo o arquivo\n",
    "\n",
    "A função **open** do Python cria algo chamado de *file handle*, ao invés de abrir o arquivo inteiro na memória. Um file handle é iterável, e retorna a cada iteração a linha atual. Porém, um file handle não pode ser indexado como uma lista. A sintaxe é:\n",
    "\n",
    "    open({nome do arquivo}, {leitura('r'), gravação('w'), adição('a')}, [codificação('utf-8')])\n",
    "    \n",
    "Não é necessário fornecer nada além do nome do arquivo. A função irá assumir que você está tentando abrir um arquivo no modo de leitura ('r'), e que a codificação do arquivo é 'utf-8'. Não se preocupe muito com codificação, pois a grande maioria dos arquivos hoje em dia são escritos em utf-8. Há algumas exceções, e nesses casos é necessário procurar qual é a codificação do arquivo para passar para a função.\n",
    "\n",
    "Não se esqueca sempre de fechar o file handle aberto! Isso é feito com **fhand.close()**\n",
    "\n",
    "Veja como criar seu file handle:"
   ]
  },
  {
   "cell_type": "code",
   "execution_count": 70,
   "metadata": {},
   "outputs": [],
   "source": [
    "fhand = open('Consolidação1.txt', 'r')"
   ]
  },
  {
   "cell_type": "markdown",
   "metadata": {},
   "source": [
    "Agora, vamos utilizar um loop para ir de linha em linha."
   ]
  },
  {
   "cell_type": "code",
   "execution_count": 71,
   "metadata": {},
   "outputs": [
    {
     "name": "stdout",
     "output_type": "stream",
     "text": [
      "x y\n",
      "0.0000 4.9332\n",
      "0.3344 2.6304\n",
      "0.6689 0.2616\n",
      "1.0033 9.6285\n",
      "1.3378 9.8156\n",
      "1.6722 3.4563\n",
      "2.0067 4.2851\n",
      "2.3411 2.9700\n",
      "2.6756 2.6107\n",
      "3.0100 6.9557\n",
      "3.3445 0.4337\n",
      "3.6789 3.1854\n",
      "4.0134 9.9589\n",
      "4.3478 5.7379\n",
      "4.6823 1.1816\n",
      "5.0167 9.2105\n",
      "5.3512 7.4361\n",
      "5.6856 5.3084\n",
      "6.0201 3.9650\n",
      "6.3545 5.4174\n",
      "6.6890 2.5082\n",
      "7.0234 9.0577\n",
      "7.3579 7.6524\n",
      "7.6923 4.4824\n",
      "8.0268 8.7327\n",
      "8.3612 3.7490\n",
      "8.6957 6.5221\n",
      "9.0301 0.9619\n",
      "9.3645 0.2198\n",
      "9.6990 2.8539\n",
      "10.0334 7.0893\n",
      "10.3679 9.4408\n",
      "10.7023 2.6565\n",
      "11.0368 9.7310\n",
      "11.3712 9.8093\n",
      "11.7057 5.8178\n",
      "12.0401 6.7173\n",
      "12.3746 8.7104\n",
      "12.7090 4.7235\n",
      "13.0435 6.7729\n",
      "13.3779 3.3745\n",
      "13.7124 9.7091\n",
      "14.0468 7.8854\n",
      "14.3813 8.1481\n",
      "14.7157 3.7298\n",
      "15.0502 4.6762\n",
      "15.3846 4.9247\n",
      "15.7191 9.3834\n",
      "16.0535 7.6253\n",
      "16.3880 8.6944\n",
      "16.7224 1.1795\n",
      "17.0569 4.5163\n",
      "17.3913 2.9947\n",
      "17.7258 4.7856\n",
      "18.0602 9.8164\n",
      "18.3946 1.4629\n",
      "18.7291 2.1097\n",
      "19.0635 4.1651\n",
      "19.3980 4.3886\n",
      "19.7324 8.1570\n",
      "20.0669 4.6924\n",
      "20.4013 6.0443\n",
      "20.7358 8.1667\n",
      "21.0702 1.1284\n",
      "21.4047 0.8373\n",
      "21.7391 7.2267\n",
      "22.0736 1.5875\n",
      "22.4080 6.8535\n",
      "22.7425 1.5653\n",
      "23.0769 0.2793\n",
      "23.4114 6.2715\n",
      "23.7458 9.0932\n",
      "24.0803 0.6310\n",
      "24.4147 0.0097\n",
      "24.7492 6.0500\n",
      "25.0836 9.6266\n",
      "25.4181 1.9359\n",
      "25.7525 2.8334\n",
      "26.0870 9.2101\n",
      "26.4214 3.9883\n",
      "26.7559 3.7808\n",
      "27.0903 7.1108\n",
      "27.4247 7.2146\n",
      "27.7592 1.3096\n",
      "28.0936 3.3310\n",
      "28.4281 2.6261\n",
      "28.7625 3.7289\n",
      "29.0970 3.7338\n",
      "29.4314 7.3388\n",
      "29.7659 2.7529\n",
      "30.1003 6.1057\n",
      "30.4348 1.3859\n",
      "30.7692 3.6852\n",
      "31.1037 0.4651\n",
      "31.4381 8.5270\n",
      "31.7726 2.9286\n",
      "32.1070 9.0130\n",
      "32.4415 9.2394\n",
      "32.7759 7.1735\n",
      "33.1104 2.9477\n",
      "33.4448 4.5982\n",
      "33.7793 6.8619\n",
      "34.1137 5.0830\n",
      "34.4482 6.4653\n",
      "34.7826 1.6926\n",
      "35.1171 8.9705\n",
      "35.4515 2.2673\n",
      "35.7860 6.8304\n",
      "36.1204 0.2731\n",
      "36.4548 5.0427\n",
      "36.7893 8.5055\n",
      "37.1237 8.6574\n",
      "37.4582 9.3241\n",
      "37.7926 4.8309\n",
      "38.1271 4.0422\n",
      "38.4615 6.7698\n",
      "38.7960 0.9697\n",
      "39.1304 8.5725\n",
      "39.4649 5.5660\n",
      "39.7993 3.2908\n",
      "40.1338 4.2054\n",
      "40.4682 2.1572\n",
      "40.8027 9.3822\n",
      "41.1371 9.3523\n",
      "41.4716 1.9222\n",
      "41.8060 6.4261\n",
      "42.1405 1.7394\n",
      "42.4749 8.0793\n",
      "42.8094 5.6397\n",
      "43.1438 4.9531\n",
      "43.4783 7.3845\n",
      "43.8127 7.3493\n",
      "44.1472 7.7749\n",
      "44.4816 2.4184\n",
      "44.8161 1.2008\n",
      "45.1505 9.1526\n",
      "45.4849 2.2160\n",
      "45.8194 2.8074\n",
      "46.1538 4.0961\n",
      "46.4883 9.3474\n",
      "46.8227 5.4110\n",
      "47.1572 2.1861\n",
      "47.4916 1.0608\n",
      "47.8261 8.6795\n",
      "48.1605 0.8890\n",
      "48.4950 2.3965\n",
      "48.8294 4.7780\n",
      "49.1639 6.3726\n",
      "49.4983 4.7009\n",
      "49.8328 0.0214\n",
      "50.1672 2.7380\n",
      "50.5017 6.5146\n",
      "50.8361 7.7317\n",
      "51.1706 5.0141\n",
      "51.5050 5.2073\n",
      "51.8395 2.4086\n",
      "52.1739 5.6926\n",
      "52.5084 8.8704\n",
      "52.8428 4.1886\n",
      "53.1773 0.3795\n",
      "53.5117 8.1269\n",
      "53.8462 7.7413\n",
      "54.1806 0.0475\n",
      "54.5151 0.7080\n",
      "54.8495 3.8902\n",
      "55.1839 7.0747\n",
      "55.5184 7.9797\n",
      "55.8528 5.7547\n",
      "56.1873 8.4791\n",
      "56.5217 9.0512\n",
      "56.8562 1.8813\n",
      "57.1906 3.7016\n",
      "57.5251 0.4336\n",
      "57.8595 0.0551\n",
      "58.1940 9.1762\n",
      "58.5284 4.3343\n",
      "58.8629 1.2884\n",
      "59.1973 5.2372\n",
      "59.5318 9.4591\n",
      "59.8662 3.6110\n",
      "60.2007 8.6452\n",
      "60.5351 7.0857\n",
      "60.8696 7.3188\n",
      "61.2040 7.5320\n",
      "61.5385 9.2172\n",
      "61.8729 1.1884\n",
      "62.2074 6.6855\n",
      "62.5418 3.0312\n",
      "62.8763 2.3215\n",
      "63.2107 8.0823\n",
      "63.5452 9.7543\n",
      "63.8796 9.9007\n",
      "64.2140 9.4558\n",
      "64.5485 3.1305\n",
      "64.8829 0.0631\n",
      "65.2174 0.8226\n",
      "65.5518 0.0965\n",
      "65.8863 1.9549\n",
      "66.2207 4.4016\n",
      "66.5552 5.3368\n",
      "66.8896 9.2438\n",
      "67.2241 9.8415\n",
      "67.5585 9.2280\n",
      "67.8930 3.8001\n",
      "68.2274 2.7396\n",
      "68.5619 6.0073\n",
      "68.8963 1.5942\n",
      "69.2308 4.2382\n",
      "69.5652 6.0304\n",
      "69.8997 1.0239\n",
      "70.2341 6.9685\n",
      "70.5686 9.2155\n",
      "70.9030 6.1919\n",
      "71.2375 6.0183\n",
      "71.5719 1.2412\n",
      "71.9064 4.6574\n",
      "72.2408 7.1749\n",
      "72.5753 5.3581\n",
      "72.9097 5.3640\n",
      "73.2441 2.3255\n",
      "73.5786 6.9252\n",
      "73.9130 4.4544\n",
      "74.2475 5.9858\n",
      "74.5819 7.9557\n",
      "74.9164 3.8310\n",
      "75.2508 2.2655\n",
      "75.5853 5.1490\n",
      "75.9197 1.6010\n",
      "76.2542 3.0698\n",
      "76.5886 6.3641\n",
      "76.9231 2.5298\n",
      "77.2575 4.9185\n",
      "77.5920 6.8045\n",
      "77.9264 3.0136\n",
      "78.2609 0.0831\n",
      "78.5953 6.0968\n",
      "78.9298 6.4937\n",
      "79.2642 7.0300\n",
      "79.5987 6.1008\n",
      "79.9331 8.8389\n",
      "80.2676 4.1778\n",
      "80.6020 2.0641\n",
      "80.9365 9.3183\n",
      "81.2709 8.3561\n",
      "81.6054 3.2519\n",
      "81.9398 5.9641\n",
      "82.2742 1.8360\n",
      "82.6087 4.8532\n",
      "82.9431 0.8335\n",
      "83.2776 0.7955\n",
      "83.6120 6.6058\n",
      "83.9465 5.7090\n",
      "84.2809 7.9862\n",
      "84.6154 9.5947\n",
      "84.9498 3.5152\n",
      "85.2843 8.6718\n",
      "85.6187 9.9198\n",
      "85.9532 7.0403\n",
      "86.2876 3.2236\n",
      "86.6221 0.9546\n",
      "86.9565 7.7691\n",
      "87.2910 7.9551\n",
      "87.6254 9.2994\n",
      "87.9599 1.1998\n",
      "88.2943 9.0820\n",
      "88.6288 5.0188\n",
      "88.9632 1.0853\n",
      "89.2977 2.1021\n",
      "89.6321 5.0200\n",
      "89.9666 2.5389\n",
      "90.3010 9.5829\n",
      "90.6355 4.6947\n",
      "90.9699 5.0835\n",
      "91.3043 6.0117\n",
      "91.6388 1.1744\n",
      "91.9732 4.7987\n",
      "92.3077 3.2995\n",
      "92.6421 2.8451\n",
      "92.9766 6.4157\n",
      "93.3110 8.7281\n",
      "93.6455 5.2672\n",
      "93.9799 2.7272\n",
      "94.3144 3.1104\n",
      "94.6488 9.7496\n",
      "94.9833 2.4387\n",
      "95.3177 7.8159\n",
      "95.6522 2.7489\n",
      "95.9866 5.5142\n",
      "96.3211 2.5828\n",
      "96.6555 2.9464\n",
      "96.9900 8.8909\n",
      "97.3244 5.7007\n",
      "97.6589 9.0214\n",
      "97.9933 3.9608\n",
      "98.3278 1.0522\n",
      "98.6622 6.1496\n",
      "98.9967 2.4198\n",
      "99.3311 0.4917\n",
      "99.6656 4.3795\n",
      "100.0000 7.1438\n"
     ]
    }
   ],
   "source": [
    "for line in fhand:\n",
    "    print(line, end='')"
   ]
  },
  {
   "cell_type": "markdown",
   "metadata": {},
   "source": [
    "Se você tentar abrir o arquivo no bloco de notas, é possível que todos os valores estejam em uma única linha. Isso é devido à diferença de separador de linhas entre Windows e Linux, que utilizam `\\r\\n` e `\\n` respectivamente.\n",
    "\n",
    "Antes de realizarmos a separação de tudo, vamos treinar com uma linha aleatória. Depois colocaremos que soubermos que o código funciona, colocaremos no loop. Isso é possível porque todas as linhas são iguais. Em programação, sempre busque por padrões nos dados, pois esses padrões permitem a automatização.\n",
    "\n",
    "## Etapa 3: Teste com uma linha\n",
    "\n",
    "Lembre-se que strings possuem métodos internos. Um deles é o método **split**, que retorna uma lista com os elementos separados por o caracter fornecido. Neste caso, desejamos separar no espaço, então usamos um *split(' ')*."
   ]
  },
  {
   "cell_type": "code",
   "execution_count": 81,
   "metadata": {},
   "outputs": [
    {
     "data": {
      "text/plain": [
       "'4.9332\\n'"
      ]
     },
     "execution_count": 81,
     "metadata": {},
     "output_type": "execute_result"
    }
   ],
   "source": [
    "teste = '0.0000 4.9332\\n'  # O \\n foi adicionado porque é isso que separa uma linha da outra.\n",
    "temp_x, temp_y = teste.split(' ')\n",
    "temp_y"
   ]
  },
  {
   "cell_type": "markdown",
   "metadata": {},
   "source": [
    "Conseguimos separar as duas colunas. Porém, os dados estão como strings (note as aspas e a presença do \\n), e devemos converter para floats. Isso é feito com a função **float**."
   ]
  },
  {
   "cell_type": "code",
   "execution_count": 82,
   "metadata": {},
   "outputs": [
    {
     "data": {
      "text/plain": [
       "4.9332"
      ]
     },
     "execution_count": 82,
     "metadata": {},
     "output_type": "execute_result"
    }
   ],
   "source": [
    "temp_x = float(temp_x)\n",
    "temp_y = float(temp_y)\n",
    "temp_y"
   ]
  },
  {
   "cell_type": "markdown",
   "metadata": {},
   "source": [
    "Note que a função de conversão foi inteligente o suficiente para remover o *newline*, '\\n'. Senão, seria necessário removê-lo antes da conversão.\n",
    "\n",
    "Agora devemos adicionar isso em duas listas, que serão chamadas de x e y."
   ]
  },
  {
   "cell_type": "code",
   "execution_count": 85,
   "metadata": {},
   "outputs": [
    {
     "name": "stdout",
     "output_type": "stream",
     "text": [
      "[0.0] [4.9332]\n"
     ]
    }
   ],
   "source": [
    "x = []\n",
    "y = []\n",
    "\n",
    "x.append(temp_x)\n",
    "y.append(temp_y)\n",
    "print(x, y)"
   ]
  },
  {
   "cell_type": "markdown",
   "metadata": {},
   "source": [
    "Agora podemos colocar esse código no loop. Note, porém, que a primeira linha do arquivo não tem números, mas sim caracteres! Veja o que acontece se tentamos aplicar um float nos caracteres."
   ]
  },
  {
   "cell_type": "code",
   "execution_count": 86,
   "metadata": {},
   "outputs": [
    {
     "ename": "ValueError",
     "evalue": "could not convert string to float: 'x'",
     "output_type": "error",
     "traceback": [
      "\u001b[0;31m---------------------------------------------------------------------------\u001b[0m",
      "\u001b[0;31mValueError\u001b[0m                                Traceback (most recent call last)",
      "\u001b[0;32m<ipython-input-86-4e2e5fc4dfc2>\u001b[0m in \u001b[0;36m<module>\u001b[0;34m()\u001b[0m\n\u001b[0;32m----> 1\u001b[0;31m \u001b[0mtemp_x\u001b[0m \u001b[0;34m=\u001b[0m \u001b[0mfloat\u001b[0m\u001b[0;34m(\u001b[0m\u001b[0;34m'x'\u001b[0m\u001b[0;34m)\u001b[0m\u001b[0;34m\u001b[0m\u001b[0m\n\u001b[0m",
      "\u001b[0;31mValueError\u001b[0m: could not convert string to float: 'x'"
     ]
    }
   ],
   "source": [
    "temp_x = float('x')"
   ]
  },
  {
   "cell_type": "markdown",
   "metadata": {},
   "source": [
    "Então nosso loop iria falhar logo na primeira linha. Para isso, devemos ignorar uma linha caso ela comece com 'x'. Idealmente, se ela contiver um caracter, a linha deve ser ignorada. Pense numa maneira de deixar isso bastante geral. Neste caso, algo mais simples será utilizado.\n",
    "\n",
    "Tente criar o loop completo para a criação das listas.\n",
    "\n",
    "## Criação do loop"
   ]
  },
  {
   "cell_type": "code",
   "execution_count": null,
   "metadata": {},
   "outputs": [],
   "source": [
    "fhand = open('Consolidação1.txt', 'r')\n",
    "x = []\n",
    "y = []\n",
    "\n",
    "for line in fhand:\n",
    "    pass   # Substitua o pass pelo seu código. Essa palavra chave não faz nada.\n",
    "\n",
    "fhand.close()\n",
    "print('x:', x, '\\ny:', y)"
   ]
  },
  {
   "cell_type": "code",
   "execution_count": null,
   "metadata": {},
   "outputs": [],
   "source": [
    "%load ./respostas/Consolidação1.py"
   ]
  },
  {
   "cell_type": "markdown",
   "metadata": {},
   "source": [
    "Agora que temos os valores de x e y, podemos estudá-los um pouco mais. Vemos que x é uma lista de números que começa do zero e vai até 100. len(x) informaria quantos numeros há nessa lista. y, por sua vez, contém tantos números quanto x, mas não parecem ter um padrão.\n",
    "\n",
    "Como calcularíamos a média das duas listas? Isso é feito somando-se os números das duas listas, e depois dividindo essa soma pelo número de pontos. Felizmente, o Python possui a função **sum** que faz justamente o que o nome indica, ela soma tudo num iterável. Além disso, vamos achar o menor e o maior valor da lista y pelas funções **min** e **max**.\n",
    "\n",
    "Como exercício, implemente loops para contar o número de itens numa lista, somá-los, e encontrar o valor mínimo e o máximo. Uma solução está no arquivo `Exercicio_max_min_len_sum.py`."
   ]
  },
  {
   "cell_type": "code",
   "execution_count": 97,
   "metadata": {},
   "outputs": [
    {
     "name": "stdout",
     "output_type": "stream",
     "text": [
      "A média de x é 49.999999999999986\n",
      "A média de y é 5.091745666666669\n",
      "O mínimo de y é 0.0097\n",
      "O máximo de y é 9.9589\n"
     ]
    }
   ],
   "source": [
    "media_x = sum(x) / len(x)\n",
    "media_y = sum(y) / len(y)\n",
    "min_y = min(y)\n",
    "max_y = max(y)\n",
    "\n",
    "print(f'A média de x é {media_x}')\n",
    "print(f'A média de y é {media_y}')\n",
    "print(f'O mínimo de y é {min_y}')\n",
    "print(f'O máximo de y é {max_y}')"
   ]
  },
  {
   "cell_type": "markdown",
   "metadata": {},
   "source": [
    "Assim, vemos que y possui números praticamente entre 0 e 10, cuja média é 5. A média esperada de x é 50, mas há um pequeno erro decimal devido à incapacidade de computadores de se representar floats com precisão total. De fato, a lista y (podemos também descrevê-la como um vetor) possui números aleatórios entre 0 e 10, logo a média de 5.\n",
    "\n",
    "Nas próximas aulas essas duas colunas aprenderemos a carregar esse arquivo facilmente, e a plotar essas informações."
   ]
  }
 ],
 "metadata": {
  "hide_input": false,
  "kernelspec": {
   "display_name": "Python 3",
   "language": "python",
   "name": "python3"
  },
  "language_info": {
   "codemirror_mode": {
    "name": "ipython",
    "version": 3
   },
   "file_extension": ".py",
   "mimetype": "text/x-python",
   "name": "python",
   "nbconvert_exporter": "python",
   "pygments_lexer": "ipython3",
   "version": "3.6.4"
  },
  "toc": {
   "base_numbering": 1,
   "nav_menu": {},
   "number_sections": true,
   "sideBar": true,
   "skip_h1_title": false,
   "title_cell": "Conteúdo",
   "title_sidebar": "Conteúdo",
   "toc_cell": true,
   "toc_position": {},
   "toc_section_display": true,
   "toc_window_display": false
  },
  "varInspector": {
   "cols": {
    "lenName": 16,
    "lenType": 16,
    "lenVar": 40
   },
   "kernels_config": {
    "python": {
     "delete_cmd_postfix": "",
     "delete_cmd_prefix": "del ",
     "library": "var_list.py",
     "varRefreshCmd": "print(var_dic_list())"
    },
    "r": {
     "delete_cmd_postfix": ") ",
     "delete_cmd_prefix": "rm(",
     "library": "var_list.r",
     "varRefreshCmd": "cat(var_dic_list()) "
    }
   },
   "types_to_exclude": [
    "module",
    "function",
    "builtin_function_or_method",
    "instance",
    "_Feature"
   ],
   "window_display": false
  }
 },
 "nbformat": 4,
 "nbformat_minor": 2
}
