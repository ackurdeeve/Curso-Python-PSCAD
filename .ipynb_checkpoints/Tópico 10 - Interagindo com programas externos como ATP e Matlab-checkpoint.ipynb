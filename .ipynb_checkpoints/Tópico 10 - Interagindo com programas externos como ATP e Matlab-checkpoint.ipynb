{
 "cells": [
  {
   "cell_type": "markdown",
   "metadata": {
    "toc": true
   },
   "source": [
    "<h1>Conteúdo<span class=\"tocSkip\"></span></h1>\n",
    "<div class=\"toc\"><ul class=\"toc-item\"><li><span><a href=\"#Interagindo-com-ATP\" data-toc-modified-id=\"Interagindo-com-ATP-1\"><span class=\"toc-item-num\">1&nbsp;&nbsp;</span>Interagindo com ATP</a></span></li><li><span><a href=\"#Interagindo-com-Matlab\" data-toc-modified-id=\"Interagindo-com-Matlab-2\"><span class=\"toc-item-num\">2&nbsp;&nbsp;</span>Interagindo com <em>Matlab</em></a></span></li></ul></div>"
   ]
  },
  {
   "cell_type": "markdown",
   "metadata": {},
   "source": [
    "# Interagindo com ATP\n",
    "*Python* tem a possibilidade de rodar programas externos do mesmo modo que se fosse no command promt. Para fazer isto é necessário importar o módulo **subprocess** e usar o método `run(commando, shell = True)`. **Nota: A opção shell=True é necessária para que ele Python entenda que vai rodar o ATP na consola**. \n",
    "\n",
    "A continuação foi feito um exemplo para rodar o ATP tanto no windows quanto no Linux. Os módulo sys e os foram usados para detetar o direitório de trabalho e o tipo de sistema operativo. \n",
    "\n",
    "Qualquer archvo ATP pode ser rodado desde o código midando o *fileName*"
   ]
  },
  {
   "cell_type": "code",
   "execution_count": 1,
   "metadata": {},
   "outputs": [],
   "source": [
    "# Ejecuta el archivo de atp\n",
    "import subprocess\n",
    "import sys, os\n",
    "\n",
    "fileName = 'estudio_v2.atp'\n",
    "\n",
    "\n",
    "# Get the opperative system\n",
    "operativeSystem = sys.platform\n",
    "\n",
    "# get the working directory\n",
    "if operativeSystem == 'linux':\n",
    "    working_dir = os.getcwd() + \"/\" + 'ATP' + \"/\"\n",
    "    ATPexe = os.environ['HOME'] + '/' + '.wine/drive_c/Program Files/ATP/tools/runAtp.exe'\n",
    "    subprocess.run(['wine ' + '\"' + ATPexe + '\" ' + '\"' + working_dir + fileName + '\"'], shell=True)\n",
    "else:\n",
    "    working_dir = os.getcwd() + \"\\\\\" + 'ATP' + \"\\\\\"\n",
    "    subprocess.run([r\"runAtp.exe\" ,r'\"' + working_dir + fileName + '\"'])"
   ]
  },
  {
   "cell_type": "markdown",
   "metadata": {},
   "source": [
    "## Tratamento de dados\n",
    "Depois de rodar o arquivo do ATP é gerado um arquivo .txt com a solução do sistema. Para importar os dados no *Python* é necessário fazer um tratamento ao arquivo. Para isso a gente vai usar o módulo pandas.\n",
    "\n",
    "    Lembre que para gerar o arquivo .txt é necessário modificar no startup do ATPLaunche a aba número 7 nos comandos PL4TYP para .txt e o FMTPL4 para wide08 ou wide10."
   ]
  },
  {
   "cell_type": "code",
   "execution_count": 17,
   "metadata": {},
   "outputs": [
    {
     "data": {
      "text/html": [
       "<div>\n",
       "<style scoped>\n",
       "    .dataframe tbody tr th:only-of-type {\n",
       "        vertical-align: middle;\n",
       "    }\n",
       "\n",
       "    .dataframe tbody tr th {\n",
       "        vertical-align: top;\n",
       "    }\n",
       "\n",
       "    .dataframe thead th {\n",
       "        text-align: right;\n",
       "    }\n",
       "</style>\n",
       "<table border=\"1\" class=\"dataframe\">\n",
       "  <thead>\n",
       "    <tr style=\"text-align: right;\">\n",
       "      <th></th>\n",
       "      <th>t</th>\n",
       "      <th>FA</th>\n",
       "      <th>FB</th>\n",
       "      <th>FC</th>\n",
       "      <th>FA1</th>\n",
       "      <th>FB1</th>\n",
       "      <th>FC1</th>\n",
       "      <th>L100A</th>\n",
       "      <th>L100B</th>\n",
       "      <th>L100C</th>\n",
       "      <th>...</th>\n",
       "      <th>LFA</th>\n",
       "      <th>LFB</th>\n",
       "      <th>LFC</th>\n",
       "      <th>LPXA.1</th>\n",
       "      <th>LPXB.1</th>\n",
       "      <th>LPXC.1</th>\n",
       "      <th>LFA.1</th>\n",
       "      <th>LFB.1</th>\n",
       "      <th>LFC.1</th>\n",
       "      <th>FALLA</th>\n",
       "    </tr>\n",
       "  </thead>\n",
       "  <tbody>\n",
       "    <tr>\n",
       "      <th>1</th>\n",
       "      <td>.5E-4</td>\n",
       "      <td>413142.</td>\n",
       "      <td>-75610.0</td>\n",
       "      <td>-338000.0</td>\n",
       "      <td>413144.0</td>\n",
       "      <td>-75640.0</td>\n",
       "      <td>-338000.0</td>\n",
       "      <td>404571.0</td>\n",
       "      <td>-195000.0</td>\n",
       "      <td>-209000.0</td>\n",
       "      <td>...</td>\n",
       "      <td>404571.0</td>\n",
       "      <td>-195000.0</td>\n",
       "      <td>-209000.0</td>\n",
       "      <td>0.0</td>\n",
       "      <td>0.0</td>\n",
       "      <td>0.0</td>\n",
       "      <td>1352.94</td>\n",
       "      <td>-788.52</td>\n",
       "      <td>-564.42</td>\n",
       "      <td>0.0</td>\n",
       "    </tr>\n",
       "    <tr>\n",
       "      <th>2</th>\n",
       "      <td>.1E-3</td>\n",
       "      <td>410219.</td>\n",
       "      <td>-67427.0</td>\n",
       "      <td>-343000.0</td>\n",
       "      <td>410221.0</td>\n",
       "      <td>-67458.0</td>\n",
       "      <td>-343000.0</td>\n",
       "      <td>404356.0</td>\n",
       "      <td>-188000.0</td>\n",
       "      <td>-216000.0</td>\n",
       "      <td>...</td>\n",
       "      <td>404356.0</td>\n",
       "      <td>-188000.0</td>\n",
       "      <td>-216000.0</td>\n",
       "      <td>0.0</td>\n",
       "      <td>0.0</td>\n",
       "      <td>0.0</td>\n",
       "      <td>1355.09</td>\n",
       "      <td>-767.49</td>\n",
       "      <td>-587.61</td>\n",
       "      <td>0.0</td>\n",
       "    </tr>\n",
       "    <tr>\n",
       "      <th>3</th>\n",
       "      <td>.15E-3</td>\n",
       "      <td>407149.</td>\n",
       "      <td>-59221.0</td>\n",
       "      <td>-348000.0</td>\n",
       "      <td>407152.0</td>\n",
       "      <td>-59252.0</td>\n",
       "      <td>-348000.0</td>\n",
       "      <td>403976.0</td>\n",
       "      <td>-182000.0</td>\n",
       "      <td>-222000.0</td>\n",
       "      <td>...</td>\n",
       "      <td>403976.0</td>\n",
       "      <td>-182000.0</td>\n",
       "      <td>-222000.0</td>\n",
       "      <td>0.0</td>\n",
       "      <td>0.0</td>\n",
       "      <td>0.0</td>\n",
       "      <td>1356.77</td>\n",
       "      <td>-746.19</td>\n",
       "      <td>-610.58</td>\n",
       "      <td>0.0</td>\n",
       "    </tr>\n",
       "    <tr>\n",
       "      <th>4</th>\n",
       "      <td>.2E-3</td>\n",
       "      <td>403935.</td>\n",
       "      <td>-50994.0</td>\n",
       "      <td>-353000.0</td>\n",
       "      <td>403939.0</td>\n",
       "      <td>-51025.0</td>\n",
       "      <td>-353000.0</td>\n",
       "      <td>403464.0</td>\n",
       "      <td>-175000.0</td>\n",
       "      <td>-229000.0</td>\n",
       "      <td>...</td>\n",
       "      <td>403464.0</td>\n",
       "      <td>-175000.0</td>\n",
       "      <td>-229000.0</td>\n",
       "      <td>0.0</td>\n",
       "      <td>0.0</td>\n",
       "      <td>0.0</td>\n",
       "      <td>1357.95</td>\n",
       "      <td>-724.61</td>\n",
       "      <td>-633.33</td>\n",
       "      <td>0.0</td>\n",
       "    </tr>\n",
       "    <tr>\n",
       "      <th>5</th>\n",
       "      <td>.25E-3</td>\n",
       "      <td>400578.</td>\n",
       "      <td>-42748.0</td>\n",
       "      <td>-358000.0</td>\n",
       "      <td>400582.0</td>\n",
       "      <td>-42779.0</td>\n",
       "      <td>-358000.0</td>\n",
       "      <td>402817.0</td>\n",
       "      <td>-168000.0</td>\n",
       "      <td>-235000.0</td>\n",
       "      <td>...</td>\n",
       "      <td>402817.0</td>\n",
       "      <td>-168000.0</td>\n",
       "      <td>-235000.0</td>\n",
       "      <td>0.0</td>\n",
       "      <td>0.0</td>\n",
       "      <td>0.0</td>\n",
       "      <td>1358.66</td>\n",
       "      <td>-702.79</td>\n",
       "      <td>-655.87</td>\n",
       "      <td>0.0</td>\n",
       "    </tr>\n",
       "  </tbody>\n",
       "</table>\n",
       "<p>5 rows × 29 columns</p>\n",
       "</div>"
      ],
      "text/plain": [
       "        t       FA       FB        FC       FA1      FB1       FC1     L100A  \\\n",
       "1   .5E-4  413142. -75610.0 -338000.0  413144.0 -75640.0 -338000.0  404571.0   \n",
       "2   .1E-3  410219. -67427.0 -343000.0  410221.0 -67458.0 -343000.0  404356.0   \n",
       "3  .15E-3  407149. -59221.0 -348000.0  407152.0 -59252.0 -348000.0  403976.0   \n",
       "4   .2E-3  403935. -50994.0 -353000.0  403939.0 -51025.0 -353000.0  403464.0   \n",
       "5  .25E-3  400578. -42748.0 -358000.0  400582.0 -42779.0 -358000.0  402817.0   \n",
       "\n",
       "      L100B     L100C  ...         LFA       LFB       LFC  LPXA.1  LPXB.1  \\\n",
       "1 -195000.0 -209000.0  ...    404571.0 -195000.0 -209000.0     0.0     0.0   \n",
       "2 -188000.0 -216000.0  ...    404356.0 -188000.0 -216000.0     0.0     0.0   \n",
       "3 -182000.0 -222000.0  ...    403976.0 -182000.0 -222000.0     0.0     0.0   \n",
       "4 -175000.0 -229000.0  ...    403464.0 -175000.0 -229000.0     0.0     0.0   \n",
       "5 -168000.0 -235000.0  ...    402817.0 -168000.0 -235000.0     0.0     0.0   \n",
       "\n",
       "   LPXC.1    LFA.1   LFB.1   LFC.1  FALLA  \n",
       "1     0.0  1352.94 -788.52 -564.42    0.0  \n",
       "2     0.0  1355.09 -767.49 -587.61    0.0  \n",
       "3     0.0  1356.77 -746.19 -610.58    0.0  \n",
       "4     0.0  1357.95 -724.61 -633.33    0.0  \n",
       "5     0.0  1358.66 -702.79 -655.87    0.0  \n",
       "\n",
       "[5 rows x 29 columns]"
      ]
     },
     "execution_count": 17,
     "metadata": {},
     "output_type": "execute_result"
    }
   ],
   "source": [
    "# Carga los datos\n",
    "import pandas as pd\n",
    "\n",
    "filepath = working_dir + fileName[:len(fileName)-4] + '.txt'\n",
    "\n",
    "df = pd.read_csv(filepath, skiprows=3, delim_whitespace=True, header=-1)\n",
    "df2 = pd.read_csv(filepath, delim_whitespace=True, skiprows=1)\n",
    "df.columns = df2.columns\n",
    "df = df.loc[1:2000,:]\n",
    "df.columns.values[0] = 't'\n",
    "df.head()"
   ]
  },
  {
   "cell_type": "code",
   "execution_count": null,
   "metadata": {},
   "outputs": [],
   "source": [
    "# Plot  % matplotlib inline|nbagg\n",
    "# Usar matplotlib 2.0.0 e numpy 1.12.1\n",
    "import numpy as np\n",
    "import matplotlib.pyplot as plt\n",
    "%matplotlib inline \n",
    "t = df.loc[:,'in']\n",
    "Vin = df.loc[:,'L100A':'L100C']\n",
    "\n",
    "plt.figure(figsize = (15,5))\n",
    "plt.plot(t,Vin)\n",
    "plt.show()"
   ]
  },
  {
   "cell_type": "markdown",
   "metadata": {},
   "source": [
    "# Interagindo com *Matlab*"
   ]
  },
  {
   "cell_type": "code",
   "execution_count": 4,
   "metadata": {},
   "outputs": [],
   "source": [
    "import scipy.io as sio\n",
    "\n",
    "folder = 'Matlab/'\n",
    "\n",
    "mat_contents = sio.loadmat(folder + 'test_matlab.mat') # Importa o arquivo .mat"
   ]
  },
  {
   "cell_type": "code",
   "execution_count": 5,
   "metadata": {},
   "outputs": [
    {
     "name": "stdout",
     "output_type": "stream",
     "text": [
      "dict_keys(['__header__', '__version__', '__globals__', 'Po', 'fobj_op', 'mostrar', 'Fi2', 'GWt', 'Fo', 'n_circ', 'Vl', 'f', 'rsuelo', 'flechasw', 'feixemax', 'mdcmax', 'hmax', 'tamb', 'vanoviento', 'SIL_Original', 'Costo_Original', 'ROW_Original', 'Altura_Original', 'tty', 'ht', 'Cx', 'Cy', 'cty', 'cf', 'D', 'h', 'cnum', 'rx', 'ry', 'rxc', 'ryc', 'Ecrit_aux', 'Rext', 'Rcc', 'kgkm', 'kgf', 'secc', 'Rin', 'Ecrit', 'costkgkm', 'flechaf', 'flechaf2', 'flechaEDS', 'Pb', 'dr', 'Df', 'G', 'x', 'y', 'it', 'G_aux', 'GW', 'Z', 'Y', 'C', 'Q', 'E', 'Esup', 'bc', 'mdc', 'Zabc', 'Yabc', 'Zabct', 'Yabct', 'Z012', 'Y012', 'Z0', 'Y0', 'Zc', 'SIL', 'SILt', 'GWs', 'EMAGmax', 'Zs', 'Ys', 'Cs', 'Qs', 'Pl', 'P0t', 'largura', 'Qt', 'cTpy', 'CtX', 'CtY', 'Cm', 'CmT', 'feixe', 'Esup_aux', 'ind', 'costo', 'altura', 'f1', 'f2', 'f3', 'f4', 'W', 'Fo2', 'p1_0', 'p2_0', 'p1_1', 'p2_1', 'p1_2', 'p2_2', 'p1', 'p2', 'p3', 'p4', 'p5_0', 'p5', 'p6', 'p7', 'p8', 'P', 'name', 'longitud', 'Pcarga', 'fp', 'Pcomp', 'Vf', 'Reator', 'Pcc', 'Zf1', 'Zf2'])\n"
     ]
    }
   ],
   "source": [
    "print (mat_contents.keys())"
   ]
  },
  {
   "cell_type": "code",
   "execution_count": 6,
   "metadata": {},
   "outputs": [],
   "source": [
    "import numpy as np\n",
    "\n",
    "GW = (mat_contents['GWt'])\n",
    "xc = (mat_contents['GWs'][:,4]).reshape([-1,1])\n",
    "yc = (mat_contents['GWs'][:,5]).reshape([-1,1])\n",
    "r  = (mat_contents['GWs'][:,1]).reshape([-1,1])\n",
    "q  = (mat_contents['Qs'][:,0]).reshape([-1,1])"
   ]
  },
  {
   "cell_type": "code",
   "execution_count": 7,
   "metadata": {},
   "outputs": [
    {
     "data": {
      "image/png": "[encoded data removed]",
      "text/plain": [
       "<matplotlib.figure.Figure at 0x17d50961be0>"
      ]
     },
     "metadata": {},
     "output_type": "display_data"
    }
   ],
   "source": [
    "import matplotlib.pyplot as plt\n",
    "\n",
    "plt.figure(figsize = (10,10))\n",
    "plt.scatter(xc, yc)\n",
    "plt.axis('equal')\n",
    "plt.show()"
   ]
  }
 ],
 "metadata": {
  "kernelspec": {
   "display_name": "Python 3",
   "language": "python",
   "name": "python3"
  },
  "language_info": {
   "codemirror_mode": {
    "name": "ipython",
    "version": 3
   },
   "file_extension": ".py",
   "mimetype": "text/x-python",
   "name": "python",
   "nbconvert_exporter": "python",
   "pygments_lexer": "ipython3",
   "version": "3.6.4"
  },
  "toc": {
   "base_numbering": 1,
   "nav_menu": {},
   "number_sections": true,
   "sideBar": true,
   "skip_h1_title": false,
   "title_cell": "Conteúdo",
   "title_sidebar": "Contents",
   "toc_cell": true,
   "toc_position": {},
   "toc_section_display": true,
   "toc_window_display": false
  },
  "varInspector": {
   "cols": {
    "lenName": 16,
    "lenType": 16,
    "lenVar": 40
   },
   "kernels_config": {
    "python": {
     "delete_cmd_postfix": "",
     "delete_cmd_prefix": "del ",
     "library": "var_list.py",
     "varRefreshCmd": "print(var_dic_list())"
    },
    "r": {
     "delete_cmd_postfix": ") ",
     "delete_cmd_prefix": "rm(",
     "library": "var_list.r",
     "varRefreshCmd": "cat(var_dic_list()) "
    }
   },
   "types_to_exclude": [
    "module",
    "function",
    "builtin_function_or_method",
    "instance",
    "_Feature"
   ],
   "window_display": false
  }
 },
 "nbformat": 4,
 "nbformat_minor": 2
}
