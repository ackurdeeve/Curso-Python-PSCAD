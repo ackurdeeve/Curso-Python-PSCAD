{
 "cells": [
  {
   "cell_type": "markdown",
   "metadata": {
    "toc": true
   },
   "source": [
    "<h1>Conteúdo<span class=\"tocSkip\"></span></h1>\n",
    "<div class=\"toc\"><ul class=\"toc-item\"><li><span><a href=\"#Instalação\" data-toc-modified-id=\"Instalação-1\"><span class=\"toc-item-num\">1&nbsp;&nbsp;</span>Instalação</a></span></li><li><span><a href=\"#Test-Inicial\" data-toc-modified-id=\"Test-Inicial-2\"><span class=\"toc-item-num\">2&nbsp;&nbsp;</span>Test Inicial</a></span></li><li><span><a href=\"#Automatizando-uma-simulação\" data-toc-modified-id=\"Automatizando-uma-simulação-3\"><span class=\"toc-item-num\">3&nbsp;&nbsp;</span>Automatizando uma simulação</a></span><ul class=\"toc-item\"><li><span><a href=\"#Configuração-inicial\" data-toc-modified-id=\"Configuração-inicial-3.1\"><span class=\"toc-item-num\">3.1&nbsp;&nbsp;</span>Configuração inicial</a></span></li><li><span><a href=\"#Obtendo-os-identificadores-e-parâmetros-dos-elementos\" data-toc-modified-id=\"Obtendo-os-identificadores-e-parâmetros-dos-elementos-3.2\"><span class=\"toc-item-num\">3.2&nbsp;&nbsp;</span>Obtendo os identificadores e parâmetros dos elementos</a></span></li><li><span><a href=\"#Mudando-o-valor-dos-elementos\" data-toc-modified-id=\"Mudando-o-valor-dos-elementos-3.3\"><span class=\"toc-item-num\">3.3&nbsp;&nbsp;</span>Mudando o valor dos elementos</a></span></li><li><span><a href=\"#Rodando-PSCAD-muitas-vezes\" data-toc-modified-id=\"Rodando-PSCAD-muitas-vezes-3.4\"><span class=\"toc-item-num\">3.4&nbsp;&nbsp;</span>Rodando PSCAD muitas vezes</a></span></li><li><span><a href=\"#Tratamento-de-dados\" data-toc-modified-id=\"Tratamento-de-dados-3.5\"><span class=\"toc-item-num\">3.5&nbsp;&nbsp;</span>Tratamento de dados</a></span></li></ul></li></ul></div>"
   ]
  },
  {
   "cell_type": "markdown",
   "metadata": {},
   "source": [
    "# Instalação\n",
    "Ter instalado [Anaconda](https://www.anaconda.com/download/) na versão 3.6 de python  e  a [suite de automação do PSCAD](https://hvdc.ca/news-and-events/read,article/125/pscad-automation-with-scripting-is-now-available). \n",
    "\n",
    "Primeiro instalar Anaconda, e depois a libraria do [PSCAD](https://hvdc.ca/news-and-events/read,article/125/pscad-automation-with-scripting-is-now-available). Quando a libraria do PSCAD peça para insalar python e pywin não instalem.  \n",
    "\n",
    "# Test Inicial\n",
    "Depois de ter instalado tudo vão testar que funcione. Para isso estou enviando um arquivo de teste. O que vocês tem que fazer é o siguente:\n",
    "\n",
    "1. No explorador de windows escrever cmd para abrir o promt.\n",
    "2. Escrever cd \"ruta do arquivo de cada uno\"\n",
    "3. Escrever python PSCADAutomationTest.py\n",
    "\n",
    "Se todo estiver certo python vai abrir o PSCAD e rodar o arquivo de simulação. O arquivo é bem simples, só roda o arquivo para testar que todo ficou bem.\n",
    "\n",
    "Também podem ver que tudo está certo rodando a seguinte célula:"
   ]
  },
  {
   "cell_type": "code",
   "execution_count": null,
   "metadata": {
    "collapsed": true
   },
   "outputs": [],
   "source": [
    "# Import configuration file and automation library\n",
    "import sys, os\n",
    "sys.path.append(r\"C:\\Program Files (x86)\\PSCAD\\Automation\\Lib\\mhrc\")\n",
    "\n",
    "import automation.controller\n",
    "\n",
    "# Import other utilities to perform cool stuff\n",
    "from win32com.client.gencache import EnsureDispatch as Dispatch\n",
    "from automation.utilities.word import Word\n",
    "from automation.utilities.file import File\n",
    "import win32com.client\n",
    "import shutil\n",
    "\n",
    "#---------------------------------------------------------------------\n",
    "# Configuration\n",
    "#---------------------------------------------------------------------\n",
    "\n",
    "pscad_version = 'PSCAD 4.6.2 (x64)'\n",
    "fortran_version = 'GFortran 4.6.2'\n",
    "fortran_ext = '.gf46'\n",
    "\n",
    "# Working directory (use current directory)\n",
    "working_dir = os.getcwd() + \"\\\\\" + 'AutomationPSCAD' + \"\\\\\"\n",
    "\n",
    "#---------------------------------------------------------------------\n",
    "# Main script \n",
    "#---------------------------------------------------------------------\n",
    "\n",
    "project_name = 'automationTest'\n",
    "\n",
    "# Source and destination folders for output data\n",
    "src_folder = working_dir + project_name + fortran_ext\n",
    "dst_folder = working_dir + \"testAutomation_Output\"   \n",
    "\n",
    "# Get the Automation Controller that is used to launch PSCAD\n",
    "controller = automation.controller.Controller()\n",
    "\n",
    "# Launch PSCAD and silence all dialogue boxes\n",
    "pscad = controller.launch(pscad_version, options={'silence': True})\n",
    "\n",
    "# Set the compiler\n",
    "pscad.settings(fortran_version=fortran_version)\n",
    "\n",
    "# Load the project\n",
    "pscad.load([working_dir + project_name + \".pscx\"])\n",
    "project = pscad.project(project_name) \n",
    "project.focus()\n",
    "\n",
    "# Get the \"Main\" canvas\n",
    "main = project.user_canvas('Main')\n",
    "\n",
    "project.run()"
   ]
  },
  {
   "cell_type": "markdown",
   "metadata": {},
   "source": [
    "# Automatizando uma simulação\n",
    "## Configuração inicial\n",
    "O primeiro que deve ser configurado para as simulações são os direitórios de trabalho, do .exe do PSCAD, os compiladores e o diretòrio de destino. O módulo **os** permite encontrar o diretório de trabalho e o **sys** adicionar o PATH do PSCAD ao sistema.\n",
    "\n",
    "**Se suas versões de PSCAD o fortran são diferentes simplesmente mudem os nomes para as versões certas**"
   ]
  },
  {
   "cell_type": "code",
   "execution_count": null,
   "metadata": {},
   "outputs": [],
   "source": [
    "# Import configuration file and automation library\n",
    "import sys, os\n",
    "sys.path.append(r\"C:\\Program Files (x86)\\PSCAD\\Automation\\Lib\\mhrc\")\n",
    "\n",
    "import automation.controller\n",
    "\n",
    "# Import other utilities to perform cool stuff\n",
    "from win32com.client.gencache import EnsureDispatch as Dispatch\n",
    "from automation.utilities.word import Word\n",
    "from automation.utilities.file import File\n",
    "import win32com.client\n",
    "import shutil\n",
    "\n",
    "#---------------------------------------------------------------------\n",
    "# Configuration\n",
    "#---------------------------------------------------------------------\n",
    "\n",
    "pscad_version = 'PSCAD 4.6.2 (x64)'\n",
    "fortran_version = 'GFortran 4.6.2'\n",
    "fortran_ext = '.gf46'\n",
    "\n",
    "# Working directory (use current directory)\n",
    "working_dir = os.getcwd() + \"\\\\AutomationPSCAD\\\\\"\n",
    "\n",
    "#---------------------------------------------------------------------\n",
    "# Main script \n",
    "#---------------------------------------------------------------------\n",
    "\n",
    "project_name = 'Fault_1_Circuits_automation'\n",
    "\n",
    "# Source and destination folders for output data\n",
    "src_folder = working_dir + project_name + fortran_ext\n",
    "dst_folder = working_dir + \"Resultado_testes\"   \n",
    "\n",
    "# Get the Automation Controller that is used to launch PSCAD\n",
    "controller = automation.controller.Controller()\n",
    "\n",
    "# Launch PSCAD and silence all dialogue boxes\n",
    "pscad = controller.launch(pscad_version, options={'silence': True})\n",
    "\n",
    "# Set the compiler\n",
    "pscad.settings(fortran_version=fortran_version)\n",
    "\n",
    "# Load the project\n",
    "pscad.load([working_dir + project_name + \".pscx\"])\n",
    "project = pscad.project(project_name) \n",
    "project.focus()\n",
    "\n"
   ]
  },
  {
   "cell_type": "markdown",
   "metadata": {},
   "source": [
    "## Obtendo os identificadores e parâmetros dos elementos\n",
    "Cada elemento no PSCAD possui um idendificador único que pode ser encontrado fazendo click direito no componente e depois em atributos.\n",
    "![SAXS](imagens/AtributosPSCAD.png)\n",
    "\n",
    "Para acceder a esse componente é necessário primeiro obter um *handle* ao canvas/janela no qual esteja o compomenente usando o método *user_canvas()*. Depois de obter o *handle* da janela podem ser obtidos os *hanldes* de cada componente usando o método *user_cmp()*.\n",
    "Elementos especias como linhas de transmissão são obtidos com os métodos *tline()*, *cable()*, entre outros. \n",
    "Note que a geometría e parâmetros das linhas de transmissão ficam numa janela diferente, portanto, tem que ser obtido o *handle* a essa janela usando *user_canvas(nome da janela)*."
   ]
  },
  {
   "cell_type": "code",
   "execution_count": null,
   "metadata": {},
   "outputs": [],
   "source": [
    "# Get the \"Main\" canvas\n",
    "main = project.user_canvas('Main')\n",
    "\n",
    "# Obtaining handlers for components\n",
    "\n",
    "breakerControl1 = main.user_cmp(1121319939)\n",
    "breakerControl2 = main.user_cmp(1033232284)\n",
    "\n",
    "fautControl = main.user_cmp(548909560)\n",
    "\n",
    "linePart1 = main.tline(1827968329)\n",
    "linePart2 = main.tline(1304594388)\n",
    "\n",
    "sendingFont = main.user_cmp(568962169)\n",
    "receptionFont = main.user_cmp(1996084973)\n",
    "\n",
    "# Getting components handlers from anther canvas\n",
    "TLine_part1 = project.user_canvas('TLine_part1')\n",
    "geomLine = TLine_part1.user_cmp(638280223)"
   ]
  },
  {
   "cell_type": "markdown",
   "metadata": {},
   "source": [
    "## Mudando o valor dos elementos\n",
    "Uma vez obtidos os componente do PSCAD os parâmetros podem ser mudados usando o método `set_parameters(**kwargs)`.\n",
    "Para saber quais são os parâmetros dos componentes pode ser visto no PSCAD ou usando o usando o método `get_parameters(**kwargs)`.\n",
    "![SAXS](imagens/ParametrosPSCAD.PNG)"
   ]
  },
  {
   "cell_type": "code",
   "execution_count": null,
   "metadata": {},
   "outputs": [],
   "source": [
    "# Setting values for components\n",
    "sendingFont.set_parameters(Vm = 500, Ph = 120)\n",
    "\n",
    "breakerControl2.set_parameters(NUMS = 1, TO1 = 0.1, TO2 = 0.4)"
   ]
  },
  {
   "cell_type": "markdown",
   "metadata": {},
   "source": [
    "## Rodando PSCAD muitas vezes\n",
    "É possível rodar várias simulações simplesmente usando o método *run()*. No seguinte exemplo PSCAD é rodado 10 vezes mudando aleatôriamente o tempo de abertura e fechamento do segundo disjuntor. "
   ]
  },
  {
   "cell_type": "code",
   "execution_count": null,
   "metadata": {},
   "outputs": [],
   "source": [
    "# Clear the ouput folder\n",
    "try:\n",
    "    shutil.rmtree(dst_folder)\n",
    "except Exception as ignored:\n",
    "    pass\n",
    "\n",
    "os.mkdir(dst_folder)\n",
    "\n",
    "import numpy as np\n",
    "\n",
    "nsim = 10\n",
    "for i in range(nsim):\n",
    "    \n",
    "    time1 = np.random.randn()\n",
    "    \n",
    "    breakerControl2.set_parameters(NUMS = 2, TO1 = time1, TO2 = time1 + np.random.randn())\n",
    "\n",
    "    project.run()\n",
    "    \n",
    "    # Save data to output folder\n",
    "    folder = os.path.join(dst_folder, \"Test_\" + str(counter))\n",
    "    File.move_files(src_folder, folder, \".out\", \".inf\")"
   ]
  },
  {
   "cell_type": "markdown",
   "metadata": {},
   "source": [
    "## Tratamento de dados\n",
    "Os dados resultantes da simulação do PSCAD foram salvos em arquivos *.out* dentro da pasta de resultados. O arquivo *.inf* contem o nome de casa um dos sinais. Os arquivos *.out* comtem os valores dos sinais separados a cada 11 sinais sendo sempre o primero sinal o tempo.\n",
    "\n",
    "Neste momento vocês já tem todas as ferramentas e conhecimentos suficientes para ler os arquivos, fazer o tratamento de dados e reporte de resultados. Como a ideia é que vocês aprendam e consigam fazer as coisas sozonhos, seu **Exercício** é fazer o tratamento dos dados que estão na pasta *Test_1* e graficar o resultado do sinal trifásico *Vf*.\n",
    "\n",
    "**Dica:** \n",
    "* usar a leitura normal de arquivos de texto para obter os nomes das variáveis \n",
    "* usar DataFrames para obter os valores dos sinas"
   ]
  }
 ],
 "metadata": {
  "kernelspec": {
   "display_name": "Python 3",
   "language": "python",
   "name": "python3"
  },
  "language_info": {
   "codemirror_mode": {
    "name": "ipython",
    "version": 3
   },
   "file_extension": ".py",
   "mimetype": "text/x-python",
   "name": "python",
   "nbconvert_exporter": "python",
   "pygments_lexer": "ipython3",
   "version": "3.6.4"
  },
  "toc": {
   "base_numbering": 1,
   "nav_menu": {},
   "number_sections": true,
   "sideBar": true,
   "skip_h1_title": false,
   "title_cell": "Conteúdo",
   "title_sidebar": "Conteúdo",
   "toc_cell": true,
   "toc_position": {
    "height": "calc(100% - 180px)",
    "left": "10px",
    "top": "150px",
    "width": "288px"
   },
   "toc_section_display": true,
   "toc_window_display": false
  },
  "varInspector": {
   "cols": {
    "lenName": 16,
    "lenType": 16,
    "lenVar": 40
   },
   "kernels_config": {
    "python": {
     "delete_cmd_postfix": "",
     "delete_cmd_prefix": "del ",
     "library": "var_list.py",
     "varRefreshCmd": "print(var_dic_list())"
    },
    "r": {
     "delete_cmd_postfix": ") ",
     "delete_cmd_prefix": "rm(",
     "library": "var_list.r",
     "varRefreshCmd": "cat(var_dic_list()) "
    }
   },
   "types_to_exclude": [
    "module",
    "function",
    "builtin_function_or_method",
    "instance",
    "_Feature"
   ],
   "window_display": false
  }
 },
 "nbformat": 4,
 "nbformat_minor": 2
}
