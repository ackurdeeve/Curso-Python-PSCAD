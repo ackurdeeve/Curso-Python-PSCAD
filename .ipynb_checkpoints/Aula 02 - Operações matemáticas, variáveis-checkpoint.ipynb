{
 "cells": [
  {
   "cell_type": "markdown",
   "metadata": {
    "toc": true
   },
   "source": [
    "<h1>Conteúdo<span class=\"tocSkip\"></span></h1>\n",
    "<div class=\"toc\"><ul class=\"toc-item\"><li><span><a href=\"#Operações-matemáticas\" data-toc-modified-id=\"Operações-matemáticas-1\"><span class=\"toc-item-num\">1&nbsp;&nbsp;</span>Operações matemáticas</a></span><ul class=\"toc-item\"><li><span><a href=\"#Operações-envolvendo-strings\" data-toc-modified-id=\"Operações-envolvendo-strings-1.1\"><span class=\"toc-item-num\">1.1&nbsp;&nbsp;</span>Operações envolvendo strings</a></span></li><li><span><a href=\"#Erros\" data-toc-modified-id=\"Erros-1.2\"><span class=\"toc-item-num\">1.2&nbsp;&nbsp;</span>Erros</a></span></li></ul></li><li><span><a href=\"#Variáveis\" data-toc-modified-id=\"Variáveis-2\"><span class=\"toc-item-num\">2&nbsp;&nbsp;</span>Variáveis</a></span><ul class=\"toc-item\"><li><span><a href=\"#Conversão-de-uma-variável\" data-toc-modified-id=\"Conversão-de-uma-variável-2.1\"><span class=\"toc-item-num\">2.1&nbsp;&nbsp;</span>Conversão de uma variável</a></span><ul class=\"toc-item\"><li><span><a href=\"#Junção-de-números-e-strings\" data-toc-modified-id=\"Junção-de-números-e-strings-2.1.1\"><span class=\"toc-item-num\">2.1.1&nbsp;&nbsp;</span>Junção de números e strings</a></span></li></ul></li></ul></li><li><span><a href=\"#Comparações\" data-toc-modified-id=\"Comparações-3\"><span class=\"toc-item-num\">3&nbsp;&nbsp;</span>Comparações</a></span></li><li><span><a href=\"#Exercícios\" data-toc-modified-id=\"Exercícios-4\"><span class=\"toc-item-num\">4&nbsp;&nbsp;</span>Exercícios</a></span></li></ul></div>"
   ]
  },
  {
   "cell_type": "markdown",
   "metadata": {},
   "source": [
    "# Operações matemáticas\n",
    "\n",
    "Nesta aula serão introduzidos dois novos tipos de Python, números inteiros, ou *int*, e números decimais, ou *float*. Serão realizadas algumas operações entre números, depois isso será abstraído para variáveis e, por final, será mostrado como se faz a conversão de um tipo para outro."
   ]
  },
  {
   "cell_type": "code",
   "execution_count": 2,
   "metadata": {},
   "outputs": [
    {
     "name": "stdout",
     "output_type": "stream",
     "text": [
      "3\n",
      "-1\n",
      "2\n",
      "0.5\n"
     ]
    }
   ],
   "source": [
    "print(1 + 2)  # Soma\n",
    "print(1 - 2)  # Subtração\n",
    "print(1 * 2)  # Multiplicação\n",
    "print(1 / 2)  # Divisão"
   ]
  },
  {
   "cell_type": "markdown",
   "metadata": {},
   "source": [
    "Note que o Python mostra números negativos e decimais da mesma maneira que nós. As partes que possuem '#' são chamadas de comentários. Tudo à direita de um # é ignorado pelo interpretador. Isso é essencial para que você não se perca no seu código, e também é útil para remover reversívelmente partes problemáticas do seu código.\n",
    "\n",
    "Veja se você nota a diferença entre essas duas operações:"
   ]
  },
  {
   "cell_type": "code",
   "execution_count": 1,
   "metadata": {},
   "outputs": [
    {
     "name": "stdout",
     "output_type": "stream",
     "text": [
      "3\n",
      "3.0\n"
     ]
    }
   ],
   "source": [
    "print(1 + 2)   # Int\n",
    "print(1. + 2)  # Float"
   ]
  },
  {
   "cell_type": "markdown",
   "metadata": {},
   "source": [
    "Supostamente os resultados seriam iguais. Porém, a diferença é que no segundo caso, o número gerado é um *float*, porque um dos dois também é um float. Caso o resultado gere um número decimal, o resultado será convertido para um float, como visto no caso de 1/2. Isso é exclusivo de Python 3, em Python 2, o resultado seria 0.\n",
    "\n",
    "Para saber qual é o tipo de um objeto, é só utilizar a função **type**."
   ]
  },
  {
   "cell_type": "code",
   "execution_count": 9,
   "metadata": {},
   "outputs": [
    {
     "name": "stdout",
     "output_type": "stream",
     "text": [
      "<class 'int'>\n",
      "<class 'float'>\n",
      "<class 'str'>\n"
     ]
    }
   ],
   "source": [
    "print(type(1))\n",
    "print(type(1.))\n",
    "print(type('1'))"
   ]
  },
  {
   "cell_type": "markdown",
   "metadata": {},
   "source": [
    "Veja que ele mostra que os tipos desses números são inteiros (int), float e strings (str)."
   ]
  },
  {
   "cell_type": "code",
   "execution_count": 6,
   "metadata": {},
   "outputs": [
    {
     "name": "stdout",
     "output_type": "stream",
     "text": [
      "1\n",
      "3\n",
      "1000\n"
     ]
    }
   ],
   "source": [
    "print(10 % 3)   # Retorna o resto da divisão. Em inglês chamado de \"modulo\"\n",
    "print(10 // 3)  # Retorna a divisão cortando as casas decimais. Chamado de \"floor division\"\n",
    "print(10 ** 3)  # Potência"
   ]
  },
  {
   "cell_type": "markdown",
   "metadata": {},
   "source": [
    "Note que eu coloco um espaço entre os números e as operações. Isso é mais para facilitar a leitura das operações do que algo estritamente necessário. É uma convenção que eu acho bastante útil.\n",
    "\n",
    "Operadores matemáticos, da maior para menor precedência:\n",
    "\n",
    "* **\\*\\***: Exponencial\n",
    "* **%**: Módulo/resto\n",
    "* **//**: Divisão inteira\n",
    "* **/**: Divisão\n",
    "* **\\***: Multiplicação\n",
    "* **-**: Subtração\n",
    "* **+**: Adição\n",
    "\n",
    "## Operações envolvendo strings\n",
    "\n",
    "Alguns operadores matemáticos podem ser utilizados em outros objetos, que não números, dependendo se a operação em si foi definida no objeto. Qual seria o resultado de aplicar uma operação de soma entre duas strings?"
   ]
  },
  {
   "cell_type": "code",
   "execution_count": 7,
   "metadata": {},
   "outputs": [
    {
     "name": "stdout",
     "output_type": "stream",
     "text": [
      "ABCdef\n"
     ]
    }
   ],
   "source": [
    "print('ABC' + 'def')"
   ]
  },
  {
   "cell_type": "markdown",
   "metadata": {},
   "source": [
    "Veja que ele juntou as duas strings em uma só. Porém, veja o seguinte:"
   ]
  },
  {
   "cell_type": "code",
   "execution_count": 8,
   "metadata": {},
   "outputs": [
    {
     "ename": "TypeError",
     "evalue": "unsupported operand type(s) for -: 'str' and 'str'",
     "output_type": "error",
     "traceback": [
      "\u001b[0;31m---------------------------------------------------------------------------\u001b[0m",
      "\u001b[0;31mTypeError\u001b[0m                                 Traceback (most recent call last)",
      "\u001b[0;32m<ipython-input-8-42a4ec3a2677>\u001b[0m in \u001b[0;36m<module>\u001b[0;34m()\u001b[0m\n\u001b[0;32m----> 1\u001b[0;31m \u001b[0mprint\u001b[0m\u001b[0;34m(\u001b[0m\u001b[0;34m'ABC'\u001b[0m \u001b[0;34m-\u001b[0m \u001b[0;34m'ABC'\u001b[0m\u001b[0;34m)\u001b[0m\u001b[0;34m\u001b[0m\u001b[0m\n\u001b[0m",
      "\u001b[0;31mTypeError\u001b[0m: unsupported operand type(s) for -: 'str' and 'str'"
     ]
    }
   ],
   "source": [
    "print('ABC' - 'ABC')"
   ]
  },
  {
   "cell_type": "markdown",
   "metadata": {},
   "source": [
    "## Erros\n",
    "\n",
    "O resultado da operação foi um erro. Erros são bastante comuns em programação. Python em especial pode produzir mensagens de erro compridíssimas, porém ele consegue, frequentemente, mostrar exatamente a linha onde o erro aconteceu. Junto da linha do erro, é mostrado o tipo do erro. Nesse caso, um 'TypeError', ou seja, um erro associado ao tipo. Aqui, ele fala que ele não sabe o que fazer quando uma subtração é utilizada entre duas strings (str).\n",
    "\n",
    "Caso você receba uma mensagem de erro difícil de ser interpretada, você pode copiar e colar a mensagem no Google ou DuckDuckGo e obter informações mais detalhadas sobre o seu erro. Veja aqui alguns erros comuns, mas não se preocupe em entender a nomenclatura:\n",
    "\n",
    "* TypeError: operação ou função aplicada a um tipo incompatível\n",
    "* IndexError: índices não presentes em listas\n",
    "* SyntaxError: Python não entendeu o que está escrito na linha\n",
    "* IndentationError: Falta ou há indentação extra\n",
    "* NameError: erro de escopo ou variável não foi declarada\n",
    "* ZeroDivisionError: divisão por zero\n",
    "\n",
    "# Variáveis\n",
    "\n",
    "Variáveis são maneiras de se atribuir valores a nomes. Python é uma linguagem onde o tipo da variável é fluído, ou seja, não é necessário defini-lo de antemão, e é possível realizar operações sem conhecer o tipo da variável. O processo de atribuição de um valor à uma variável é chamado de **declaração**, e é realizado com um sinal de igual, ```=```, por exemplo, ```nome=valor```. Isso não significa que é uma equação, ou seja, ```valor=nome``` é totalmente diferente de ```nome=valor```!"
   ]
  },
  {
   "cell_type": "code",
   "execution_count": 13,
   "metadata": {},
   "outputs": [
    {
     "name": "stdout",
     "output_type": "stream",
     "text": [
      "3\n"
     ]
    }
   ],
   "source": [
    "a = 1\n",
    "b = 2\n",
    "c = a + b\n",
    "print(c)"
   ]
  },
  {
   "cell_type": "code",
   "execution_count": 14,
   "metadata": {},
   "outputs": [
    {
     "name": "stdout",
     "output_type": "stream",
     "text": [
      "12\n"
     ]
    }
   ],
   "source": [
    "a = '1'\n",
    "b = '2'\n",
    "c = a + b\n",
    "print(c)"
   ]
  },
  {
   "cell_type": "markdown",
   "metadata": {},
   "source": [
    "Veja que essencialmente as mesmas operações foram feitas nos dois casos. Porém, em um caso, somou-se dois números e no outro caso, duas strings foram concatenadas.\n",
    "\n",
    "## Conversão de uma variável\n",
    "\n",
    "É possível converter uma variável de um tipo para outro utilizando as funções específicas para cada tipo. Por exemplo, **int()** converte qualquer tipo a um número inteiro, desde que isso seja possível. Veja."
   ]
  },
  {
   "cell_type": "code",
   "execution_count": 15,
   "metadata": {},
   "outputs": [
    {
     "name": "stdout",
     "output_type": "stream",
     "text": [
      "3\n"
     ]
    }
   ],
   "source": [
    "a = '1'\n",
    "b = '2'\n",
    "a = int(a)\n",
    "b = int(b)\n",
    "c = a + b\n",
    "print(c)"
   ]
  },
  {
   "cell_type": "markdown",
   "metadata": {},
   "source": [
    "O oposto também pode ser feito."
   ]
  },
  {
   "cell_type": "code",
   "execution_count": 16,
   "metadata": {},
   "outputs": [
    {
     "name": "stdout",
     "output_type": "stream",
     "text": [
      "12\n"
     ]
    }
   ],
   "source": [
    "a = 1\n",
    "b = 2\n",
    "a = str(a)\n",
    "b = str(b)\n",
    "c = a + b\n",
    "print(c)"
   ]
  },
  {
   "cell_type": "markdown",
   "metadata": {},
   "source": [
    "### Junção de números e strings\n",
    "\n",
    "Isso é bastante útil quando se deseja escrever os resultados de, por exemplo, um ajuste, para um arquivo. Como arquivos de texto conhecem somente texto, é necessário então transformar todos os números em texto (strings) antes de serem gravados. Por exemplo.\n"
   ]
  },
  {
   "cell_type": "code",
   "execution_count": 1,
   "metadata": {},
   "outputs": [
    {
     "name": "stdout",
     "output_type": "stream",
     "text": [
      "O resultado do ajuste foi 3.3333333333333335\n"
     ]
    }
   ],
   "source": [
    "resultado = 10 / 3\n",
    "print('O resultado do ajuste foi %s' % resultado)"
   ]
  },
  {
   "cell_type": "markdown",
   "metadata": {},
   "source": [
    "Neste caso, utilizou-se o operator '%' para fazer outra tarefa, que foi achar todos os locais que continham o sinal de % e colocar o valor que seguia % no lugar. Há duas outras maneiras de se fazer isso, e eu, pessoalmente, acho essa maneira mostrada aqui pouco elegante. Os dois métodos são: Utilizando **.format** e **f-strings**.\n",
    "\n",
    "Veja que foi colocado um número muito longo depois da vírgula. Isso é frequentemente indesejado, então é possível cortar esse excesso."
   ]
  },
  {
   "cell_type": "code",
   "execution_count": 27,
   "metadata": {},
   "outputs": [
    {
     "name": "stdout",
     "output_type": "stream",
     "text": [
      "O resultado do ajuste foi 3.33\n"
     ]
    }
   ],
   "source": [
    "print('O resultado do ajuste foi {}'.format(round(resultado, 2)))"
   ]
  },
  {
   "cell_type": "markdown",
   "metadata": {},
   "source": [
    ".format é um método que coloca números que recebe como argumentos nos locais que contém chaves {}. Aqui, ele colocou o resultado a função de arredondamento do Python **round**, dentro das chaves. Como essa sintaxe é um pouco feia, há outra maneira."
   ]
  },
  {
   "cell_type": "code",
   "execution_count": 34,
   "metadata": {},
   "outputs": [
    {
     "name": "stdout",
     "output_type": "stream",
     "text": [
      "O resultado do ajuste foi 3.33\n"
     ]
    }
   ],
   "source": [
    "print('O resultado do ajuste foi {0:.2f}'.format(resultado))"
   ]
  },
  {
   "cell_type": "markdown",
   "metadata": {},
   "source": [
    "Agora, dentro das chaves colocou-se um código que significa \"pegue o primeiro resultado e, depois da vírgula, coloque somente duas casas decimais, e trate o número como se fosse um float\". Esse tipo de representação pode parecer complicado, e não é estritamente necessário saber todos os detalhes. Sempre que surgir a dúvida, é só consultar na [internet](https://docs.python.org/3.7/library/string.html?highlight=string%20float%20notation#format-string-syntax).\n",
    "\n",
    "A terceira maneira, exclusiva para versões mais recentes do Python, são as f-strings. Da mesma maneira que *raw* strings, um caracter, f, precede as aspas. A sintaxe depois é muito semelhante à sintaxe de .format. Dentro dos colchetes, pode ser colocada qualquer expressão de Python, desde que tenha uma única linha e seja válida. Porém, evite de colocar expressões muito complicadas dentro."
   ]
  },
  {
   "cell_type": "code",
   "execution_count": 2,
   "metadata": {},
   "outputs": [
    {
     "name": "stdout",
     "output_type": "stream",
     "text": [
      "O resultado do ajuste foi 3.33\n"
     ]
    }
   ],
   "source": [
    "print(f'O resultado do ajuste foi {resultado:.2f}')"
   ]
  },
  {
   "cell_type": "markdown",
   "metadata": {},
   "source": [
    "# Comparações\n",
    "\n",
    "Comparações são utilizadas para testar as relações entre duas variáveis. As comparações existentes são:\n",
    "\n",
    "* ==, igualdade. Note a presença de dois '='!\n",
    "* !=, desigualdade.\n",
    "* \\>, maior.\n",
    "* <, menor.\n",
    "* \\>=, maior ou igual\n",
    "* <=, menor ou igual\n"
   ]
  },
  {
   "cell_type": "code",
   "execution_count": 4,
   "metadata": {},
   "outputs": [
    {
     "name": "stdout",
     "output_type": "stream",
     "text": [
      "True\n",
      "False\n",
      "True\n",
      "True\n",
      "False\n",
      "False\n",
      "True\n"
     ]
    }
   ],
   "source": [
    "a = 1\n",
    "b = a\n",
    "c = 2\n",
    "d = 3\n",
    "\n",
    "print(a == b)\n",
    "print(a != b)\n",
    "print(a < c)\n",
    "print(a <= c)\n",
    "print(a > c)\n",
    "print(a >= c)\n",
    "print(a < c < d) # Funciona como na matemática, mas tente evitar, porque isso não funciona em outras línguas"
   ]
  },
  {
   "cell_type": "markdown",
   "metadata": {},
   "source": [
    "Essas comparações também servem para strings. Tome cuidado, porém, com o significado de maior ou menor para strings. Isso tem a ver com os valores dos caracteres na tabela ASCII."
   ]
  },
  {
   "cell_type": "code",
   "execution_count": 49,
   "metadata": {},
   "outputs": [
    {
     "name": "stdout",
     "output_type": "stream",
     "text": [
      "True\n",
      "False\n",
      "True\n",
      "True\n",
      "False\n",
      "False\n",
      "True\n"
     ]
    }
   ],
   "source": [
    "a = 'abc'\n",
    "b = 'abc'\n",
    "c = 'def'\n",
    "\n",
    "print(a == b)\n",
    "print(a != b)\n",
    "print(a < c)\n",
    "print(a <= c)\n",
    "print(a > c)\n",
    "print(a >= c)"
   ]
  },
  {
   "cell_type": "markdown",
   "metadata": {},
   "source": [
    "# Exercícios\n",
    "\n",
    "Explore os métodos para juntar strings e números (mais informações sobre coisas como *%d* e *:.2f* podem ser encontradas [aqui](https://docs.python.org/2/library/stdtypes.html#string-formatting) e [aqui](https://docs.python.org/3/library/string.html#string-formatting)).\n",
    "\n",
    "Melhorias no Python são propostas a partir de *PEP*s, ou *Python Enhancement Proposals*. Veja aqui duas propostas, para a criação do método [`.format()`](https://www.python.org/dev/peps/pep-3101/) e [`f-strings`](https://www.python.org/dev/peps/pep-0498/). Dê uma olhada nesses documentos, tente entender o que eles propõem. Eles se aprofundam bastante em exceções e casos específicos, então não se preocupe se você não entender parte da sintaxe. Porém, é bom saber de onde essas sintaxes diferentes se originam."
   ]
  }
 ],
 "metadata": {
  "hide_input": false,
  "kernelspec": {
   "display_name": "Python 3",
   "language": "python",
   "name": "python3"
  },
  "language_info": {
   "codemirror_mode": {
    "name": "ipython",
    "version": 3
   },
   "file_extension": ".py",
   "mimetype": "text/x-python",
   "name": "python",
   "nbconvert_exporter": "python",
   "pygments_lexer": "ipython3",
   "version": "3.6.2"
  },
  "toc": {
   "base_numbering": 1,
   "nav_menu": {},
   "number_sections": true,
   "sideBar": true,
   "skip_h1_title": false,
   "title_cell": "Conteúdo",
   "title_sidebar": "Conteúdo",
   "toc_cell": true,
   "toc_position": {},
   "toc_section_display": true,
   "toc_window_display": false
  },
  "varInspector": {
   "cols": {
    "lenName": 16,
    "lenType": 16,
    "lenVar": 40
   },
   "kernels_config": {
    "python": {
     "delete_cmd_postfix": "",
     "delete_cmd_prefix": "del ",
     "library": "var_list.py",
     "varRefreshCmd": "print(var_dic_list())"
    },
    "r": {
     "delete_cmd_postfix": ") ",
     "delete_cmd_prefix": "rm(",
     "library": "var_list.r",
     "varRefreshCmd": "cat(var_dic_list()) "
    }
   },
   "types_to_exclude": [
    "module",
    "function",
    "builtin_function_or_method",
    "instance",
    "_Feature"
   ],
   "window_display": false
  }
 },
 "nbformat": 4,
 "nbformat_minor": 2
}
