{
 "cells": [
  {
   "cell_type": "markdown",
   "metadata": {
    "toc": true
   },
   "source": [
    "<h1>Conteúdo<span class=\"tocSkip\"></span></h1>\n",
    "<div class=\"toc\"><ul class=\"toc-item\"><li><span><a href=\"#Introdução\" data-toc-modified-id=\"Introdução-1\"><span class=\"toc-item-num\">1&nbsp;&nbsp;</span>Introdução</a></span></li><li><span><a href=\"#Abrindo-um-arquivo\" data-toc-modified-id=\"Abrindo-um-arquivo-2\"><span class=\"toc-item-num\">2&nbsp;&nbsp;</span>Abrindo um arquivo</a></span></li><li><span><a href=\"#New-heading\" data-toc-modified-id=\"New-heading-3\"><span class=\"toc-item-num\">3&nbsp;&nbsp;</span>New heading</a></span></li><li><span><a href=\"#Operações-sobre-colunas\" data-toc-modified-id=\"Operações-sobre-colunas-4\"><span class=\"toc-item-num\">4&nbsp;&nbsp;</span>Operações sobre colunas</a></span></li><li><span><a href=\"#Seccionando-dataframes\" data-toc-modified-id=\"Seccionando-dataframes-5\"><span class=\"toc-item-num\">5&nbsp;&nbsp;</span>Seccionando dataframes</a></span></li><li><span><a href=\"#Máscaras-lógicas\" data-toc-modified-id=\"Máscaras-lógicas-6\"><span class=\"toc-item-num\">6&nbsp;&nbsp;</span>Máscaras lógicas</a></span></li><li><span><a href=\"#Exercícios\" data-toc-modified-id=\"Exercícios-7\"><span class=\"toc-item-num\">7&nbsp;&nbsp;</span>Exercícios</a></span><ul class=\"toc-item\"><li><span><a href=\"#Calorimetria\" data-toc-modified-id=\"Calorimetria-7.1\"><span class=\"toc-item-num\">7.1&nbsp;&nbsp;</span>Calorimetria</a></span></li><li><span><a href=\"#DSC\" data-toc-modified-id=\"DSC-7.2\"><span class=\"toc-item-num\">7.2&nbsp;&nbsp;</span>DSC</a></span></li><li><span><a href=\"#Reologia\" data-toc-modified-id=\"Reologia-7.3\"><span class=\"toc-item-num\">7.3&nbsp;&nbsp;</span>Reologia</a></span></li></ul></li><li><span><a href=\"#Material-suplementar\" data-toc-modified-id=\"Material-suplementar-8\"><span class=\"toc-item-num\">8&nbsp;&nbsp;</span>Material suplementar</a></span></li></ul></div>"
   ]
  },
  {
   "cell_type": "markdown",
   "metadata": {},
   "source": [
    "# Introdução\n",
    "\n",
    "Pandas é um pacote com base no numpy utilizado bastante para ciência de dados. Aqui, usaremos uma pequena fração de suas capacidades. A sintaxe do pandas é um pouquinho diferente do já utilizado, e pode ser um pouco frustrante de início. Com o tempo, as coisas começam a fazer um pouco mais de sentido.\n",
    "\n",
    "Pandas possui uma quantidade muito extensa de funções além das que eu mostrarei aqui. O foco desta aula é abrir dados fornecidos por equipamentos, no formato de `txt`, `csv`, `dat`, etc. Funções como `groupby` não serão utilizadas, e fica a seu critério ler a documentação do pandas e encontrar as funçõs que mais lhe convém.\n",
    "\n",
    "# Abrindo um arquivo\n",
    "\n",
    "Nas aulas passadas, foram feitas funções para conseguir extrair o conteúdo de alguns arquivos. O processo foi um tanto trabalhoso. O pandas permite abrir dados .csv e .xls(x) com muito mais facilidade. Vamos reabrir o arquivo Consolidação1.txt e algum dos arquivos da pasta dados-1. Para isso, utilizamos a função **read_csv**, colocamos o resultado na variável df (de *dataframe*, o tipo de objeto no pandas) e visualizamos o começo do *dataframe* com a função **head**."
   ]
  },
  {
   "cell_type": "code",
   "execution_count": 2,
   "metadata": {},
   "outputs": [
    {
     "data": {
      "text/html": [
       "<div>\n",
       "<style scoped>\n",
       "    .dataframe tbody tr th:only-of-type {\n",
       "        vertical-align: middle;\n",
       "    }\n",
       "\n",
       "    .dataframe tbody tr th {\n",
       "        vertical-align: top;\n",
       "    }\n",
       "\n",
       "    .dataframe thead th {\n",
       "        text-align: right;\n",
       "    }\n",
       "</style>\n",
       "<table border=\"1\" class=\"dataframe\">\n",
       "  <thead>\n",
       "    <tr style=\"text-align: right;\">\n",
       "      <th></th>\n",
       "      <th>x y</th>\n",
       "    </tr>\n",
       "  </thead>\n",
       "  <tbody>\n",
       "    <tr>\n",
       "      <th>0</th>\n",
       "      <td>0.0000 4.9332</td>\n",
       "    </tr>\n",
       "    <tr>\n",
       "      <th>1</th>\n",
       "      <td>0.3344 2.6304</td>\n",
       "    </tr>\n",
       "    <tr>\n",
       "      <th>2</th>\n",
       "      <td>0.6689 0.2616</td>\n",
       "    </tr>\n",
       "    <tr>\n",
       "      <th>3</th>\n",
       "      <td>1.0033 9.6285</td>\n",
       "    </tr>\n",
       "    <tr>\n",
       "      <th>4</th>\n",
       "      <td>1.3378 9.8156</td>\n",
       "    </tr>\n",
       "  </tbody>\n",
       "</table>\n",
       "</div>"
      ],
      "text/plain": [
       "             x y\n",
       "0  0.0000 4.9332\n",
       "1  0.3344 2.6304\n",
       "2  0.6689 0.2616\n",
       "3  1.0033 9.6285\n",
       "4  1.3378 9.8156"
      ]
     },
     "execution_count": 2,
     "metadata": {},
     "output_type": "execute_result"
    }
   ],
   "source": [
    "import pandas as pd\n",
    "df = pd.read_csv('Consolidação.txt')\n",
    "df.head()"
   ]
  },
  {
   "cell_type": "markdown",
   "metadata": {},
   "source": [
    "----\n",
    "**Nota**: Caso você esteja utilizando o Windows e você obtenha o erro `OSError: Initializing from file failed`, adicione as seguintes linhas antes do `import pandas as pd`:\n",
    "\n",
    "    import sys\n",
    "    sys._enablelegacywindowsfsencoding()\n",
    "    \n",
    "Esse é um bug conhecido, e acontece quando há diacríticos em caracteres no nome do arquivo, e é específico para o Windows. Estas aulas foram desenvolvidas no Linux, então não notei esse problema. \n",
    "\n",
    "---\n",
    "\n",
    "\n",
    "Notamos que ele aparentemente não conseguiu diferenciar direito as duas colunas. Para nos assegurarmos, vamos ver as informações que o pandas nos dá para esse dataframe."
   ]
  },
  {
   "cell_type": "code",
   "execution_count": 3,
   "metadata": {},
   "outputs": [
    {
     "name": "stdout",
     "output_type": "stream",
     "text": [
      "<class 'pandas.core.frame.DataFrame'>\n",
      "RangeIndex: 300 entries, 0 to 299\n",
      "Data columns (total 1 columns):\n",
      "x y    300 non-null object\n",
      "dtypes: object(1)\n",
      "memory usage: 2.4+ KB\n"
     ]
    }
   ],
   "source": [
    "df.info()"
   ]
  },
  {
   "cell_type": "markdown",
   "metadata": {},
   "source": [
    "Vemos então que temos, de fato, somente 1 coluna, cujo nome é 'x y', que contém 300 'objetos'. Geralmente quando o pandas fala que há objetos numa coluna, ele quer dizer *strings*.\n",
    "\n",
    "O ponto é que, por padrão, o pandas tenta abrir arquivos csv assumindo que o separador é uma vírgula (afinal, o nome do arquivo é *comma separated values*). Então, é necessário informar o separador com a keyword *sep*."
   ]
  },
  {
   "cell_type": "code",
   "execution_count": 5,
   "metadata": {},
   "outputs": [
    {
     "data": {
      "text/html": [
       "<div>\n",
       "<style scoped>\n",
       "    .dataframe tbody tr th:only-of-type {\n",
       "        vertical-align: middle;\n",
       "    }\n",
       "\n",
       "    .dataframe tbody tr th {\n",
       "        vertical-align: top;\n",
       "    }\n",
       "\n",
       "    .dataframe thead th {\n",
       "        text-align: right;\n",
       "    }\n",
       "</style>\n",
       "<table border=\"1\" class=\"dataframe\">\n",
       "  <thead>\n",
       "    <tr style=\"text-align: right;\">\n",
       "      <th></th>\n",
       "      <th>x</th>\n",
       "      <th>y</th>\n",
       "    </tr>\n",
       "  </thead>\n",
       "  <tbody>\n",
       "    <tr>\n",
       "      <th>0</th>\n",
       "      <td>0.0000</td>\n",
       "      <td>4.9332</td>\n",
       "    </tr>\n",
       "    <tr>\n",
       "      <th>1</th>\n",
       "      <td>0.3344</td>\n",
       "      <td>2.6304</td>\n",
       "    </tr>\n",
       "    <tr>\n",
       "      <th>2</th>\n",
       "      <td>0.6689</td>\n",
       "      <td>0.2616</td>\n",
       "    </tr>\n",
       "    <tr>\n",
       "      <th>3</th>\n",
       "      <td>1.0033</td>\n",
       "      <td>9.6285</td>\n",
       "    </tr>\n",
       "    <tr>\n",
       "      <th>4</th>\n",
       "      <td>1.3378</td>\n",
       "      <td>9.8156</td>\n",
       "    </tr>\n",
       "  </tbody>\n",
       "</table>\n",
       "</div>"
      ],
      "text/plain": [
       "        x       y\n",
       "0  0.0000  4.9332\n",
       "1  0.3344  2.6304\n",
       "2  0.6689  0.2616\n",
       "3  1.0033  9.6285\n",
       "4  1.3378  9.8156"
      ]
     },
     "execution_count": 5,
     "metadata": {},
     "output_type": "execute_result"
    }
   ],
   "source": [
    "df = pd.read_csv('Consolidação.txt', sep=' ')\n",
    "df.head()"
   ]
  },
  {
   "cell_type": "code",
   "execution_count": 6,
   "metadata": {},
   "outputs": [
    {
     "name": "stdout",
     "output_type": "stream",
     "text": [
      "<class 'pandas.core.frame.DataFrame'>\n",
      "RangeIndex: 300 entries, 0 to 299\n",
      "Data columns (total 2 columns):\n",
      "x    300 non-null float64\n",
      "y    300 non-null float64\n",
      "dtypes: float64(2)\n",
      "memory usage: 4.8 KB\n"
     ]
    }
   ],
   "source": [
    "df.info()"
   ]
  },
  {
   "cell_type": "markdown",
   "metadata": {},
   "source": [
    "Agora vemos que ele, de fato, conseguiu separar em duas colunas, com os nomes x e y, e que contém floats. Para acessar uma dessas colunas, utilizamos uma notação parecida com a de dicionários."
   ]
  },
  {
   "cell_type": "code",
   "execution_count": 7,
   "metadata": {},
   "outputs": [
    {
     "data": {
      "text/plain": [
       "0    0.0000\n",
       "1    0.3344\n",
       "2    0.6689\n",
       "3    1.0033\n",
       "4    1.3378\n",
       "Name: x, dtype: float64"
      ]
     },
     "execution_count": 7,
     "metadata": {},
     "output_type": "execute_result"
    }
   ],
   "source": [
    "df['x'].head()"
   ]
  },
  {
   "cell_type": "markdown",
   "metadata": {},
   "source": [
    "# Operações sobre colunas\n",
    "\n",
    "E também, parecido com o numpy, podemos aplicar operações nas colunas, abrangendo-as por inteiro. Vamos agora criar uma coluna 'x1' que contém os valores de 'x' somados a 1, e vamos calcular as médias dessas duas colunas."
   ]
  },
  {
   "cell_type": "code",
   "execution_count": 8,
   "metadata": {},
   "outputs": [
    {
     "name": "stdout",
     "output_type": "stream",
     "text": [
      "Média de x: 50\n",
      "Média de x1: 51\n"
     ]
    }
   ],
   "source": [
    "df['x1'] = df['x'] + 1\n",
    "print(f\"Média de x: {df['x'].mean():.0f}\\nMédia de x1: {df['x1'].mean():.0f}\")"
   ]
  },
  {
   "cell_type": "markdown",
   "metadata": {},
   "source": [
    "Agora que essa operação foi feita, podemos ver que há uma nova coluna no *dataframe*."
   ]
  },
  {
   "cell_type": "code",
   "execution_count": 9,
   "metadata": {},
   "outputs": [
    {
     "data": {
      "text/html": [
       "<div>\n",
       "<style scoped>\n",
       "    .dataframe tbody tr th:only-of-type {\n",
       "        vertical-align: middle;\n",
       "    }\n",
       "\n",
       "    .dataframe tbody tr th {\n",
       "        vertical-align: top;\n",
       "    }\n",
       "\n",
       "    .dataframe thead th {\n",
       "        text-align: right;\n",
       "    }\n",
       "</style>\n",
       "<table border=\"1\" class=\"dataframe\">\n",
       "  <thead>\n",
       "    <tr style=\"text-align: right;\">\n",
       "      <th></th>\n",
       "      <th>x</th>\n",
       "      <th>y</th>\n",
       "      <th>x1</th>\n",
       "    </tr>\n",
       "  </thead>\n",
       "  <tbody>\n",
       "    <tr>\n",
       "      <th>0</th>\n",
       "      <td>0.0000</td>\n",
       "      <td>4.9332</td>\n",
       "      <td>1.0000</td>\n",
       "    </tr>\n",
       "    <tr>\n",
       "      <th>1</th>\n",
       "      <td>0.3344</td>\n",
       "      <td>2.6304</td>\n",
       "      <td>1.3344</td>\n",
       "    </tr>\n",
       "    <tr>\n",
       "      <th>2</th>\n",
       "      <td>0.6689</td>\n",
       "      <td>0.2616</td>\n",
       "      <td>1.6689</td>\n",
       "    </tr>\n",
       "    <tr>\n",
       "      <th>3</th>\n",
       "      <td>1.0033</td>\n",
       "      <td>9.6285</td>\n",
       "      <td>2.0033</td>\n",
       "    </tr>\n",
       "    <tr>\n",
       "      <th>4</th>\n",
       "      <td>1.3378</td>\n",
       "      <td>9.8156</td>\n",
       "      <td>2.3378</td>\n",
       "    </tr>\n",
       "  </tbody>\n",
       "</table>\n",
       "</div>"
      ],
      "text/plain": [
       "        x       y      x1\n",
       "0  0.0000  4.9332  1.0000\n",
       "1  0.3344  2.6304  1.3344\n",
       "2  0.6689  0.2616  1.6689\n",
       "3  1.0033  9.6285  2.0033\n",
       "4  1.3378  9.8156  2.3378"
      ]
     },
     "execution_count": 9,
     "metadata": {},
     "output_type": "execute_result"
    }
   ],
   "source": [
    "df.head()"
   ]
  },
  {
   "cell_type": "markdown",
   "metadata": {},
   "source": [
    "# Seccionando dataframes\n",
    "\n",
    "Suponha que desejamos somente os pontos após o vigésimo ponto do dataframe. Fazemos isso utilizando a localização com base no índice, ou *iloc*. Note que é necessário usar colchetes ao invés de parênteses, pois iloc não é uma função."
   ]
  },
  {
   "cell_type": "code",
   "execution_count": 10,
   "metadata": {},
   "outputs": [
    {
     "data": {
      "text/html": [
       "<div>\n",
       "<style scoped>\n",
       "    .dataframe tbody tr th:only-of-type {\n",
       "        vertical-align: middle;\n",
       "    }\n",
       "\n",
       "    .dataframe tbody tr th {\n",
       "        vertical-align: top;\n",
       "    }\n",
       "\n",
       "    .dataframe thead th {\n",
       "        text-align: right;\n",
       "    }\n",
       "</style>\n",
       "<table border=\"1\" class=\"dataframe\">\n",
       "  <thead>\n",
       "    <tr style=\"text-align: right;\">\n",
       "      <th></th>\n",
       "      <th>x</th>\n",
       "      <th>y</th>\n",
       "      <th>x1</th>\n",
       "    </tr>\n",
       "  </thead>\n",
       "  <tbody>\n",
       "    <tr>\n",
       "      <th>20</th>\n",
       "      <td>6.6890</td>\n",
       "      <td>2.5082</td>\n",
       "      <td>7.6890</td>\n",
       "    </tr>\n",
       "    <tr>\n",
       "      <th>21</th>\n",
       "      <td>7.0234</td>\n",
       "      <td>9.0577</td>\n",
       "      <td>8.0234</td>\n",
       "    </tr>\n",
       "    <tr>\n",
       "      <th>22</th>\n",
       "      <td>7.3579</td>\n",
       "      <td>7.6524</td>\n",
       "      <td>8.3579</td>\n",
       "    </tr>\n",
       "    <tr>\n",
       "      <th>23</th>\n",
       "      <td>7.6923</td>\n",
       "      <td>4.4824</td>\n",
       "      <td>8.6923</td>\n",
       "    </tr>\n",
       "    <tr>\n",
       "      <th>24</th>\n",
       "      <td>8.0268</td>\n",
       "      <td>8.7327</td>\n",
       "      <td>9.0268</td>\n",
       "    </tr>\n",
       "  </tbody>\n",
       "</table>\n",
       "</div>"
      ],
      "text/plain": [
       "         x       y      x1\n",
       "20  6.6890  2.5082  7.6890\n",
       "21  7.0234  9.0577  8.0234\n",
       "22  7.3579  7.6524  8.3579\n",
       "23  7.6923  4.4824  8.6923\n",
       "24  8.0268  8.7327  9.0268"
      ]
     },
     "execution_count": 10,
     "metadata": {},
     "output_type": "execute_result"
    }
   ],
   "source": [
    "df1 = df.iloc[20:, :]\n",
    "df1.head()"
   ]
  },
  {
   "cell_type": "markdown",
   "metadata": {},
   "source": [
    "O mesmo pode ser feito utilizando dois colchetes juntos, como se estivéssemos aplicando uma operação sobre arrays/listas 2D."
   ]
  },
  {
   "cell_type": "code",
   "execution_count": 11,
   "metadata": {},
   "outputs": [
    {
     "data": {
      "text/html": [
       "<div>\n",
       "<style scoped>\n",
       "    .dataframe tbody tr th:only-of-type {\n",
       "        vertical-align: middle;\n",
       "    }\n",
       "\n",
       "    .dataframe tbody tr th {\n",
       "        vertical-align: top;\n",
       "    }\n",
       "\n",
       "    .dataframe thead th {\n",
       "        text-align: right;\n",
       "    }\n",
       "</style>\n",
       "<table border=\"1\" class=\"dataframe\">\n",
       "  <thead>\n",
       "    <tr style=\"text-align: right;\">\n",
       "      <th></th>\n",
       "      <th>x</th>\n",
       "      <th>y</th>\n",
       "      <th>x1</th>\n",
       "    </tr>\n",
       "  </thead>\n",
       "  <tbody>\n",
       "    <tr>\n",
       "      <th>20</th>\n",
       "      <td>6.6890</td>\n",
       "      <td>2.5082</td>\n",
       "      <td>7.6890</td>\n",
       "    </tr>\n",
       "    <tr>\n",
       "      <th>21</th>\n",
       "      <td>7.0234</td>\n",
       "      <td>9.0577</td>\n",
       "      <td>8.0234</td>\n",
       "    </tr>\n",
       "    <tr>\n",
       "      <th>22</th>\n",
       "      <td>7.3579</td>\n",
       "      <td>7.6524</td>\n",
       "      <td>8.3579</td>\n",
       "    </tr>\n",
       "    <tr>\n",
       "      <th>23</th>\n",
       "      <td>7.6923</td>\n",
       "      <td>4.4824</td>\n",
       "      <td>8.6923</td>\n",
       "    </tr>\n",
       "    <tr>\n",
       "      <th>24</th>\n",
       "      <td>8.0268</td>\n",
       "      <td>8.7327</td>\n",
       "      <td>9.0268</td>\n",
       "    </tr>\n",
       "  </tbody>\n",
       "</table>\n",
       "</div>"
      ],
      "text/plain": [
       "         x       y      x1\n",
       "20  6.6890  2.5082  7.6890\n",
       "21  7.0234  9.0577  8.0234\n",
       "22  7.3579  7.6524  8.3579\n",
       "23  7.6923  4.4824  8.6923\n",
       "24  8.0268  8.7327  9.0268"
      ]
     },
     "execution_count": 11,
     "metadata": {},
     "output_type": "execute_result"
    }
   ],
   "source": [
    "df1 = df[:][20:]\n",
    "df1.head()"
   ]
  },
  {
   "cell_type": "markdown",
   "metadata": {},
   "source": [
    "Podemos também selecionar somente algumas colunas para essa transição. Isso é feito passando uma lista com os nomes das colunas que serão copiadas."
   ]
  },
  {
   "cell_type": "code",
   "execution_count": 12,
   "metadata": {},
   "outputs": [
    {
     "data": {
      "text/html": [
       "<div>\n",
       "<style scoped>\n",
       "    .dataframe tbody tr th:only-of-type {\n",
       "        vertical-align: middle;\n",
       "    }\n",
       "\n",
       "    .dataframe tbody tr th {\n",
       "        vertical-align: top;\n",
       "    }\n",
       "\n",
       "    .dataframe thead th {\n",
       "        text-align: right;\n",
       "    }\n",
       "</style>\n",
       "<table border=\"1\" class=\"dataframe\">\n",
       "  <thead>\n",
       "    <tr style=\"text-align: right;\">\n",
       "      <th></th>\n",
       "      <th>x</th>\n",
       "      <th>x1</th>\n",
       "    </tr>\n",
       "  </thead>\n",
       "  <tbody>\n",
       "    <tr>\n",
       "      <th>0</th>\n",
       "      <td>0.0000</td>\n",
       "      <td>1.0000</td>\n",
       "    </tr>\n",
       "    <tr>\n",
       "      <th>1</th>\n",
       "      <td>0.3344</td>\n",
       "      <td>1.3344</td>\n",
       "    </tr>\n",
       "    <tr>\n",
       "      <th>2</th>\n",
       "      <td>0.6689</td>\n",
       "      <td>1.6689</td>\n",
       "    </tr>\n",
       "    <tr>\n",
       "      <th>3</th>\n",
       "      <td>1.0033</td>\n",
       "      <td>2.0033</td>\n",
       "    </tr>\n",
       "    <tr>\n",
       "      <th>4</th>\n",
       "      <td>1.3378</td>\n",
       "      <td>2.3378</td>\n",
       "    </tr>\n",
       "  </tbody>\n",
       "</table>\n",
       "</div>"
      ],
      "text/plain": [
       "        x      x1\n",
       "0  0.0000  1.0000\n",
       "1  0.3344  1.3344\n",
       "2  0.6689  1.6689\n",
       "3  1.0033  2.0033\n",
       "4  1.3378  2.3378"
      ]
     },
     "execution_count": 12,
     "metadata": {},
     "output_type": "execute_result"
    }
   ],
   "source": [
    "cols = ['x', 'x1']\n",
    "df1 = df[cols]\n",
    "df1.head()"
   ]
  },
  {
   "cell_type": "markdown",
   "metadata": {},
   "source": [
    "É possível utilizar *loc* ao invés de *iloc*, que aceita os nomes das seções (*labels*) ao invés de seus índices. É necessário colocar na ordem *linha,coluna*."
   ]
  },
  {
   "cell_type": "code",
   "execution_count": 13,
   "metadata": {},
   "outputs": [
    {
     "data": {
      "text/html": [
       "<div>\n",
       "<style scoped>\n",
       "    .dataframe tbody tr th:only-of-type {\n",
       "        vertical-align: middle;\n",
       "    }\n",
       "\n",
       "    .dataframe tbody tr th {\n",
       "        vertical-align: top;\n",
       "    }\n",
       "\n",
       "    .dataframe thead th {\n",
       "        text-align: right;\n",
       "    }\n",
       "</style>\n",
       "<table border=\"1\" class=\"dataframe\">\n",
       "  <thead>\n",
       "    <tr style=\"text-align: right;\">\n",
       "      <th></th>\n",
       "      <th>x</th>\n",
       "      <th>y</th>\n",
       "    </tr>\n",
       "  </thead>\n",
       "  <tbody>\n",
       "    <tr>\n",
       "      <th>0</th>\n",
       "      <td>0.0000</td>\n",
       "      <td>4.9332</td>\n",
       "    </tr>\n",
       "    <tr>\n",
       "      <th>1</th>\n",
       "      <td>0.3344</td>\n",
       "      <td>2.6304</td>\n",
       "    </tr>\n",
       "    <tr>\n",
       "      <th>2</th>\n",
       "      <td>0.6689</td>\n",
       "      <td>0.2616</td>\n",
       "    </tr>\n",
       "    <tr>\n",
       "      <th>3</th>\n",
       "      <td>1.0033</td>\n",
       "      <td>9.6285</td>\n",
       "    </tr>\n",
       "    <tr>\n",
       "      <th>4</th>\n",
       "      <td>1.3378</td>\n",
       "      <td>9.8156</td>\n",
       "    </tr>\n",
       "    <tr>\n",
       "      <th>5</th>\n",
       "      <td>1.6722</td>\n",
       "      <td>3.4563</td>\n",
       "    </tr>\n",
       "  </tbody>\n",
       "</table>\n",
       "</div>"
      ],
      "text/plain": [
       "        x       y\n",
       "0  0.0000  4.9332\n",
       "1  0.3344  2.6304\n",
       "2  0.6689  0.2616\n",
       "3  1.0033  9.6285\n",
       "4  1.3378  9.8156\n",
       "5  1.6722  3.4563"
      ]
     },
     "execution_count": 13,
     "metadata": {},
     "output_type": "execute_result"
    }
   ],
   "source": [
    "df.loc[:5, 'x':'y']"
   ]
  },
  {
   "cell_type": "code",
   "execution_count": 14,
   "metadata": {},
   "outputs": [
    {
     "data": {
      "text/html": [
       "<div>\n",
       "<style scoped>\n",
       "    .dataframe tbody tr th:only-of-type {\n",
       "        vertical-align: middle;\n",
       "    }\n",
       "\n",
       "    .dataframe tbody tr th {\n",
       "        vertical-align: top;\n",
       "    }\n",
       "\n",
       "    .dataframe thead th {\n",
       "        text-align: right;\n",
       "    }\n",
       "</style>\n",
       "<table border=\"1\" class=\"dataframe\">\n",
       "  <thead>\n",
       "    <tr style=\"text-align: right;\">\n",
       "      <th></th>\n",
       "      <th>x</th>\n",
       "      <th>x1</th>\n",
       "    </tr>\n",
       "  </thead>\n",
       "  <tbody>\n",
       "    <tr>\n",
       "      <th>2</th>\n",
       "      <td>0.6689</td>\n",
       "      <td>1.6689</td>\n",
       "    </tr>\n",
       "    <tr>\n",
       "      <th>3</th>\n",
       "      <td>1.0033</td>\n",
       "      <td>2.0033</td>\n",
       "    </tr>\n",
       "    <tr>\n",
       "      <th>4</th>\n",
       "      <td>1.3378</td>\n",
       "      <td>2.3378</td>\n",
       "    </tr>\n",
       "    <tr>\n",
       "      <th>5</th>\n",
       "      <td>1.6722</td>\n",
       "      <td>2.6722</td>\n",
       "    </tr>\n",
       "    <tr>\n",
       "      <th>6</th>\n",
       "      <td>2.0067</td>\n",
       "      <td>3.0067</td>\n",
       "    </tr>\n",
       "    <tr>\n",
       "      <th>7</th>\n",
       "      <td>2.3411</td>\n",
       "      <td>3.3411</td>\n",
       "    </tr>\n",
       "  </tbody>\n",
       "</table>\n",
       "</div>"
      ],
      "text/plain": [
       "        x      x1\n",
       "2  0.6689  1.6689\n",
       "3  1.0033  2.0033\n",
       "4  1.3378  2.3378\n",
       "5  1.6722  2.6722\n",
       "6  2.0067  3.0067\n",
       "7  2.3411  3.3411"
      ]
     },
     "execution_count": 14,
     "metadata": {},
     "output_type": "execute_result"
    }
   ],
   "source": [
    "df.loc[2:7, ['x', 'x1']]"
   ]
  },
  {
   "cell_type": "markdown",
   "metadata": {},
   "source": [
    "# Máscaras lógicas\n",
    "\n",
    "Suponha agora que desejemos selecionar somente os valores que obedecem uma regra. Se você se lembra, a coluna 'y' possui valores aleatórios entre 0 e 10, com média em torno de 5. Quais são os pontos de x onde o y correspondente é menor que a média?\n",
    "\n",
    "Para isso, utilizamos as máscaras lógicas. A criação de uma máscara é parecida com uma simples operação de comparação."
   ]
  },
  {
   "cell_type": "code",
   "execution_count": 15,
   "metadata": {},
   "outputs": [
    {
     "data": {
      "text/plain": [
       "0     True\n",
       "1     True\n",
       "2     True\n",
       "3    False\n",
       "4    False\n",
       "5     True\n",
       "6     True\n",
       "7     True\n",
       "8     True\n",
       "9    False\n",
       "Name: y, dtype: bool"
      ]
     },
     "execution_count": 15,
     "metadata": {},
     "output_type": "execute_result"
    }
   ],
   "source": [
    "media = df['y'].mean()\n",
    "filtro_menor_media = df['y'] < media\n",
    "filtro_menor_media.head(n=10)"
   ]
  },
  {
   "cell_type": "markdown",
   "metadata": {},
   "source": [
    "Agora colocamos esse filtro lógico para selecionar os valores desejados."
   ]
  },
  {
   "cell_type": "code",
   "execution_count": 16,
   "metadata": {},
   "outputs": [
    {
     "data": {
      "text/html": [
       "<div>\n",
       "<style scoped>\n",
       "    .dataframe tbody tr th:only-of-type {\n",
       "        vertical-align: middle;\n",
       "    }\n",
       "\n",
       "    .dataframe tbody tr th {\n",
       "        vertical-align: top;\n",
       "    }\n",
       "\n",
       "    .dataframe thead th {\n",
       "        text-align: right;\n",
       "    }\n",
       "</style>\n",
       "<table border=\"1\" class=\"dataframe\">\n",
       "  <thead>\n",
       "    <tr style=\"text-align: right;\">\n",
       "      <th></th>\n",
       "      <th>x</th>\n",
       "      <th>y</th>\n",
       "      <th>x1</th>\n",
       "    </tr>\n",
       "  </thead>\n",
       "  <tbody>\n",
       "    <tr>\n",
       "      <th>0</th>\n",
       "      <td>0.0000</td>\n",
       "      <td>4.9332</td>\n",
       "      <td>1.0000</td>\n",
       "    </tr>\n",
       "    <tr>\n",
       "      <th>1</th>\n",
       "      <td>0.3344</td>\n",
       "      <td>2.6304</td>\n",
       "      <td>1.3344</td>\n",
       "    </tr>\n",
       "    <tr>\n",
       "      <th>2</th>\n",
       "      <td>0.6689</td>\n",
       "      <td>0.2616</td>\n",
       "      <td>1.6689</td>\n",
       "    </tr>\n",
       "    <tr>\n",
       "      <th>5</th>\n",
       "      <td>1.6722</td>\n",
       "      <td>3.4563</td>\n",
       "      <td>2.6722</td>\n",
       "    </tr>\n",
       "    <tr>\n",
       "      <th>6</th>\n",
       "      <td>2.0067</td>\n",
       "      <td>4.2851</td>\n",
       "      <td>3.0067</td>\n",
       "    </tr>\n",
       "    <tr>\n",
       "      <th>7</th>\n",
       "      <td>2.3411</td>\n",
       "      <td>2.9700</td>\n",
       "      <td>3.3411</td>\n",
       "    </tr>\n",
       "    <tr>\n",
       "      <th>8</th>\n",
       "      <td>2.6756</td>\n",
       "      <td>2.6107</td>\n",
       "      <td>3.6756</td>\n",
       "    </tr>\n",
       "    <tr>\n",
       "      <th>10</th>\n",
       "      <td>3.3445</td>\n",
       "      <td>0.4337</td>\n",
       "      <td>4.3445</td>\n",
       "    </tr>\n",
       "    <tr>\n",
       "      <th>11</th>\n",
       "      <td>3.6789</td>\n",
       "      <td>3.1854</td>\n",
       "      <td>4.6789</td>\n",
       "    </tr>\n",
       "    <tr>\n",
       "      <th>14</th>\n",
       "      <td>4.6823</td>\n",
       "      <td>1.1816</td>\n",
       "      <td>5.6823</td>\n",
       "    </tr>\n",
       "  </tbody>\n",
       "</table>\n",
       "</div>"
      ],
      "text/plain": [
       "         x       y      x1\n",
       "0   0.0000  4.9332  1.0000\n",
       "1   0.3344  2.6304  1.3344\n",
       "2   0.6689  0.2616  1.6689\n",
       "5   1.6722  3.4563  2.6722\n",
       "6   2.0067  4.2851  3.0067\n",
       "7   2.3411  2.9700  3.3411\n",
       "8   2.6756  2.6107  3.6756\n",
       "10  3.3445  0.4337  4.3445\n",
       "11  3.6789  3.1854  4.6789\n",
       "14  4.6823  1.1816  5.6823"
      ]
     },
     "execution_count": 16,
     "metadata": {},
     "output_type": "execute_result"
    }
   ],
   "source": [
    "df_filtrado = df[filtro_menor_media]\n",
    "df_filtrado.head(n=10)"
   ]
  },
  {
   "cell_type": "markdown",
   "metadata": {},
   "source": [
    "Note que as linhas com os índices 3, 4 e 9 não estão presentes no dataframe filtrado, mostrando que o filtro ocorreu.\n",
    "\n",
    "Essas funções por si só já permitem que você faça muitas operações complexas.\n",
    "\n",
    "# Exercícios\n",
    "\n",
    "Os exercícios a seguir utilizam dados reais e problemas que eu encontrei durante meu doutorado. O foco dos exercícios é no carregamento dos dados. O tratamento é algo muito específico e fora do escopo desse curso.\n",
    "\n",
    "## Calorimetria\n",
    "\n",
    "Dificuldade: ★★★\n",
    "\n",
    "Conceitos utilizados:\n",
    "\n",
    "* Nomear colunas\n",
    "* Separadores de colunas\n",
    "* Separadores decimais\n",
    "* Cabeçalho (*header*)\n",
    "\n",
    "Nome do arquivo: 'Calorimetria.csv'\n",
    "\n",
    "Tarefa: Carregar o dataframe inteiro, depois separar somente as colunas Xt e $\\Delta$H.\n",
    "\n",
    "Dicas:\n",
    "\n",
    "1. Observe o formato do arquivo antes de começar a importar. Veja quais são os separadores decimais e de coluna. Conte quantos ';' existem na primeira linha e nas linhas subsequentes.\n",
    "2. Quando você for tratar os seus dados, talvez seja mais fácil fazer pequenas alterações em todos eles, utilizando uma ferramenta como o Notepad++, que permite realizar substituições em todos os arquivos abertos. Veja se isso será útil neste caso."
   ]
  },
  {
   "cell_type": "code",
   "execution_count": null,
   "metadata": {},
   "outputs": [],
   "source": [
    "%load ./respostas/Pandas-ITC.py"
   ]
  },
  {
   "cell_type": "markdown",
   "metadata": {},
   "source": [
    "## DSC\n",
    "\n",
    "Dificuldade: ★★ \n",
    "\n",
    "Conceitos utilizados:\n",
    "\n",
    "* Linhas de cabeçalho\n",
    "* Nomear colunas manualmente\n",
    "* Separador de colunas\n",
    "\n",
    "Nome do arquivo: 'DSC.txt'\n",
    "\n",
    "Descrição do experimento:\n",
    "\n",
    "Com o passar do tempo (t), a temperatura (T) de uma amostra é aumentada. O equipamento fornece uma energia (Q) para que a amostra fique nessa temperatura. Há um fluxo de gás inerte (f). As colunas nos dados estão nessa ordem.\n",
    "\n",
    "Tarefa: Carregar o dataframe e separar somente a temperatura e a taxa de calor, que são as colunas centrais."
   ]
  },
  {
   "cell_type": "code",
   "execution_count": null,
   "metadata": {},
   "outputs": [],
   "source": [
    "%load ./respostas/Pandas-DSC.py"
   ]
  },
  {
   "cell_type": "markdown",
   "metadata": {},
   "source": [
    "## Reologia\n",
    "\n",
    "Dificuldade: ★★★★ \n",
    "\n",
    "Conceitos:\n",
    "\n",
    "* Nomear colunas\n",
    "* Codificação\n",
    "* Cabeçalho\n",
    "* Separador de colunas\n",
    "* Separador decimal\n",
    "* Valores que não significam um número (NA)\n",
    "* Funções de string em dataframes, semelhantes à funções de string normais.\n",
    "* Extração de dados por filtros\n",
    "\n",
    "Nome do arquivo: 'Reologia.txt'\n",
    "\n",
    "Descrição do experimento:\n",
    "\n",
    "São feitos três experimentos em sequência.\n",
    "\n",
    "1. No primeiro, chamado de varredura de tensão, é aplicada uma tensão (Tau) e mede-se os parâmetros G' e G'' (melhor simbolizar por G1 e G2 por conveniencia).\n",
    "2. No segundo, chamado de varredura de frequência, é aplicada uma tensão constante variando-se a frequência, omega (simbolizar por w é conveniente), e mede-se os parâmetros G' e G'' (simbolize por G1 e G2)\n",
    "3. No terceiro, chamado de curva de fluxo, é aplicada uma taxa de cisalhamento (GP) e é medida a viscosidade (Eta).\n",
    "\n",
    "Os três experimentos podem ser separados pela primeira coluna, que contém valores do tipo 1|2, 3|7, etc. O primeiro número é o número do experimento, sendo 1 o oscilatório de tensão, 2 o oscilatório de frequência e 3 a curva de fluxo. Os valores após | se referem ao número do ponto, e não são muito relevantes.\n",
    "\n",
    "Tarefa: Carregar o arquivo, tomando cuidado com os nomes das colunas, os separadores e a codificação do arquivo (dica: é latin1). Separar o dataframe em três dataframes referentes aos três experimentos, possivelmente pelo uso de filtros, que contém somente as colunas de interesse para aquele experimento. Dica: utilize o fato de que a diferença mais marcante entre eles é a presença de um 1, 2 ou 3 no primeiro valor da primeira coluna. Utilize a função .str.startswith('1').\n"
   ]
  },
  {
   "cell_type": "code",
   "execution_count": null,
   "metadata": {},
   "outputs": [],
   "source": [
    "%load ./respostas/Pandas-reologia.py"
   ]
  },
  {
   "cell_type": "markdown",
   "metadata": {},
   "source": [
    "# Material suplementar\n",
    "\n",
    "Existem vários cursos sobre pandas online. Recomendo a seguinte palestra-aula chamada [Pandas for Data Science](https://www.youtube.com/watch?v=oGzU688xCUs), e [o repositório que a acompanha](https://github.com/chendaniely/scipy-2017-tutorial-pandas). Essa aula é um pouco mais voltada para data science, porém."
   ]
  }
 ],
 "metadata": {
  "hide_input": false,
  "kernelspec": {
   "display_name": "Python 3",
   "language": "python",
   "name": "python3"
  },
  "language_info": {
   "codemirror_mode": {
    "name": "ipython",
    "version": 3
   },
   "file_extension": ".py",
   "mimetype": "text/x-python",
   "name": "python",
   "nbconvert_exporter": "python",
   "pygments_lexer": "ipython3",
   "version": "3.6.5"
  },
  "toc": {
   "base_numbering": 1,
   "nav_menu": {},
   "number_sections": true,
   "sideBar": true,
   "skip_h1_title": false,
   "title_cell": "Conteúdo",
   "title_sidebar": "Conteúdo",
   "toc_cell": true,
   "toc_position": {},
   "toc_section_display": true,
   "toc_window_display": false
  },
  "varInspector": {
   "cols": {
    "lenName": 16,
    "lenType": 16,
    "lenVar": 40
   },
   "kernels_config": {
    "python": {
     "delete_cmd_postfix": "",
     "delete_cmd_prefix": "del ",
     "library": "var_list.py",
     "varRefreshCmd": "print(var_dic_list())"
    },
    "r": {
     "delete_cmd_postfix": ") ",
     "delete_cmd_prefix": "rm(",
     "library": "var_list.r",
     "varRefreshCmd": "cat(var_dic_list()) "
    }
   },
   "types_to_exclude": [
    "module",
    "function",
    "builtin_function_or_method",
    "instance",
    "_Feature"
   ],
   "window_display": false
  }
 },
 "nbformat": 4,
 "nbformat_minor": 2
}
