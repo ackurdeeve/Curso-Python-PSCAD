{
 "cells": [
  {
   "cell_type": "markdown",
   "metadata": {
    "toc": true
   },
   "source": [
    "<h1>Table of Contents<span class=\"tocSkip\"></span></h1>\n",
    "<div class=\"toc\"><ul class=\"toc-item\"><li><span><a href=\"#Criação-e-uso-de-funções\" data-toc-modified-id=\"Criação-e-uso-de-funções-1\"><span class=\"toc-item-num\">1&nbsp;&nbsp;</span>Criação e uso de funções</a></span><ul class=\"toc-item\"><li><span><a href=\"#Função-simples\" data-toc-modified-id=\"Função-simples-1.1\"><span class=\"toc-item-num\">1.1&nbsp;&nbsp;</span>Função simples</a></span></li><li><span><a href=\"#Funções-com-argumentos-de-longitud-variável\" data-toc-modified-id=\"Funções-com-argumentos-de-longitud-variável-1.2\"><span class=\"toc-item-num\">1.2&nbsp;&nbsp;</span>Funções com argumentos de longitud variável</a></span></li><li><span><a href=\"#Funções-com-argumentos-de-longitud-variável\" data-toc-modified-id=\"Funções-com-argumentos-de-longitud-variável-1.3\"><span class=\"toc-item-num\">1.3&nbsp;&nbsp;</span>Funções com argumentos de longitud variável</a></span><ul class=\"toc-item\"><li><span><a href=\"#Funções-varíaveis-sem-palavras-chave\" data-toc-modified-id=\"Funções-varíaveis-sem-palavras-chave-1.3.1\"><span class=\"toc-item-num\">1.3.1&nbsp;&nbsp;</span>Funções varíaveis sem palavras chave</a></span></li><li><span><a href=\"#Funções-varíaveis-sem-palavras-chave\" data-toc-modified-id=\"Funções-varíaveis-sem-palavras-chave-1.3.2\"><span class=\"toc-item-num\">1.3.2&nbsp;&nbsp;</span>Funções varíaveis sem palavras chave</a></span></li><li><span><a href=\"#Funções-varíaveis-com-argumentos-com-e-sem-palavras-chave\" data-toc-modified-id=\"Funções-varíaveis-com-argumentos-com-e-sem-palavras-chave-1.3.3\"><span class=\"toc-item-num\">1.3.3&nbsp;&nbsp;</span>Funções varíaveis com argumentos com e sem palavras chave</a></span></li></ul></li><li><span><a href=\"#Funções-anônimas\" data-toc-modified-id=\"Funções-anônimas-1.4\"><span class=\"toc-item-num\">1.4&nbsp;&nbsp;</span>Funções anônimas</a></span></li></ul></li><li><span><a href=\"#Documentação\" data-toc-modified-id=\"Documentação-2\"><span class=\"toc-item-num\">2&nbsp;&nbsp;</span>Documentação</a></span></li><li><span><a href=\"#Lidando-com-erros-e-exceções\" data-toc-modified-id=\"Lidando-com-erros-e-exceções-3\"><span class=\"toc-item-num\">3&nbsp;&nbsp;</span>Lidando com erros e exceções</a></span></li><li><span><a href=\"#Variáveis-locais-e-globais\" data-toc-modified-id=\"Variáveis-locais-e-globais-4\"><span class=\"toc-item-num\">4&nbsp;&nbsp;</span>Variáveis locais e globais</a></span><ul class=\"toc-item\"><li><span><a href=\"#Exercício\" data-toc-modified-id=\"Exercício-4.1\"><span class=\"toc-item-num\">4.1&nbsp;&nbsp;</span>Exercício</a></span></li></ul></li></ul></div>"
   ]
  },
  {
   "cell_type": "markdown",
   "metadata": {},
   "source": [
    "# Criação e uso de funções\n",
    "## Função simples\n",
    "\n",
    "As funções são definidas pela palavra reservada **def** seguido pelo nome da função e os argumentos de entrada dentro de *()*, posteriormente vem um ':' que indica o começo da função. Embaixo, de maneira identada, deve ir o corpo da função. Para finalizar a função deve ser escrita a palavra reservada **return** seguida dos nomes dos parámetros de saída da função. Se não tiver nenhum parâmetro de sáida, **return** fica sozinho.\n",
    "\n",
    "A continução é mostrado uma função sim parâmetros de saída e uma com parâmetros de saída:"
   ]
  },
  {
   "cell_type": "code",
   "execution_count": 1,
   "metadata": {},
   "outputs": [],
   "source": [
    "def função1(speed):\n",
    "    a = 5\n",
    "    b = speed\n",
    "    print ('Não tem retorno')\n",
    "    return"
   ]
  },
  {
   "cell_type": "code",
   "execution_count": 2,
   "metadata": {},
   "outputs": [],
   "source": [
    "def função2(speed):\n",
    "    a = 5\n",
    "    b = speed\n",
    "    return b"
   ]
  },
  {
   "cell_type": "markdown",
   "metadata": {},
   "source": [
    "Para chamar a função simplesmente é necessário colocar os parâmetros de saída dentro de **[ ]** seguido do *nome da função (parâmetros de entrada)*"
   ]
  },
  {
   "cell_type": "code",
   "execution_count": 3,
   "metadata": {},
   "outputs": [
    {
     "name": "stdout",
     "output_type": "stream",
     "text": [
      "Não tem retorno\n"
     ]
    }
   ],
   "source": [
    "função1(10)"
   ]
  },
  {
   "cell_type": "code",
   "execution_count": 4,
   "metadata": {},
   "outputs": [],
   "source": [
    "b = função2(10)"
   ]
  },
  {
   "cell_type": "markdown",
   "metadata": {},
   "source": [
    "Note que agora *b* pode ser usado fora da função"
   ]
  },
  {
   "cell_type": "code",
   "execution_count": 5,
   "metadata": {},
   "outputs": [
    {
     "data": {
      "text/plain": [
       "50"
      ]
     },
     "execution_count": 5,
     "metadata": {},
     "output_type": "execute_result"
    }
   ],
   "source": [
    "b * 5"
   ]
  },
  {
   "cell_type": "markdown",
   "metadata": {},
   "source": [
    "## Funções com argumentos de longitud variável\n",
    "É possível criar funções com parâmetros prefedinidos que podem ser mudados na hora de chamar a função:"
   ]
  },
  {
   "cell_type": "code",
   "execution_count": 6,
   "metadata": {},
   "outputs": [
    {
     "name": "stdout",
     "output_type": "stream",
     "text": [
      "A velocidade é 2.0 km/h\n"
     ]
    }
   ],
   "source": [
    "def speed(pos, tempo = 5):\n",
    "    speed = pos / tempo\n",
    "    print('A velocidade é {} km/h'.format(speed))\n",
    "    return speed, tempo\n",
    "\n",
    "v, t = speed(10)"
   ]
  },
  {
   "cell_type": "code",
   "execution_count": 7,
   "metadata": {},
   "outputs": [
    {
     "name": "stdout",
     "output_type": "stream",
     "text": [
      "A velocidade é 1.0 km/h\n"
     ]
    }
   ],
   "source": [
    "v, t = speed(10,10)"
   ]
  },
  {
   "cell_type": "markdown",
   "metadata": {},
   "source": [
    "## Funções com argumentos de longitud variável\n",
    "É possível crear funções que aceiten um numero indefinido de argumentos e argumentos opcionais. Os argumentos opcionais podem ser com o sem palavras chave. Os argumentos sem palavras chave se denotam como ```*arg```, enquanto que ps argumentos com palavras chave se denotam como ``` **kwarg```. \n",
    "Esses argumentos ajudam a fazer funções com dimensões variáveis e dar valores por defeito às funções e permitir introducir novos valores.\n",
    "### Funções varíaveis sem palavras chave\n",
    "A continuação é usada uma função com argumentos variáveis sem palavras chave. Podem notar que usando esta característica é possível é multiplicar qualquer quantidade de números."
   ]
  },
  {
   "cell_type": "code",
   "execution_count": 8,
   "metadata": {},
   "outputs": [
    {
     "name": "stdout",
     "output_type": "stream",
     "text": [
      "20\n",
      "90\n",
      "24\n",
      "900\n"
     ]
    }
   ],
   "source": [
    "def multiply(*args):\n",
    "    z = 1\n",
    "    for num in args:\n",
    "        z *= num\n",
    "    print(z)\n",
    "\n",
    "multiply(4, 5)\n",
    "multiply(10, 9)\n",
    "multiply(2, 3, 4)\n",
    "multiply(3, 5, 10, 6)"
   ]
  },
  {
   "cell_type": "markdown",
   "metadata": {},
   "source": [
    "### Funções varíaveis sem palavras chave\n",
    "A continuação é usada uma função com argumentos variáveis com palavras chave. Neste tipo de funções é possível verificar parâmetros opcionais da função."
   ]
  },
  {
   "cell_type": "code",
   "execution_count": 9,
   "metadata": {},
   "outputs": [
    {
     "name": "stdout",
     "output_type": "stream",
     "text": [
      "argumento extra = pos\n",
      "O novo valor da posição é 100\n",
      "argumento extra = arg\n",
      "A velocida é 100.0\n"
     ]
    }
   ],
   "source": [
    "def função4(time, **kwarg):\n",
    "    # Valor inicial\n",
    "    pos = 10\n",
    "    \n",
    "    #Verifica si hay argumentos opcionales que sirvan\n",
    "    for arg in kwarg:\n",
    "        print('argumento extra = ' + str(arg))\n",
    "        if arg == 'pos':\n",
    "            print ('O novo valor da posição é ' + str(kwarg[arg]))\n",
    "            pos = kwarg[arg]\n",
    "    \n",
    "    # Executa o código seguinte\n",
    "    speed = pos / time\n",
    "    \n",
    "    print('A velocida é ' + str(speed))\n",
    "    return \n",
    "\n",
    "função4(1, pos = 100, arg = 10)"
   ]
  },
  {
   "cell_type": "markdown",
   "metadata": {},
   "source": [
    "### Funções varíaveis com argumentos com e sem palavras chave\n",
    "É possível fazer funções que combinem argumentos com e sem palavras chave:"
   ]
  },
  {
   "cell_type": "code",
   "execution_count": 10,
   "metadata": {},
   "outputs": [
    {
     "name": "stdout",
     "output_type": "stream",
     "text": [
      "O resultado da soma foi 8, é muita coisa!\n",
      "Meu nome é Jhair\n",
      "Meu sobrenome é Acosta\n"
     ]
    }
   ],
   "source": [
    "def função5(*args, **kwargs):\n",
    "    z = 1\n",
    "    for num in args:\n",
    "        z += num\n",
    "    print('O resultado da soma foi {}, é muita coisa!'.format(z))\n",
    "    \n",
    "    for key, value in kwargs.items():\n",
    "        print(\"Meu {} é {}\".format(key, value))\n",
    "        \n",
    "função5 (1, 2, 3, 1, nome = 'Jhair', sobrenome = 'Acosta')\n",
    "    "
   ]
  },
  {
   "cell_type": "markdown",
   "metadata": {},
   "source": [
    "Se ficou alguma dúvida podem encontrar maior informação no seguinte [link](https://www.digitalocean.com/community/tutorials/how-to-use-args-and-kwargs-in-python-3)"
   ]
  },
  {
   "cell_type": "markdown",
   "metadata": {},
   "source": [
    "## Funções anônimas\n",
    "\n",
    "Existem casos onde é necessário utilizar uma função, mas seria mais conveniente não ter que definir uma função, pois a função é muito simples. Para esses casos, é utilizada expressões `lambda`, termo oriundo do cálculo lambda. A sintaxe é:\n",
    "\n",
    "    lambda (var): (expressão para ser retornada)\n",
    "    \n",
    "Vamos utilizar uma expressão lambda para organizar uma lista de acordo com o segundo caracter de algumas strings em uma lista."
   ]
  },
  {
   "cell_type": "code",
   "execution_count": 11,
   "metadata": {},
   "outputs": [
    {
     "name": "stdout",
     "output_type": "stream",
     "text": [
      "Sort realizado com o primeiro caracter da lista: ['abc', 'bca', 'cab']\n",
      "Sort realizado com o segundo caracter da lista:  ['cab', 'abc', 'bca']\n"
     ]
    }
   ],
   "source": [
    "lista = ['cab', 'abc', 'bca']\n",
    "lista.sort()\n",
    "print(\"Sort realizado com o primeiro caracter da lista:\", lista)\n",
    "lista.sort(key = lambda x: x[1]) # A função lambda retorna o segundo item do i-ésimo termo da lista\n",
    "print(\"Sort realizado com o segundo caracter da lista: \", lista)"
   ]
  },
  {
   "cell_type": "markdown",
   "metadata": {},
   "source": [
    "# Documentação\n",
    "\n",
    "Quando você criar funções mais complexas, é de bom grado colocar uma *docstring*, ou um texto que descreve o que a função faz, o que ela retorna e como ela funciona, em termos gerais. É útil tanto para quem for utilizar seu código, quanto o seu eu futuro. Isso é feito colocando-se, logo na primeira linha, uma string com três \". Esse tipo de string pode ser quebrada por linhas novas, e só termina mesmo quando encontra o \"\"\" final."
   ]
  },
  {
   "cell_type": "code",
   "execution_count": 12,
   "metadata": {},
   "outputs": [
    {
     "name": "stdout",
     "output_type": "stream",
     "text": [
      "Help on function func_complexa in module __main__:\n",
      "\n",
      "func_complexa(*args, **kwargs)\n",
      "    Essa função é muito muito complexa, pois calcula e retorna o significado da \n",
      "    vida, do universo, e tudo mais\n",
      "\n"
     ]
    },
    {
     "data": {
      "text/plain": [
       "42"
      ]
     },
     "execution_count": 12,
     "metadata": {},
     "output_type": "execute_result"
    }
   ],
   "source": [
    "def func_complexa(*args, **kwargs):\n",
    "    \"\"\"Essa função é muito muito complexa, pois calcula e retorna o significado da \n",
    "    vida, do universo, e tudo mais\"\"\"\n",
    "    return 42\n",
    "\n",
    "help(func_complexa)\n",
    "func_complexa(37)"
   ]
  },
  {
   "cell_type": "markdown",
   "metadata": {},
   "source": [
    "Se você se lembra da Aula 3, o operador asterisco, `*`, desempacota os valores de listas e `**` desempacota os valores de dicionários. Logo, é possível criar funções que aceitam um número arbitrário de argumentos obrigatórios e opcionais utilizando o `*args, **kwargs`.\n",
    "\n",
    "# Lidando com erros e exceções\n",
    "\n",
    "De vez em quando é possível que você encontre um erro que acontece em situações específicas. Por exemplo, imagine que você faça uma função de ajuste, e informe vários arquivos para a função ajustar. É possível que ela não consiga convergir para algum parâmetro em algum desses arquivos. Ao invés de você ter que criar uma exceção específica, ou remover o arquivo da lista manualmente, é possível utilizar um conjunto de **try**, **except** para lidar com esse erro.\n",
    "\n",
    "A sintaxe é a seguinte:\n",
    "    \n",
    "    try:\n",
    "        <código>\n",
    "    except:\n",
    "        <mais código>\n",
    "        \n",
    "Para o except, é muito pouco recomendado que seja um Except sozinho, sem nada, pois isso mascara erros que podem aparecer no seu programa. Ao invés disso, é útil colocar os nomes dos erros. Você pode não saber, mas você viu várias mensagens de erro informando o nome do erro. Por exemplo, *TypeError* e *ValueError*. É possível colocar uma exceção genérica, e depois imprimir o que a exceção fala. \n",
    "\n",
    "É possível também mandar os seus próprios erros utilizando a palavra chave *raise*.\n",
    "Veja os exemplos."
   ]
  },
  {
   "cell_type": "code",
   "execution_count": 13,
   "metadata": {},
   "outputs": [
    {
     "name": "stdout",
     "output_type": "stream",
     "text": [
      "Não é possível converter strings para ints!\n",
      "Mensagem: invalid literal for int() with base 10: 'abc'\n",
      "Agora!\n"
     ]
    }
   ],
   "source": [
    "try:\n",
    "    int('abc')\n",
    "except ValueError:\n",
    "    print('Não é possível converter strings para ints!')\n",
    "    \n",
    "try:\n",
    "    int('abc')\n",
    "except Exception as e:\n",
    "    print(f'Mensagem: {e}')\n",
    "    \n",
    "def quero_raise():\n",
    "    raise ValueError('Agora!')\n",
    "    \n",
    "try:\n",
    "    quero_raise()\n",
    "except ValueError as e:\n",
    "    print(f'{e}')"
   ]
  },
  {
   "cell_type": "markdown",
   "metadata": {},
   "source": [
    "# Variáveis locais e globais\n",
    "\n",
    "Variáveis locais não podem ser chamadas por funções fora de seu escopo, já variáveis globais podem ser chamadas de qualquer lugar. Veja o exemplo."
   ]
  },
  {
   "cell_type": "code",
   "execution_count": 14,
   "metadata": {},
   "outputs": [
    {
     "name": "stdout",
     "output_type": "stream",
     "text": [
      "Func1 consegue ver global1? --- global1 é uma variável global.\n",
      "Func1 consegue ver local1? --- local1 é uma variável local\n",
      "--- local2 também é uma variável local --- global1 é uma variável global.\n",
      "Func2 não consegue ver a variável local1, pois ela foi devinida somente em func1 apesar de func1 já ter sido executado\n"
     ]
    }
   ],
   "source": [
    "global1 = '--- global1 é uma variável global.'\n",
    "\n",
    "def func1():\n",
    "    local1 = '--- local1 é uma variável local'\n",
    "    print('Func1 consegue ver global1?', global1)\n",
    "    print('Func1 consegue ver local1?', local1)\n",
    "    \n",
    "def func2():\n",
    "    print(\"Func2 consegue ver local1?\", local1)\n",
    "\n",
    "def func3():\n",
    "    local2 = '--- local2 também é uma variável local'\n",
    "    def ninho1():\n",
    "        print(local2, global1)\n",
    "    ninho1()\n",
    "    \n",
    "func1()\n",
    "func3()\n",
    "try:\n",
    "    func2()\n",
    "except NameError:\n",
    "    print('Func2 não consegue ver a variável local1, pois ela foi devinida somente em func1'\n",
    "         ' apesar de func1 já ter sido executado')"
   ]
  },
  {
   "cell_type": "markdown",
   "metadata": {},
   "source": [
    "## Exercício\n",
    "\n",
    "Faça uma função que simule o a operação dos dinjuntores segundo o tipo de falta numa linha de transmissão, incluindo também a rejeição de carga. Ou seja, se tem uma falta depois do 50% da linha deve abrir o disyuntor da direita primeiro. Caso contrario o disjuntor da esquerda primeiro. Como entrada use o tipo de falta, o tempo de ocorrencia da falta, e o ponto de fata. Seu programa deve identificar se o tipo de falta introduzido é valido, se tiver erro o programa deve imprimir uma mensagem falando que o tipo de falta não é válido.\n",
    "\n",
    "Como saída use o tempo de atuação de cada disjuntor e a ordem dada, ou seja, 0 para abrir e 1 para fechar. Pode usar variáveis boleanas se achar melhor.\n",
    "\n",
    "Depois chame a função com diferentes parâmetros e imprima o resultado na tela."
   ]
  },
  {
   "cell_type": "code",
   "execution_count": null,
   "metadata": {},
   "outputs": [],
   "source": [
    "# Seu código"
   ]
  }
 ],
 "metadata": {
  "kernelspec": {
   "display_name": "Python 3",
   "language": "python",
   "name": "python3"
  },
  "language_info": {
   "codemirror_mode": {
    "name": "ipython",
    "version": 3
   },
   "file_extension": ".py",
   "mimetype": "text/x-python",
   "name": "python",
   "nbconvert_exporter": "python",
   "pygments_lexer": "ipython3",
   "version": "3.6.4"
  },
  "toc": {
   "base_numbering": 1,
   "nav_menu": {},
   "number_sections": true,
   "sideBar": true,
   "skip_h1_title": false,
   "title_cell": "Table of Contents",
   "title_sidebar": "Contents",
   "toc_cell": true,
   "toc_position": {},
   "toc_section_display": true,
   "toc_window_display": false
  },
  "varInspector": {
   "cols": {
    "lenName": 16,
    "lenType": 16,
    "lenVar": 40
   },
   "kernels_config": {
    "python": {
     "delete_cmd_postfix": "",
     "delete_cmd_prefix": "del ",
     "library": "var_list.py",
     "varRefreshCmd": "print(var_dic_list())"
    },
    "r": {
     "delete_cmd_postfix": ") ",
     "delete_cmd_prefix": "rm(",
     "library": "var_list.r",
     "varRefreshCmd": "cat(var_dic_list()) "
    }
   },
   "types_to_exclude": [
    "module",
    "function",
    "builtin_function_or_method",
    "instance",
    "_Feature"
   ],
   "window_display": false
  }
 },
 "nbformat": 4,
 "nbformat_minor": 2
}
