{
 "cells": [
  {
   "cell_type": "markdown",
   "metadata": {
    "toc": true
   },
   "source": [
    "<h1>Conteúdo<span class=\"tocSkip\"></span></h1>\n",
    "<div class=\"toc\"><ul class=\"toc-item\"><li><span><a href=\"#Introdução\" data-toc-modified-id=\"Introdução-1\"><span class=\"toc-item-num\">1&nbsp;&nbsp;</span>Introdução</a></span></li><li><span><a href=\"#Listas\" data-toc-modified-id=\"Listas-2\"><span class=\"toc-item-num\">2&nbsp;&nbsp;</span>Listas</a></span><ul class=\"toc-item\"><li><span><a href=\"#Indexação\" data-toc-modified-id=\"Indexação-2.1\"><span class=\"toc-item-num\">2.1&nbsp;&nbsp;</span>Indexação</a></span></li><li><span><a href=\"#Seções-(slicing)\" data-toc-modified-id=\"Seções-(slicing)-2.2\"><span class=\"toc-item-num\">2.2&nbsp;&nbsp;</span>Seções (<em>slicing</em>)</a></span></li><li><span><a href=\"#Métodos-de-listas\" data-toc-modified-id=\"Métodos-de-listas-2.3\"><span class=\"toc-item-num\">2.3&nbsp;&nbsp;</span>Métodos de listas</a></span></li></ul></li><li><span><a href=\"#Mutabilidade-e-Imutabilidade\" data-toc-modified-id=\"Mutabilidade-e-Imutabilidade-3\"><span class=\"toc-item-num\">3&nbsp;&nbsp;</span>Mutabilidade e Imutabilidade</a></span></li><li><span><a href=\"#Dicionários\" data-toc-modified-id=\"Dicionários-4\"><span class=\"toc-item-num\">4&nbsp;&nbsp;</span>Dicionários</a></span><ul class=\"toc-item\"><li><span><a href=\"#Métodos-de-dicionários\" data-toc-modified-id=\"Métodos-de-dicionários-4.1\"><span class=\"toc-item-num\">4.1&nbsp;&nbsp;</span>Métodos de dicionários</a></span></li></ul></li><li><span><a href=\"#Tuples\" data-toc-modified-id=\"Tuples-5\"><span class=\"toc-item-num\">5&nbsp;&nbsp;</span>Tuples</a></span></li><li><span><a href=\"#Expressões-com-asteriscos\" data-toc-modified-id=\"Expressões-com-asteriscos-6\"><span class=\"toc-item-num\">6&nbsp;&nbsp;</span>Expressões com asteriscos</a></span></li><li><span><a href=\"#Exercícios\" data-toc-modified-id=\"Exercícios-7\"><span class=\"toc-item-num\">7&nbsp;&nbsp;</span>Exercícios</a></span><ul class=\"toc-item\"><li><span><a href=\"#Listas\" data-toc-modified-id=\"Listas-7.1\"><span class=\"toc-item-num\">7.1&nbsp;&nbsp;</span>Listas</a></span></li><li><span><a href=\"#Dicionários\" data-toc-modified-id=\"Dicionários-7.2\"><span class=\"toc-item-num\">7.2&nbsp;&nbsp;</span>Dicionários</a></span></li></ul></li></ul></div>"
   ]
  },
  {
   "cell_type": "markdown",
   "metadata": {},
   "source": [
    "# Introdução\n",
    "\n",
    "Estruturas de dados é um nome chique para algo bastante simples: como organizar dados. As estruturas internas de maior relevância para esse curso são:\n",
    "\n",
    "* Listas\n",
    "* Dicionários\n",
    "* Tuples\n",
    "\n",
    "# Listas\n",
    "\n",
    "Listas são sequências mutáveis de qualquer objeto. Para criar uma lista, basta separar os objetos por vírgulas entre colchetes \\[\\]. A função **list()** transforma uma estrutura de dados em uma lista."
   ]
  },
  {
   "cell_type": "code",
   "execution_count": 1,
   "metadata": {},
   "outputs": [],
   "source": [
    "lista1 = [1, 2, 3, 4, 5]\n",
    "lista2 = ['a', 'b', 'c', 'd']\n",
    "lista3 = [lista1, lista2]\n",
    "lista4 = list('Hello world!')"
   ]
  },
  {
   "cell_type": "markdown",
   "metadata": {},
   "source": [
    "Veja que listas podem conter listas. Isso é chamado de *nesting*. Além disso, veja que uma string é basicamente uma lista, só que exclusivamente para caracteres, e imutável. O significado de *mutável* e *imutável* se tornará mais claro adiante. Note também que definimos as listas nessa cela, mas que as listas podem ser acessadas nas celas posteriores. Isso ocorre porque os valores das listas ficam na memória do notebook, e qualquer cela pode acessar essa memória (inclusive celas anteriores, então tome cuidado).\n",
    "\n",
    "## Indexação\n",
    "\n",
    "Para obter a informação de uma posição da lista, utiliza-se a indexação, que também usa colchetes, porém juntos do nome. Algo que pode confundir bastante é que a posição das listas, em Python, começa do **zero**. Ou seja, a **terceira** posição tem número **2**! Tenha isso sempre em mente."
   ]
  },
  {
   "cell_type": "code",
   "execution_count": 2,
   "metadata": {},
   "outputs": [
    {
     "data": {
      "text/plain": [
       "4"
      ]
     },
     "execution_count": 2,
     "metadata": {},
     "output_type": "execute_result"
    }
   ],
   "source": [
    "lista1[3]"
   ]
  },
  {
   "cell_type": "code",
   "execution_count": 3,
   "metadata": {},
   "outputs": [
    {
     "data": {
      "text/plain": [
       "'Hello world!'"
      ]
     },
     "execution_count": 3,
     "metadata": {},
     "output_type": "execute_result"
    }
   ],
   "source": [
    "hello = ['Hello world!']\n",
    "hello[0]"
   ]
  },
  {
   "cell_type": "code",
   "execution_count": 4,
   "metadata": {},
   "outputs": [
    {
     "data": {
      "text/plain": [
       "'l'"
      ]
     },
     "execution_count": 4,
     "metadata": {},
     "output_type": "execute_result"
    }
   ],
   "source": [
    "hello[0][2]"
   ]
  },
  {
   "cell_type": "markdown",
   "metadata": {},
   "source": [
    "Também é possível acessar os elementos do final de uma lista, utilizando números negativos. **-1** é o último elemento da lista, **-2** é o penúltimo elemento, e assim por diante."
   ]
  },
  {
   "cell_type": "code",
   "execution_count": 5,
   "metadata": {},
   "outputs": [
    {
     "data": {
      "text/plain": [
       "'d'"
      ]
     },
     "execution_count": 5,
     "metadata": {},
     "output_type": "execute_result"
    }
   ],
   "source": [
    "lista2[-1]"
   ]
  },
  {
   "cell_type": "markdown",
   "metadata": {},
   "source": [
    "Quando há listas dentro de listas, é necessário utilizar colchetes seguidos."
   ]
  },
  {
   "cell_type": "code",
   "execution_count": 6,
   "metadata": {},
   "outputs": [
    {
     "data": {
      "text/plain": [
       "3"
      ]
     },
     "execution_count": 6,
     "metadata": {},
     "output_type": "execute_result"
    }
   ],
   "source": [
    "lista3[0][2]"
   ]
  },
  {
   "cell_type": "markdown",
   "metadata": {},
   "source": [
    "Aqui, foi pego o primeiro elemento da lista3, e depois o terceiro elemento do primeiro elemento. Não é possível acessar o elemento *i, j* de uma lista utilizando algo como lista3\\[0,2\\]. Veremos no futuro que outro tipo de estrutura de dado, o *numpy array*, consegue fazer isso."
   ]
  },
  {
   "cell_type": "code",
   "execution_count": 7,
   "metadata": {},
   "outputs": [
    {
     "ename": "TypeError",
     "evalue": "list indices must be integers or slices, not tuple",
     "output_type": "error",
     "traceback": [
      "\u001b[1;31m---------------------------------------------------------------------------\u001b[0m",
      "\u001b[1;31mTypeError\u001b[0m                                 Traceback (most recent call last)",
      "\u001b[1;32m<ipython-input-7-7e49c83c5cc7>\u001b[0m in \u001b[0;36m<module>\u001b[1;34m()\u001b[0m\n\u001b[1;32m----> 1\u001b[1;33m \u001b[0mlista3\u001b[0m\u001b[1;33m[\u001b[0m\u001b[1;36m0\u001b[0m\u001b[1;33m,\u001b[0m\u001b[1;36m2\u001b[0m\u001b[1;33m]\u001b[0m\u001b[1;33m\u001b[0m\u001b[0m\n\u001b[0m",
      "\u001b[1;31mTypeError\u001b[0m: list indices must be integers or slices, not tuple"
     ]
    }
   ],
   "source": [
    "lista3[0,2]"
   ]
  },
  {
   "cell_type": "markdown",
   "metadata": {},
   "source": [
    "## Seções (*slicing*)\n",
    "\n",
    "Além de acessar membros pontualmente, é possível também acessar seções de listas utilizando o conceito de *slicing*. A sintaxe de um *slice* é:\n",
    "\n",
    "\\[índice inicial:índice final (não incluso):passo (opcional)\\]"
   ]
  },
  {
   "cell_type": "code",
   "execution_count": 8,
   "metadata": {},
   "outputs": [
    {
     "data": {
      "text/plain": [
       "[1, 2, 3]"
      ]
     },
     "execution_count": 8,
     "metadata": {},
     "output_type": "execute_result"
    }
   ],
   "source": [
    "lista1[0:3]"
   ]
  },
  {
   "cell_type": "code",
   "execution_count": 9,
   "metadata": {},
   "outputs": [
    {
     "data": {
      "text/plain": [
       "[1, 2, 3]"
      ]
     },
     "execution_count": 9,
     "metadata": {},
     "output_type": "execute_result"
    }
   ],
   "source": [
    "lista1[0:-2]"
   ]
  },
  {
   "cell_type": "code",
   "execution_count": 10,
   "metadata": {},
   "outputs": [
    {
     "data": {
      "text/plain": [
       "[1, 3, 5]"
      ]
     },
     "execution_count": 10,
     "metadata": {},
     "output_type": "execute_result"
    }
   ],
   "source": [
    "lista1[0:5:2]"
   ]
  },
  {
   "cell_type": "code",
   "execution_count": 11,
   "metadata": {},
   "outputs": [
    {
     "data": {
      "text/plain": [
       "[5, 4, 3, 2]"
      ]
     },
     "execution_count": 11,
     "metadata": {},
     "output_type": "execute_result"
    }
   ],
   "source": [
    "lista1[-1:0:-1]  # Passos negativos significa andar para trás."
   ]
  },
  {
   "cell_type": "markdown",
   "metadata": {},
   "source": [
    "Quando nenhum valor é fornecido, supõe-se foi colocado \"tudo\". Por exemplo \\[:-1\\] significa \"tudo até o último termo\"."
   ]
  },
  {
   "cell_type": "code",
   "execution_count": 12,
   "metadata": {},
   "outputs": [
    {
     "data": {
      "text/plain": [
       "[1, 2, 3, 4]"
      ]
     },
     "execution_count": 12,
     "metadata": {},
     "output_type": "execute_result"
    }
   ],
   "source": [
    "lista1[:-1]"
   ]
  },
  {
   "cell_type": "code",
   "execution_count": 13,
   "metadata": {},
   "outputs": [
    {
     "data": {
      "text/plain": [
       "[4, 5]"
      ]
     },
     "execution_count": 13,
     "metadata": {},
     "output_type": "execute_result"
    }
   ],
   "source": [
    "lista1[3:]"
   ]
  },
  {
   "cell_type": "code",
   "execution_count": 14,
   "metadata": {},
   "outputs": [
    {
     "data": {
      "text/plain": [
       "[3, 4, 5]"
      ]
     },
     "execution_count": 14,
     "metadata": {},
     "output_type": "execute_result"
    }
   ],
   "source": [
    "lista1[-3:5]"
   ]
  },
  {
   "cell_type": "markdown",
   "metadata": {},
   "source": [
    "Mais abstratamente, tanto o início quanto o fim podem ser deixados em branco, colocando-se somente o passo."
   ]
  },
  {
   "cell_type": "code",
   "execution_count": 15,
   "metadata": {},
   "outputs": [
    {
     "data": {
      "text/plain": [
       "[1, 3, 5]"
      ]
     },
     "execution_count": 15,
     "metadata": {},
     "output_type": "execute_result"
    }
   ],
   "source": [
    "lista1[::2]"
   ]
  },
  {
   "cell_type": "code",
   "execution_count": 16,
   "metadata": {},
   "outputs": [
    {
     "data": {
      "text/plain": [
       "[5, 4, 3, 2, 1]"
      ]
     },
     "execution_count": 16,
     "metadata": {},
     "output_type": "execute_result"
    }
   ],
   "source": [
    "lista1[::-1]  # Uma maneira fácil de obter o inverso de uma lista"
   ]
  },
  {
   "cell_type": "markdown",
   "metadata": {},
   "source": [
    "É importante notar que somente números inteiros podem ser utilizados na indexação. Não faz sentido o número na posição 1.5!\n",
    "\n",
    "Um exemplo prático para o uso de listas no tratamento de dados é uma lista com os nomes dos arquivos que serão tratados. Suponha que somente deseja-se tratar metade dos arquivos de uma certa maneira, então é fácil utilizar somente a primeira metade da lista. Por exemplo:"
   ]
  },
  {
   "cell_type": "code",
   "execution_count": 17,
   "metadata": {},
   "outputs": [
    {
     "data": {
      "text/plain": [
       "['Arq01', 'Arq02', 'Arq03', 'Arq04']"
      ]
     },
     "execution_count": 17,
     "metadata": {},
     "output_type": "execute_result"
    }
   ],
   "source": [
    "dados = ['Arq01', 'Arq02', 'Arq03', 'Arq04', 'Arq05', 'Arq06', 'Arq07', 'Arq08']\n",
    "primeira_metade = dados[:4]\n",
    "segunda_metade = dados[4:]  # Já que o número final não está incluso, \n",
    "                            # é possível começar e terminar do mesmo índice sem haver risco de repetição\n",
    "primeira_metade"
   ]
  },
  {
   "cell_type": "markdown",
   "metadata": {},
   "source": [
    "É possível utilizar a função **len** para descobrir o comprimento de uma lista, e de vários outros objetos."
   ]
  },
  {
   "cell_type": "code",
   "execution_count": 18,
   "metadata": {},
   "outputs": [
    {
     "data": {
      "text/plain": [
       "8"
      ]
     },
     "execution_count": 18,
     "metadata": {},
     "output_type": "execute_result"
    }
   ],
   "source": [
    "len(dados)"
   ]
  },
  {
   "cell_type": "markdown",
   "metadata": {},
   "source": [
    "E a partir disso, é possível separar uma lista em duas partes de maneira abstrata, sem ter que saber o comprimento real. Note que utilizou-se a divisão *floor*, pois somente números inteiros podem ser índices de listas."
   ]
  },
  {
   "cell_type": "code",
   "execution_count": 19,
   "metadata": {},
   "outputs": [
    {
     "data": {
      "text/plain": [
       "['Arq01', 'Arq02', 'Arq03', 'Arq04']"
      ]
     },
     "execution_count": 19,
     "metadata": {},
     "output_type": "execute_result"
    }
   ],
   "source": [
    "primeira_metade = dados[:len(dados) // 2]\n",
    "segunda_metade = dados[len(dados) // 2:]\n",
    "primeira_metade"
   ]
  },
  {
   "cell_type": "markdown",
   "metadata": {},
   "source": [
    "Também é possível obter o maior ou menor elemento de uma lista utilizando as funções **max** e **min**."
   ]
  },
  {
   "cell_type": "code",
   "execution_count": 20,
   "metadata": {},
   "outputs": [
    {
     "data": {
      "text/plain": [
       "5"
      ]
     },
     "execution_count": 20,
     "metadata": {},
     "output_type": "execute_result"
    }
   ],
   "source": [
    "max(lista1)"
   ]
  },
  {
   "cell_type": "code",
   "execution_count": 21,
   "metadata": {},
   "outputs": [
    {
     "data": {
      "text/plain": [
       "1"
      ]
     },
     "execution_count": 21,
     "metadata": {},
     "output_type": "execute_result"
    }
   ],
   "source": [
    "min(lista1)"
   ]
  },
  {
   "cell_type": "markdown",
   "metadata": {},
   "source": [
    "Da mesma maneira que é possível obter elementos de uma lista, é possível também alterá-los, utilizando a indexação, da mesma maneira que se altera uma variável."
   ]
  },
  {
   "cell_type": "code",
   "execution_count": 22,
   "metadata": {},
   "outputs": [
    {
     "data": {
      "text/plain": [
       "[100, 2, 3, 4, 5]"
      ]
     },
     "execution_count": 22,
     "metadata": {},
     "output_type": "execute_result"
    }
   ],
   "source": [
    "lista1[0] = 100\n",
    "lista1"
   ]
  },
  {
   "cell_type": "markdown",
   "metadata": {},
   "source": [
    "Também é possível remover um elemento específico de uma lista utilizando o comando **del**. Esse comando serve também para deletar qualquer variável presente."
   ]
  },
  {
   "cell_type": "code",
   "execution_count": 23,
   "metadata": {},
   "outputs": [
    {
     "data": {
      "text/plain": [
       "[2, 3, 4, 5]"
      ]
     },
     "execution_count": 23,
     "metadata": {},
     "output_type": "execute_result"
    }
   ],
   "source": [
    "del lista1[0]\n",
    "lista1"
   ]
  },
  {
   "cell_type": "markdown",
   "metadata": {},
   "source": [
    "## Métodos de listas\n",
    "\n",
    "Alguns dos métodos mais comumente utilizados para listas são:\n",
    "\n",
    "* ```append```, coloca um termo no final da lista\n",
    "* ```sort```, organiza os elementos de uma lista baseado num critério.\n",
    "* ```pop```, retorna o último elemento da lista e remove-o dela\n",
    "* ```reverse```, inverte a ordem de uma lista.\n",
    "* `extend`, concatena duas listas\n",
    "\n",
    "Exemplo:"
   ]
  },
  {
   "cell_type": "code",
   "execution_count": 24,
   "metadata": {},
   "outputs": [
    {
     "data": {
      "text/plain": [
       "['Arq08', 'Arq07', 'Arq06', 'Arq05', 'Arq04', 'Arq03', 'Arq02', 'Arq01']"
      ]
     },
     "execution_count": 24,
     "metadata": {},
     "output_type": "execute_result"
    }
   ],
   "source": [
    "dados.reverse()\n",
    "dados"
   ]
  },
  {
   "cell_type": "markdown",
   "metadata": {},
   "source": [
    "É possível utilizar o operador de soma para concatenar duas listas, assim como a função extend. Note, porém, que a função ```extend``` não retorna uma lista concatenada, e sim faz a concatenação na lista onde o método foi chamado, e retorna **None**!"
   ]
  },
  {
   "cell_type": "code",
   "execution_count": 25,
   "metadata": {},
   "outputs": [
    {
     "data": {
      "text/plain": [
       "[1, 2, 3, 4, 5, 6]"
      ]
     },
     "execution_count": 25,
     "metadata": {},
     "output_type": "execute_result"
    }
   ],
   "source": [
    "a = [1, 2, 3]\n",
    "b = [4, 5, 6]\n",
    "c = a + b\n",
    "c"
   ]
  },
  {
   "cell_type": "code",
   "execution_count": 26,
   "metadata": {},
   "outputs": [
    {
     "name": "stdout",
     "output_type": "stream",
     "text": [
      "None\n",
      "[1, 2, 3, 4, 5, 6]\n"
     ]
    }
   ],
   "source": [
    "a = [1, 2, 3]\n",
    "b = [4, 5, 6]\n",
    "print(a.extend(b))  # Cuidado!\n",
    "print(a)"
   ]
  },
  {
   "cell_type": "markdown",
   "metadata": {},
   "source": [
    "O método ```append``` é muito útil para popular incrementalmente uma lista durante loops. Assim como `extend`, ele retorna **None** ao invés de retornar uma lista incrementada."
   ]
  },
  {
   "cell_type": "code",
   "execution_count": 27,
   "metadata": {},
   "outputs": [
    {
     "name": "stdout",
     "output_type": "stream",
     "text": [
      "[1, 2, 3, 42]\n"
     ]
    }
   ],
   "source": [
    "a = [1, 2, 3]\n",
    "a.append(42)\n",
    "print(a)"
   ]
  },
  {
   "cell_type": "code",
   "execution_count": 28,
   "metadata": {},
   "outputs": [],
   "source": [
    "a = [1, 2, 3]"
   ]
  },
  {
   "cell_type": "markdown",
   "metadata": {},
   "source": [
    "# Mutabilidade e Imutabilidade\n",
    "\n",
    "Veja que *append* e *pop* alteram os itens da lista, colocando ou removendo. Também, vimos que elementos internos de listas podem ser alterados sabendo seus índices. Isso caracteriza as listas como sendo mutáveis. Veja o que acontece quando tentamos alterar um elemento de uma string."
   ]
  },
  {
   "cell_type": "code",
   "execution_count": 29,
   "metadata": {},
   "outputs": [
    {
     "ename": "TypeError",
     "evalue": "'str' object does not support item assignment",
     "output_type": "error",
     "traceback": [
      "\u001b[1;31m---------------------------------------------------------------------------\u001b[0m",
      "\u001b[1;31mTypeError\u001b[0m                                 Traceback (most recent call last)",
      "\u001b[1;32m<ipython-input-29-766c15d29d75>\u001b[0m in \u001b[0;36m<module>\u001b[1;34m()\u001b[0m\n\u001b[0;32m      1\u001b[0m \u001b[0mstring1\u001b[0m \u001b[1;33m=\u001b[0m \u001b[1;34m'Isto é imutável'\u001b[0m\u001b[1;33m\u001b[0m\u001b[0m\n\u001b[1;32m----> 2\u001b[1;33m \u001b[0mstring1\u001b[0m\u001b[1;33m[\u001b[0m\u001b[1;36m7\u001b[0m\u001b[1;33m]\u001b[0m \u001b[1;33m=\u001b[0m \u001b[1;34m''\u001b[0m\u001b[1;33m\u001b[0m\u001b[0m\n\u001b[0m",
      "\u001b[1;31mTypeError\u001b[0m: 'str' object does not support item assignment"
     ]
    }
   ],
   "source": [
    "string1 = 'Isto é imutável'\n",
    "string1[7] = ''"
   ]
  },
  {
   "cell_type": "markdown",
   "metadata": {},
   "source": [
    "Da mesma maneira, veja o que acontece quando tentamos remover um dos elementos de uma string."
   ]
  },
  {
   "cell_type": "code",
   "execution_count": 30,
   "metadata": {},
   "outputs": [
    {
     "ename": "TypeError",
     "evalue": "'str' object doesn't support item deletion",
     "output_type": "error",
     "traceback": [
      "\u001b[1;31m---------------------------------------------------------------------------\u001b[0m",
      "\u001b[1;31mTypeError\u001b[0m                                 Traceback (most recent call last)",
      "\u001b[1;32m<ipython-input-30-41711ea8eec7>\u001b[0m in \u001b[0;36m<module>\u001b[1;34m()\u001b[0m\n\u001b[1;32m----> 1\u001b[1;33m \u001b[1;32mdel\u001b[0m \u001b[0mstring1\u001b[0m\u001b[1;33m[\u001b[0m\u001b[1;36m7\u001b[0m\u001b[1;33m]\u001b[0m\u001b[1;33m\u001b[0m\u001b[0m\n\u001b[0m",
      "\u001b[1;31mTypeError\u001b[0m: 'str' object doesn't support item deletion"
     ]
    }
   ],
   "source": [
    "del string1[7]"
   ]
  },
  {
   "cell_type": "markdown",
   "metadata": {},
   "source": [
    "# Dicionários\n",
    "\n",
    "Dicionários são estruturas de dados que relacionam duas coisas. Por exemplo, um dicionário, no sentido habitual, relaciona uma explicação a uma palavra. Dicionários em Python relacionam uma **chave (key)** a algum outro **valor**. O conjunto de chave e valor é chamado de **item** (semelhante a um verbete dum dicionário). Necessariamente as chaves devem ser imutáveis, tornando strings ótimos candidatos. Dicionários são criados de duas maneiras.\n",
    "\n",
    "1. Utilizando-se chaves `{}`, com `chave:valor`, separados por vírgulas, `{a:b, c:d}`.\n",
    "2. Criação de um dicionário vazio e depois atribuição direta, com colchetes e a chave, `dict[chave] = valor`.\n",
    "\n",
    "É possível modificar dicionários utilizando a atribuição direta também."
   ]
  },
  {
   "cell_type": "code",
   "execution_count": 31,
   "metadata": {},
   "outputs": [
    {
     "data": {
      "text/plain": [
       "{'Idade': 12, 'Nome': 'Sophia', 'Personalidade': 'Extrovertida'}"
      ]
     },
     "execution_count": 31,
     "metadata": {},
     "output_type": "execute_result"
    }
   ],
   "source": [
    "dict1 = {'Nome':'Sophia', 'Idade':12, 'Personalidade':'Extrovertida'}\n",
    "\n",
    "dict2 = {}\n",
    "dict2['Nome'] = 'Eva'\n",
    "dict2['Idade'] = 8\n",
    "dict2['Personalidade'] = 'Introvertida'\n",
    "\n",
    "dict1"
   ]
  },
  {
   "cell_type": "markdown",
   "metadata": {},
   "source": [
    "Note que na hora de representar um dicionários, a ordem aparente dos itens não é igual à ordem que os itens foram criados, como em listas. Isso depende da maneira que o Python armazena esses valores na memória, e não é muito importante para este curso.\n",
    "\n",
    "Para acessar os elementos de um dicionário, utiliza-se colchetes com a chave dentro, da mesma maneira que valores podem ser atribuídos."
   ]
  },
  {
   "cell_type": "code",
   "execution_count": 32,
   "metadata": {},
   "outputs": [
    {
     "data": {
      "text/plain": [
       "'Sophia'"
      ]
     },
     "execution_count": 32,
     "metadata": {},
     "output_type": "execute_result"
    }
   ],
   "source": [
    "dict1['Nome']"
   ]
  },
  {
   "cell_type": "markdown",
   "metadata": {},
   "source": [
    "## Métodos de dicionários\n",
    "\n",
    "Os métodos mais utilizados são:\n",
    "\n",
    "* `keys` retorna as chaves de um dicionário\n",
    "* `values` retorna os valores\n",
    "* `items` retorna as chaves e os valores juntos\n",
    "\n",
    "Não se esqueça que é possível obter informações sobre todos os métodos presentes, e ajuda sobre cada método, com as funções **dir** e **help**."
   ]
  },
  {
   "cell_type": "code",
   "execution_count": 33,
   "metadata": {},
   "outputs": [
    {
     "data": {
      "text/plain": [
       "dict_keys(['Nome', 'Idade', 'Personalidade'])"
      ]
     },
     "execution_count": 33,
     "metadata": {},
     "output_type": "execute_result"
    }
   ],
   "source": [
    "dict1.keys()"
   ]
  },
  {
   "cell_type": "code",
   "execution_count": 34,
   "metadata": {},
   "outputs": [
    {
     "data": {
      "text/plain": [
       "dict_values(['Eva', 8, 'Introvertida'])"
      ]
     },
     "execution_count": 34,
     "metadata": {},
     "output_type": "execute_result"
    }
   ],
   "source": [
    "dict2.values()"
   ]
  },
  {
   "cell_type": "code",
   "execution_count": 35,
   "metadata": {},
   "outputs": [
    {
     "data": {
      "text/plain": [
       "dict_items([('Nome', 'Eva'), ('Idade', 8), ('Personalidade', 'Introvertida')])"
      ]
     },
     "execution_count": 35,
     "metadata": {},
     "output_type": "execute_result"
    }
   ],
   "source": [
    "dict2.items()"
   ]
  },
  {
   "cell_type": "markdown",
   "metadata": {},
   "source": [
    "# Tuples\n",
    "\n",
    "Tuples são, basicamente, listas imutáveis. São criadas com parênteses, ao invés de colchetes, e retém a ordem, ao contrário de dicionários. A principal utilidade de tuples é para passar e receber argumentos de funções, e como chaves em dicionários. O chamado *unpacking* é um método para atribuir valores para mais de uma variável em uma única linha."
   ]
  },
  {
   "cell_type": "code",
   "execution_count": 36,
   "metadata": {},
   "outputs": [
    {
     "data": {
      "text/plain": [
       "20"
      ]
     },
     "execution_count": 36,
     "metadata": {},
     "output_type": "execute_result"
    }
   ],
   "source": [
    "(a, b) = (3, 4)\n",
    "c, d = 7, 6 # Parênteses não são sempre necessários\n",
    "\n",
    "a + b + c + d"
   ]
  },
  {
   "cell_type": "markdown",
   "metadata": {},
   "source": [
    "Algumas funções retornam mais de um valor, numa tupla, ou outras estruturas de dados. É possível desepacotar esses dados na mesma linha que a função é chamada utilizando a notação de *unpacking*. No momento, não vimos nenhuma função que realiza isso, mas isso se tornará muito útil no futuro.\n",
    "\n",
    "Para criar uma tupla de um único elemento, "
   ]
  },
  {
   "cell_type": "code",
   "execution_count": 37,
   "metadata": {},
   "outputs": [
    {
     "name": "stdout",
     "output_type": "stream",
     "text": [
      "Certo: <class 'tuple'> Errado: <class 'int'>\n"
     ]
    }
   ],
   "source": [
    "c = (1,)\n",
    "e = (1)\n",
    "print('Certo:', type(c), 'Errado:', type(e))"
   ]
  },
  {
   "cell_type": "markdown",
   "metadata": {},
   "source": [
    "# Expressões com asteriscos\n",
    "\n",
    "Há uma maneira de se passar argumentos para funções a partir de listas e dicionários. Isso é feito utilizando asteriscos, `*` antes do nome da lista e `**` antes de um dicionário. Por exemplo, sabemos que a função `print` recebe qualquer número de argumentos simples, que serão printados como strings, e possui alguns argumentos opcionais, como `end` e `sep`. Vamos aqui definir uma lista e um dicionário, e passaremos esses objetos para a função print. Isso é útil quando temos muitas funções que recebem os mesmos argumentos, e desejamos definir os argumentos somente uma vez. A descrição disso está [aqui](https://docs.python.org/3/tutorial/controlflow.html#unpacking-argument-lists). Isso é útil quando desejamos criar funções bastante gerais.\n",
    "\n",
    "Outra maneira de se fazer isso é com `functools.partial`, que não será mostrado, mas cuja descrição está [aqui](https://docs.python.org/3.5/library/functools.html#functools.partial)"
   ]
  },
  {
   "cell_type": "code",
   "execution_count": 38,
   "metadata": {},
   "outputs": [
    {
     "name": "stdout",
     "output_type": "stream",
     "text": [
      "Este é um exemplo de unpacking\n",
      "Este é um exemplo de unpacking\n"
     ]
    }
   ],
   "source": [
    "texto = ['Este', 'é', 'um', 'exemplo', 'de', 'unpacking']\n",
    "config = {'sep':' ', 'end':'\\n'}\n",
    "\n",
    "print(*texto, **config)\n",
    "# Equivalente a:\n",
    "print('Este', 'é', 'um', 'exemplo', 'de', 'unpacking', sep=' ', end='\\n')"
   ]
  },
  {
   "cell_type": "code",
   "execution_count": 39,
   "metadata": {},
   "outputs": [
    {
     "name": "stdout",
     "output_type": "stream",
     "text": [
      "unpacking\tde\texemplo\tum\té\tEste-------------------------------\n"
     ]
    }
   ],
   "source": [
    "# Outro exemplo\n",
    "texto = ['Este', 'é', 'um', 'exemplo', 'de', 'unpacking']\n",
    "config = {'sep':'\\t', 'end':'-------------------------------\\n'}\n",
    "\n",
    "print(*texto[::-1], **config)"
   ]
  },
  {
   "cell_type": "markdown",
   "metadata": {},
   "source": [
    "# Exercícios\n",
    "\n",
    "## Listas\n",
    "\n",
    "Crie listas de números utilizando a função *list* e *range*. Exemplo: `list(range(0, 100))`. Procure a sintaxe da função range no jupyter mesmo. Seccione essa lista em números múltiplos de 2, de 5, de 7.\n",
    "\n",
    "Crie listas aninhadas e seccione-as.\n",
    "Crie um dicionário aninhado e tente obter um valor interno.\n",
    "\n"
   ]
  },
  {
   "cell_type": "code",
   "execution_count": null,
   "metadata": {},
   "outputs": [],
   "source": [
    "# Seu código"
   ]
  },
  {
   "cell_type": "markdown",
   "metadata": {},
   "source": [
    "## Dicionários\n",
    "\n",
    "Crie um diccionário que relacione o nome das faltas com sua respetiva codificação no PSCAD. Por exemplo, à falta monofásica é assignado o número 1 e para a trifásica o número 7. Imprima na tela seus valores"
   ]
  },
  {
   "cell_type": "code",
   "execution_count": null,
   "metadata": {},
   "outputs": [],
   "source": [
    "# Seu código"
   ]
  }
 ],
 "metadata": {
  "hide_input": false,
  "kernelspec": {
   "display_name": "Python 3",
   "language": "python",
   "name": "python3"
  },
  "language_info": {
   "codemirror_mode": {
    "name": "ipython",
    "version": 3
   },
   "file_extension": ".py",
   "mimetype": "text/x-python",
   "name": "python",
   "nbconvert_exporter": "python",
   "pygments_lexer": "ipython3",
   "version": "3.6.4"
  },
  "toc": {
   "base_numbering": 1,
   "nav_menu": {},
   "number_sections": true,
   "sideBar": true,
   "skip_h1_title": false,
   "title_cell": "Conteúdo",
   "title_sidebar": "Conteúdo",
   "toc_cell": true,
   "toc_position": {},
   "toc_section_display": true,
   "toc_window_display": false
  },
  "varInspector": {
   "cols": {
    "lenName": 16,
    "lenType": 16,
    "lenVar": 40
   },
   "kernels_config": {
    "python": {
     "delete_cmd_postfix": "",
     "delete_cmd_prefix": "del ",
     "library": "var_list.py",
     "varRefreshCmd": "print(var_dic_list())"
    },
    "r": {
     "delete_cmd_postfix": ") ",
     "delete_cmd_prefix": "rm(",
     "library": "var_list.r",
     "varRefreshCmd": "cat(var_dic_list()) "
    }
   },
   "types_to_exclude": [
    "module",
    "function",
    "builtin_function_or_method",
    "instance",
    "_Feature"
   ],
   "window_display": false
  }
 },
 "nbformat": 4,
 "nbformat_minor": 2
}
