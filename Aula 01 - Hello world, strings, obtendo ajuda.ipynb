{
 "cells": [
  {
   "cell_type": "markdown",
   "metadata": {
    "toc": true
   },
   "source": [
    "<h1>Conteúdo<span class=\"tocSkip\"></span></h1>\n",
    "<div class=\"toc\"><ul class=\"toc-item\"><li><span><a href=\"#Hello-world\" data-toc-modified-id=\"Hello-world-1\"><span class=\"toc-item-num\">1&nbsp;&nbsp;</span>Hello world</a></span></li><li><span><a href=\"#Obtendo-ajuda\" data-toc-modified-id=\"Obtendo-ajuda-2\"><span class=\"toc-item-num\">2&nbsp;&nbsp;</span>Obtendo ajuda</a></span></li><li><span><a href=\"#Diferencias-importantes-com-o-Matlab\" data-toc-modified-id=\"Diferencias-importantes-com-o-Matlab-3\"><span class=\"toc-item-num\">3&nbsp;&nbsp;</span>Diferencias importantes com o <em>Matlab</em></a></span><ul class=\"toc-item\"><li><span><a href=\"#Indexação\" data-toc-modified-id=\"Indexação-3.1\"><span class=\"toc-item-num\">3.1&nbsp;&nbsp;</span>Indexação</a></span></li><li><span><a href=\"#Orientação-a-objetos\" data-toc-modified-id=\"Orientação-a-objetos-3.2\"><span class=\"toc-item-num\">3.2&nbsp;&nbsp;</span>Orientação a objetos</a></span></li><li><span><a href=\"#keyword-arguments\" data-toc-modified-id=\"keyword-arguments-3.3\"><span class=\"toc-item-num\">3.3&nbsp;&nbsp;</span><em>keyword arguments</em></a></span></li></ul></li><li><span><a href=\"#Tipos-de-dados\" data-toc-modified-id=\"Tipos-de-dados-4\"><span class=\"toc-item-num\">4&nbsp;&nbsp;</span>Tipos de dados</a></span><ul class=\"toc-item\"><li><span><a href=\"#Tipos-numéricos-(Extraido-de-Wikipedia)\" data-toc-modified-id=\"Tipos-numéricos-(Extraido-de-Wikipedia)-4.1\"><span class=\"toc-item-num\">4.1&nbsp;&nbsp;</span>Tipos numéricos (Extraido de <a href=\"https://pt.wikibooks.org/wiki/Python/Conceitos_b%C3%A1sicos/Tipos_e_operadores\" target=\"_blank\">Wikipedia</a>)</a></span><ul class=\"toc-item\"><li><span><a href=\"#Tipo-inteiro:\" data-toc-modified-id=\"Tipo-inteiro:-4.1.1\"><span class=\"toc-item-num\">4.1.1&nbsp;&nbsp;</span>Tipo inteiro:</a></span></li><li><span><a href=\"#Tipo-ponto-flutuante:\" data-toc-modified-id=\"Tipo-ponto-flutuante:-4.1.2\"><span class=\"toc-item-num\">4.1.2&nbsp;&nbsp;</span>Tipo ponto flutuante:</a></span></li><li><span><a href=\"#Tipo-booleano:\" data-toc-modified-id=\"Tipo-booleano:-4.1.3\"><span class=\"toc-item-num\">4.1.3&nbsp;&nbsp;</span>Tipo booleano:</a></span></li><li><span><a href=\"#Tipo-complexo:\" data-toc-modified-id=\"Tipo-complexo:-4.1.4\"><span class=\"toc-item-num\">4.1.4&nbsp;&nbsp;</span>Tipo complexo:</a></span></li></ul></li><li><span><a href=\"#Strings\" data-toc-modified-id=\"Strings-4.2\"><span class=\"toc-item-num\">4.2&nbsp;&nbsp;</span>Strings</a></span><ul class=\"toc-item\"><li><span><a href=\"#Escape-sequences\" data-toc-modified-id=\"Escape-sequences-4.2.1\"><span class=\"toc-item-num\">4.2.1&nbsp;&nbsp;</span><em>Escape sequences</em></a></span></li><li><span><a href=\"#raw-strings\" data-toc-modified-id=\"raw-strings-4.2.2\"><span class=\"toc-item-num\">4.2.2&nbsp;&nbsp;</span><em>raw</em> strings</a></span></li></ul></li><li><span><a href=\"#Objetos\" data-toc-modified-id=\"Objetos-4.3\"><span class=\"toc-item-num\">4.3&nbsp;&nbsp;</span>Objetos</a></span><ul class=\"toc-item\"><li><span><a href=\"#Acessando-métodos-e-propriedades-internas\" data-toc-modified-id=\"Acessando-métodos-e-propriedades-internas-4.3.1\"><span class=\"toc-item-num\">4.3.1&nbsp;&nbsp;</span>Acessando métodos e propriedades internas</a></span></li><li><span><a href=\"#Métodos-exemplo-com-strings\" data-toc-modified-id=\"Métodos-exemplo-com-strings-4.3.2\"><span class=\"toc-item-num\">4.3.2&nbsp;&nbsp;</span>Métodos exemplo com strings</a></span></li></ul></li></ul></li></ul></div>"
   ]
  },
  {
   "cell_type": "markdown",
   "metadata": {},
   "source": [
    "# Hello world\n",
    "\n",
    "É praticamente uma regra que qualquer curso introdutório de programação mostre o mesmo exemplo: Como mostrar os caracteres \"Hello world!\" na tela. Este curso não será diferente. Para executar o conteúdo de uma cela no Jupyter Notebook, aperte CTRL+Enter, ou SHIFT+Enter para executar e criar uma nova cela abaixo."
   ]
  },
  {
   "cell_type": "code",
   "execution_count": 1,
   "metadata": {},
   "outputs": [
    {
     "name": "stdout",
     "output_type": "stream",
     "text": [
      "Hello world!\n",
      "\n",
      "Hello world!\n"
     ]
    }
   ],
   "source": [
    "print('Hello world!')\n",
    "print()\n",
    "print('Hello world!')"
   ]
  },
  {
   "cell_type": "markdown",
   "metadata": {},
   "source": [
    "Veja que o uso de aspas simples e duplas não faz diferença. Eu costumo utilizar sempre aspas simples, e somente troco para aspas duplas quando é necessário colocar aspas simples dentro da string. Por exemplo, \"Don't mention it\".\n",
    "\n",
    "Também, quando a função *print* foi chamada com nenhum argumento, ela imprimiu somente uma linha em branco. "
   ]
  },
  {
   "cell_type": "markdown",
   "metadata": {},
   "source": [
    "# Obtendo ajuda\n",
    "\n",
    "A função anterior é muito simples, mas quando trabalha com uma função mais complexa é bom saber como procurar ajuda (sem que seja eu kkkk).\n",
    "\n",
    "Em Jupyter Notebooks, se você apertar **Shift+Tab** dentro dos parênteses de uma função, aparecerá um balão de ajuda mostrando o que a função em especial pode chamar. Apertar Tab (com shift apertado) múltiplas vezes expande o conteúdo desse balão, até quatro vezes, onde uma janela aparece na parte debaixo da tela.\n",
    "\n",
    "Há muitas funções no Python, tanto fora quanto dentro de outros objetos. Para obter informações sobre essas funções, sobre objetos, utilize as funções **help** ou **?**.\n",
    "\n",
    "Também, você pode chamar a *docstring*, ou ajuda de uma função, apertando Shift+TAB várias vezes dentro dos parênteses da função."
   ]
  },
  {
   "cell_type": "code",
   "execution_count": 2,
   "metadata": {
    "scrolled": false
   },
   "outputs": [
    {
     "name": "stdout",
     "output_type": "stream",
     "text": [
      "Help on built-in function isdecimal:\n",
      "\n",
      "isdecimal(...) method of builtins.str instance\n",
      "    S.isdecimal() -> bool\n",
      "    \n",
      "    Return True if there are only decimal characters in S,\n",
      "    False otherwise.\n",
      "\n"
     ]
    }
   ],
   "source": [
    "help('1'.isdecimal)"
   ]
  },
  {
   "cell_type": "code",
   "execution_count": 3,
   "metadata": {
    "collapsed": true
   },
   "outputs": [],
   "source": [
    "?print"
   ]
  },
  {
   "cell_type": "markdown",
   "metadata": {},
   "source": [
    "A medida que você explora novos tipos, tenha em mente esses comandos. É uma maneira rápida e fácil de obter ajuda especificamente sobre uma função que você deseja utilizar."
   ]
  },
  {
   "cell_type": "markdown",
   "metadata": {},
   "source": [
    "# Diferencias importantes com o *Matlab*\n",
    "## Indexação\n",
    "No *Python* o indice dos vetores inicia no ** 0 ** e não no 1 como no *Matlab* \n",
    "\n",
    "## Orientação a objetos\n",
    "O python é uma linguagem completamente orientada a objetos. Por causa disso os códigos no python demoram mais. No entanto, tem livrarías como a do [INTEL](https://software.intel.com/en-us/distribution-for-python) que melhoram o tempo de processamento.\n",
    "\n",
    "## *keyword arguments*\n",
    "\n",
    "Argumentos de palavra chave, ou *keyword arguments*, são argumentos sempre **opcionais**, e que possuem um valor padrão. Eles devem necessariamente vir depois dos argumentos normais."
   ]
  },
  {
   "cell_type": "code",
   "execution_count": 4,
   "metadata": {},
   "outputs": [
    {
     "name": "stdout",
     "output_type": "stream",
     "text": [
      "Hello world!\n"
     ]
    }
   ],
   "source": [
    "print('Hello world', '!', sep='')"
   ]
  },
  {
   "cell_type": "markdown",
   "metadata": {},
   "source": [
    "Note o *kwarg* **sep**, que controle o(s) caracter(es) que separam os argumentos normais na função print. Seu valor padrão é um espaço, ' ', mas aqui esse valor padrão foi substituído por nada, '', então não há um espaço entre 'world' e '!'."
   ]
  },
  {
   "cell_type": "code",
   "execution_count": 5,
   "metadata": {},
   "outputs": [
    {
     "name": "stdout",
     "output_type": "stream",
     "text": [
      "abcdef\n"
     ]
    }
   ],
   "source": [
    "print('abc', end='')\n",
    "print('def')"
   ]
  },
  {
   "cell_type": "markdown",
   "metadata": {},
   "source": [
    "Este é um segundo exemplo de um *keyword argument*, desta vez trocando o caractere colocado no final *end* de uma string, de `\\n` para `''`. Geralmente, uma nova linha é colocada sempre após os comandos print.\n",
    "\n",
    "# Tipos de dados\n",
    "\n",
    "\n",
    "## Tipos numéricos (Extraido de [Wikipedia](https://pt.wikibooks.org/wiki/Python/Conceitos_b%C3%A1sicos/Tipos_e_operadores))\n",
    "Existem 4 tipos numéricos:\n",
    "\n",
    "* inteiro (int)\n",
    "* ponto flutuante (float)\n",
    "* booleano (bool)\n",
    "* complexo (complex)\n",
    "\n",
    "Suportam adição, subtração, multiplicação e divisão e também podem se relacionar.\n",
    "\n",
    "Mesmo os tipos não sendo declarados explicitamente, eles sempre irão assumir um tipo de dado, abaixo, exemplos de retornos de tipos:\n",
    "\n",
    "### Tipo inteiro:\n",
    "```python\n",
    ">>> a = 1\n",
    ">>> type(a)\n",
    "<type 'int'>\n",
    "```\n",
    "\n",
    "### Tipo ponto flutuante:\n",
    "```python\n",
    ">>> a = 1.0\n",
    ">>> type(a)\n",
    "<type 'float'>\n",
    "```\n",
    "\n",
    "### Tipo booleano:\n",
    "```python\n",
    ">>> a = True\n",
    ">>> type(a)\n",
    "<type 'bool'>\n",
    "```\n",
    "\n",
    "### Tipo complexo:\n",
    "```python\n",
    ">>> a = 4+3j\n",
    ">>> type(a)\n",
    "<type 'complex'>\n",
    "```\n",
    "\n",
    "E eles mudam de tipo dinamicamente por exemplo, a variável a:\n",
    "\n",
    "```python\n",
    ">>> a = 1\n",
    ">>> type(a)\n",
    "<type 'int'>\n",
    ">>> a = 1.0\n",
    ">>> type(a)\n",
    "<type 'float'>\n",
    ">>>\n",
    "```\n",
    "\n",
    "\n",
    "\n",
    "\n",
    "## Strings\n",
    "\n",
    "Strings são conjuntos imutáveis (não se preocupe com o termo agora) de caracteres. Python 3 utiliza, por padrão, o conjunto de caracteres *Unicode*, ou *UTF-8*. Isso significa que falantes de línguas como Português, que possuem diacríticos (á, à, ã, ç), podem facilmente utilizar strings com os caracteres nativos. Como já escrito, strings são sempre envolvidas por aspas simples ou duplas.\n",
    "\n",
    "### *Escape sequences*\n",
    "\n",
    "Um *escape sequence* é um conjunto de caracteres, geralmente precedidos por uma barra para a esquerda (\\\\) que possuem um significado especial. É bastante útil que você se familiarize com esses caracteres, pois eles podem ajudá-lo muito na hora de consertar arquivos de texto. \n",
    "\n",
    "    \\n: Cria uma nova linha\n",
    "    \\t: Cria um tab\n",
    "    \\r: Retorna ao início da linha\n",
    "    \\\\: Escreve a barra para a esquerda em si.\n",
    "\n",
    "O mais utilizado é `\\n`, mas é bom saber que esses códigos especiais existem. Veja o exemplo:"
   ]
  },
  {
   "cell_type": "code",
   "execution_count": 6,
   "metadata": {},
   "outputs": [
    {
     "name": "stdout",
     "output_type": "stream",
     "text": [
      "Hello\n",
      "world!\n"
     ]
    }
   ],
   "source": [
    "print('Hello\\nworld!')"
   ]
  },
  {
   "cell_type": "markdown",
   "metadata": {},
   "source": [
    "No lugar do espaço, foi colocado `'\\n'`, e isso causou que a linha fosse dividida em duas. Isso é fundamental para quem está utilizando um script que escreve um arquivo de texto, por exemplo.\n",
    "\n",
    "### *raw* strings\n",
    "\n",
    "Suponha que você deseja imprimir justamente a string `'Hello\\nworld!'`, sem separação de texto. Isso pode ser feito utilizando uma *raw string*, que é criada simplesmente colocando um *r* antes das aspas."
   ]
  },
  {
   "cell_type": "code",
   "execution_count": 7,
   "metadata": {},
   "outputs": [
    {
     "name": "stdout",
     "output_type": "stream",
     "text": [
      "Hello\\nworld!\n",
      "\\abc\n"
     ]
    }
   ],
   "source": [
    "print(r'Hello\\nworld!')\n",
    "print(r'\\abc')"
   ]
  },
  {
   "cell_type": "markdown",
   "metadata": {},
   "source": [
    "Caso você deseje escrever somente uma barra simples, é necessário fazer algo um pouco estranho: colocar duas barras. A primeira barra fala \"considere o próximo caracter como sendo especial\" e a segunda barra fala \"o caractere especial é uma barra mesmo, então use-a\". Com *raw strings*, pode ser utilizada somente uma barra. Isso será útil bastante no futuro, quando fizermos plots utilizando codigos matemáticos do estilo LaTeX para legendas, etc."
   ]
  },
  {
   "cell_type": "code",
   "execution_count": 8,
   "metadata": {},
   "outputs": [
    {
     "name": "stdout",
     "output_type": "stream",
     "text": [
      "ABC\\DEF\n",
      "ABC\\DEF\n"
     ]
    }
   ],
   "source": [
    "print('ABC\\\\DEF')\n",
    "print(r'ABC\\DEF')"
   ]
  },
  {
   "cell_type": "markdown",
   "metadata": {},
   "source": [
    "## Objetos\n",
    "\n",
    "Absolutamente **tudo** em Python é um objeto, que possui um tipo. E todo tipo possui um conjunto de *métodos*, isso é, funções, e *propriedades*, isso é, valores/variáveis, associadas a ele. É possível obter informações sobre um objeto utilizando o comando **dir**. Isso lista todas os métodos e propriedades do objeto. As propriedades que começam com (\\_\\_) são privadas e é melhor não mexer nelas, a não ser que você saiba o que está fazendo. As outras são públicas, e podem ser usadas como quiser."
   ]
  },
  {
   "cell_type": "code",
   "execution_count": 9,
   "metadata": {
    "scrolled": true
   },
   "outputs": [
    {
     "data": {
      "text/plain": [
       "['__add__',\n",
       " '__class__',\n",
       " '__contains__',\n",
       " '__delattr__',\n",
       " '__dir__',\n",
       " '__doc__',\n",
       " '__eq__',\n",
       " '__format__',\n",
       " '__ge__',\n",
       " '__getattribute__',\n",
       " '__getitem__',\n",
       " '__getnewargs__',\n",
       " '__gt__',\n",
       " '__hash__',\n",
       " '__init__',\n",
       " '__init_subclass__',\n",
       " '__iter__',\n",
       " '__le__',\n",
       " '__len__',\n",
       " '__lt__',\n",
       " '__mod__',\n",
       " '__mul__',\n",
       " '__ne__',\n",
       " '__new__',\n",
       " '__reduce__',\n",
       " '__reduce_ex__',\n",
       " '__repr__',\n",
       " '__rmod__',\n",
       " '__rmul__',\n",
       " '__setattr__',\n",
       " '__sizeof__',\n",
       " '__str__',\n",
       " '__subclasshook__',\n",
       " 'capitalize',\n",
       " 'casefold',\n",
       " 'center',\n",
       " 'count',\n",
       " 'encode',\n",
       " 'endswith',\n",
       " 'expandtabs',\n",
       " 'find',\n",
       " 'format',\n",
       " 'format_map',\n",
       " 'index',\n",
       " 'isalnum',\n",
       " 'isalpha',\n",
       " 'isdecimal',\n",
       " 'isdigit',\n",
       " 'isidentifier',\n",
       " 'islower',\n",
       " 'isnumeric',\n",
       " 'isprintable',\n",
       " 'isspace',\n",
       " 'istitle',\n",
       " 'isupper',\n",
       " 'join',\n",
       " 'ljust',\n",
       " 'lower',\n",
       " 'lstrip',\n",
       " 'maketrans',\n",
       " 'partition',\n",
       " 'replace',\n",
       " 'rfind',\n",
       " 'rindex',\n",
       " 'rjust',\n",
       " 'rpartition',\n",
       " 'rsplit',\n",
       " 'rstrip',\n",
       " 'split',\n",
       " 'splitlines',\n",
       " 'startswith',\n",
       " 'strip',\n",
       " 'swapcase',\n",
       " 'title',\n",
       " 'translate',\n",
       " 'upper',\n",
       " 'zfill']"
      ]
     },
     "execution_count": 9,
     "metadata": {},
     "output_type": "execute_result"
    }
   ],
   "source": [
    "# Obtém as propriedades da string 'Hello'\n",
    "dir('Hello')"
   ]
  },
  {
   "cell_type": "code",
   "execution_count": 10,
   "metadata": {},
   "outputs": [
    {
     "data": {
      "text/plain": [
       "['__call__',\n",
       " '__class__',\n",
       " '__delattr__',\n",
       " '__dir__',\n",
       " '__doc__',\n",
       " '__eq__',\n",
       " '__format__',\n",
       " '__ge__',\n",
       " '__getattribute__',\n",
       " '__gt__',\n",
       " '__hash__',\n",
       " '__init__',\n",
       " '__init_subclass__',\n",
       " '__le__',\n",
       " '__lt__',\n",
       " '__module__',\n",
       " '__name__',\n",
       " '__ne__',\n",
       " '__new__',\n",
       " '__qualname__',\n",
       " '__reduce__',\n",
       " '__reduce_ex__',\n",
       " '__repr__',\n",
       " '__self__',\n",
       " '__setattr__',\n",
       " '__sizeof__',\n",
       " '__str__',\n",
       " '__subclasshook__',\n",
       " '__text_signature__']"
      ]
     },
     "execution_count": 10,
     "metadata": {},
     "output_type": "execute_result"
    }
   ],
   "source": [
    "# Obtém as propriedades da função print\n",
    "dir(print)"
   ]
  },
  {
   "cell_type": "markdown",
   "metadata": {},
   "source": [
    "### Acessando métodos e propriedades internas\n",
    "\n",
    "Para acessar algum método ou propriedade interna de um objeto, utilize a notação ponto.\n",
    "\n",
    "    X.P\n",
    "    X.M()\n",
    "\n",
    "que basicamente significa:\n",
    "\n",
    "    do objeto X, pegue a propriedade P (um número, um nome, etc)\n",
    "    do objeto X, pegue a função/método M\n",
    "    \n",
    "Por exemplo, strings possuem vários métodos internos que são referentes às propriedades da string em questão. Por exemplo, a função interna ```isdecimal``` retorna ```True``` se todos os algarismos da string forem números, ou ```False``` se isso não for o caso."
   ]
  },
  {
   "cell_type": "code",
   "execution_count": 11,
   "metadata": {},
   "outputs": [
    {
     "name": "stdout",
     "output_type": "stream",
     "text": [
      "True\n",
      "False\n"
     ]
    }
   ],
   "source": [
    "print('1'.isdecimal())\n",
    "print('A1'.isdecimal())"
   ]
  },
  {
   "cell_type": "markdown",
   "metadata": {},
   "source": [
    "### Métodos exemplo com strings\n",
    "\n",
    "Alguns métodos que podem ser úteis para vocês no futuro cercano ao procesar os dados das simulações:"
   ]
  },
  {
   "cell_type": "code",
   "execution_count": 12,
   "metadata": {},
   "outputs": [
    {
     "name": "stdout",
     "output_type": "stream",
     "text": [
      "True\n",
      "False\n",
      "['Hello', 'world!']\n",
      "hello world!\n",
      "Hello world!\n",
      "Herro worrd!\n"
     ]
    }
   ],
   "source": [
    "print('Hello world!'.endswith('!'))\n",
    "print('Hello world!'.startswith('a'))\n",
    "print('Hello world!'.split(' '))\n",
    "print('HELLO WORLD!'.lower())\n",
    "print('Hello world!      '.rstrip())\n",
    "print('Hello world!'.replace('l','r'))"
   ]
  }
 ],
 "metadata": {
  "hide_input": false,
  "kernelspec": {
   "display_name": "Python 3",
   "language": "python",
   "name": "python3"
  },
  "language_info": {
   "codemirror_mode": {
    "name": "ipython",
    "version": 3
   },
   "file_extension": ".py",
   "mimetype": "text/x-python",
   "name": "python",
   "nbconvert_exporter": "python",
   "pygments_lexer": "ipython3",
   "version": "3.6.2"
  },
  "toc": {
   "base_numbering": 1,
   "nav_menu": {},
   "number_sections": true,
   "sideBar": true,
   "skip_h1_title": false,
   "title_cell": "Conteúdo",
   "title_sidebar": "Conteúdo",
   "toc_cell": true,
   "toc_position": {},
   "toc_section_display": true,
   "toc_window_display": false
  },
  "varInspector": {
   "cols": {
    "lenName": 16,
    "lenType": 16,
    "lenVar": 40
   },
   "kernels_config": {
    "python": {
     "delete_cmd_postfix": "",
     "delete_cmd_prefix": "del ",
     "library": "var_list.py",
     "varRefreshCmd": "print(var_dic_list())"
    },
    "r": {
     "delete_cmd_postfix": ") ",
     "delete_cmd_prefix": "rm(",
     "library": "var_list.r",
     "varRefreshCmd": "cat(var_dic_list()) "
    }
   },
   "types_to_exclude": [
    "module",
    "function",
    "builtin_function_or_method",
    "instance",
    "_Feature"
   ],
   "window_display": false
  }
 },
 "nbformat": 4,
 "nbformat_minor": 2
}
