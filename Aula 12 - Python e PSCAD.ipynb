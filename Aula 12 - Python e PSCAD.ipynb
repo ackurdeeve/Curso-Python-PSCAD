{
 "cells": [
  {
   "cell_type": "markdown",
   "metadata": {
    "toc": true
   },
   "source": [
    "<h1>Conteúdo<span class=\"tocSkip\"></span></h1>\n",
    "<div class=\"toc\"><ul class=\"toc-item\"><li><span><a href=\"#Instalação\" data-toc-modified-id=\"Instalação-1\"><span class=\"toc-item-num\">1&nbsp;&nbsp;</span>Instalação</a></span></li><li><span><a href=\"#Test-Inicial\" data-toc-modified-id=\"Test-Inicial-2\"><span class=\"toc-item-num\">2&nbsp;&nbsp;</span>Test Inicial</a></span></li><li><span><a href=\"#Automatizando-uma-simulação\" data-toc-modified-id=\"Automatizando-uma-simulação-3\"><span class=\"toc-item-num\">3&nbsp;&nbsp;</span>Automatizando uma simulação</a></span><ul class=\"toc-item\"><li><span><a href=\"#Configuração-inicial\" data-toc-modified-id=\"Configuração-inicial-3.1\"><span class=\"toc-item-num\">3.1&nbsp;&nbsp;</span>Configuração inicial</a></span></li><li><span><a href=\"#Obtendo-os-parâmetros-dos-elementos\" data-toc-modified-id=\"Obtendo-os-parâmetros-dos-elementos-3.2\"><span class=\"toc-item-num\">3.2&nbsp;&nbsp;</span>Obtendo os parâmetros dos elementos</a></span></li><li><span><a href=\"#Mudando-o-valor-dos-elementos\" data-toc-modified-id=\"Mudando-o-valor-dos-elementos-3.3\"><span class=\"toc-item-num\">3.3&nbsp;&nbsp;</span>Mudando o valor dos elementos</a></span></li><li><span><a href=\"#Tratamento-de-dados\" data-toc-modified-id=\"Tratamento-de-dados-3.4\"><span class=\"toc-item-num\">3.4&nbsp;&nbsp;</span>Tratamento de dados</a></span></li></ul></li></ul></div>"
   ]
  },
  {
   "cell_type": "markdown",
   "metadata": {},
   "source": [
    "# Instalação\n",
    "Ter instalado [Anaconda](https://www.anaconda.com/download/) na versão 3.6 de python  e  a [suite de automação do PSCAD](https://hvdc.ca/news-and-events/read,article/125/pscad-automation-with-scripting-is-now-available). \n",
    "\n",
    "Primeiro instalar Anaconda, e depois a libraria do [PSCAD](https://hvdc.ca/news-and-events/read,article/125/pscad-automation-with-scripting-is-now-available). Quando a libraria do PSCAD peça para insalar python e pywin não instalem.  \n",
    "\n",
    "# Test Inicial\n",
    "Depois de ter instalado tudo vão testar que funcione. Para isso estou enviando um arquivo de teste. O que vocês tem que fazer é o siguente:\n",
    "\n",
    "1. No explorador de windows escrever cmd para abrir o promt.\n",
    "2. Escrever cd \"ruta do arquivo de cada uno\"\n",
    "3. Escrever python PSCADAutomationTest.py\n",
    "\n",
    "Se todo estiver certo python vai abrir o PSCAD e rodar o arquivo de simulação. O arquivo é bem simples, só roda o arquivo para testar que todo ficou bem.\n",
    "\n",
    "Também podem ver que tudo está certo rodando a seguinte célula:"
   ]
  },
  {
   "cell_type": "code",
   "execution_count": null,
   "metadata": {
    "collapsed": true
   },
   "outputs": [],
   "source": [
    "# Import configuration file and automation library\n",
    "import sys, os\n",
    "sys.path.append(r\"C:\\Program Files (x86)\\PSCAD\\Automation\\Lib\\mhrc\")\n",
    "\n",
    "import automation.controller\n",
    "\n",
    "# Import other utilities to perform cool stuff\n",
    "from win32com.client.gencache import EnsureDispatch as Dispatch\n",
    "from automation.utilities.word import Word\n",
    "from automation.utilities.file import File\n",
    "import win32com.client\n",
    "import shutil\n",
    "\n",
    "#---------------------------------------------------------------------\n",
    "# Configuration\n",
    "#---------------------------------------------------------------------\n",
    "\n",
    "pscad_version = 'PSCAD 4.6.2 (x64)'\n",
    "fortran_version = 'GFortran 4.6.2'\n",
    "fortran_ext = '.gf46'\n",
    "\n",
    "# Working directory (use current directory)\n",
    "working_dir = os.getcwd() + \"\\\\\" + 'AutomationPSCAD' + \"\\\\\"\n",
    "\n",
    "#---------------------------------------------------------------------\n",
    "# Main script \n",
    "#---------------------------------------------------------------------\n",
    "\n",
    "project_name = 'automationTest'\n",
    "\n",
    "# Source and destination folders for output data\n",
    "src_folder = working_dir + project_name + fortran_ext\n",
    "dst_folder = working_dir + \"testAutomation_Output\"   \n",
    "\n",
    "# Get the Automation Controller that is used to launch PSCAD\n",
    "controller = automation.controller.Controller()\n",
    "\n",
    "# Launch PSCAD and silence all dialogue boxes\n",
    "pscad = controller.launch(pscad_version, options={'silence': True})\n",
    "\n",
    "# Set the compiler\n",
    "pscad.settings(fortran_version=fortran_version)\n",
    "\n",
    "# Load the project\n",
    "pscad.load([working_dir + project_name + \".pscx\"])\n",
    "project = pscad.project(project_name) \n",
    "project.focus()\n",
    "\n",
    "# Get the \"Main\" canvas\n",
    "main = project.user_canvas('Main')\n",
    "\n",
    "project.run()"
   ]
  },
  {
   "cell_type": "markdown",
   "metadata": {},
   "source": [
    "# Automatizando uma simulação\n",
    "## Configuração inicial\n",
    "## Obtendo os parâmetros dos elementos\n",
    "## Mudando o valor dos elementos\n",
    "## Tratamento de dados"
   ]
  }
 ],
 "metadata": {
  "kernelspec": {
   "display_name": "Python 3",
   "language": "python",
   "name": "python3"
  },
  "language_info": {
   "codemirror_mode": {
    "name": "ipython",
    "version": 3
   },
   "file_extension": ".py",
   "mimetype": "text/x-python",
   "name": "python",
   "nbconvert_exporter": "python",
   "pygments_lexer": "ipython3",
   "version": "3.6.2"
  },
  "toc": {
   "base_numbering": 1,
   "nav_menu": {},
   "number_sections": true,
   "sideBar": true,
   "skip_h1_title": false,
   "title_cell": "Conteúdo",
   "title_sidebar": "Conteúdo",
   "toc_cell": true,
   "toc_position": {
    "height": "calc(100% - 180px)",
    "left": "10px",
    "top": "150px",
    "width": "288px"
   },
   "toc_section_display": true,
   "toc_window_display": true
  },
  "varInspector": {
   "cols": {
    "lenName": 16,
    "lenType": 16,
    "lenVar": 40
   },
   "kernels_config": {
    "python": {
     "delete_cmd_postfix": "",
     "delete_cmd_prefix": "del ",
     "library": "var_list.py",
     "varRefreshCmd": "print(var_dic_list())"
    },
    "r": {
     "delete_cmd_postfix": ") ",
     "delete_cmd_prefix": "rm(",
     "library": "var_list.r",
     "varRefreshCmd": "cat(var_dic_list()) "
    }
   },
   "types_to_exclude": [
    "module",
    "function",
    "builtin_function_or_method",
    "instance",
    "_Feature"
   ],
   "window_display": false
  }
 },
 "nbformat": 4,
 "nbformat_minor": 2
}
